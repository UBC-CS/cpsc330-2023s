{
 "cells": [
  {
   "cell_type": "markdown",
   "metadata": {
    "slideshow": {
     "slide_type": "slide"
    }
   },
   "source": [
    "![](img/330-banner.png)"
   ]
  },
  {
   "cell_type": "markdown",
   "metadata": {
    "slideshow": {
     "slide_type": "-"
    }
   },
   "source": [
    "# Lecture 9: Classification Metrics\n",
    "\n",
    "UBC 2023 Summer\n",
    "\n",
    "Instructor: Mehrdad Oveisi"
   ]
  },
  {
   "cell_type": "markdown",
   "metadata": {
    "slideshow": {
     "slide_type": "skip"
    }
   },
   "source": [
    "## Imports"
   ]
  },
  {
   "cell_type": "code",
   "execution_count": 1,
   "metadata": {
    "execution": {
     "iopub.execute_input": "2023-05-30T08:41:42.290437Z",
     "iopub.status.busy": "2023-05-30T08:41:42.290086Z",
     "iopub.status.idle": "2023-05-30T08:41:46.702766Z",
     "shell.execute_reply": "2023-05-30T08:41:46.700588Z",
     "shell.execute_reply.started": "2023-05-30T08:41:42.290412Z"
    },
    "slideshow": {
     "slide_type": "skip"
    }
   },
   "outputs": [],
   "source": [
    "import os\n",
    "import sys\n",
    "\n",
    "sys.path.append(\"code/.\")\n",
    "\n",
    "import IPython\n",
    "import matplotlib.pyplot as plt\n",
    "import mglearn\n",
    "import numpy as np\n",
    "import pandas as pd\n",
    "from IPython.display import HTML, display\n",
    "from plotting_functions import *\n",
    "from sklearn.dummy import DummyClassifier\n",
    "from sklearn.linear_model import LogisticRegression\n",
    "from sklearn.model_selection import cross_val_score, cross_validate, train_test_split\n",
    "from sklearn.pipeline import Pipeline, make_pipeline\n",
    "from sklearn.preprocessing import StandardScaler\n",
    "from utils import *\n",
    "\n",
    "%matplotlib inline\n",
    "pd.set_option(\"display.max_colwidth\", 200)\n",
    "\n",
    "from IPython.display import Image"
   ]
  },
  {
   "cell_type": "code",
   "execution_count": 2,
   "metadata": {
    "execution": {
     "iopub.execute_input": "2023-05-30T08:41:46.707143Z",
     "iopub.status.busy": "2023-05-30T08:41:46.705110Z",
     "iopub.status.idle": "2023-05-30T08:41:46.712383Z",
     "shell.execute_reply": "2023-05-30T08:41:46.711101Z",
     "shell.execute_reply.started": "2023-05-30T08:41:46.707114Z"
    },
    "slideshow": {
     "slide_type": "skip"
    }
   },
   "outputs": [],
   "source": [
    "# Changing global matplotlib settings for confusion matrix.\n",
    "plt.rcParams[\"xtick.labelsize\"] = 18\n",
    "plt.rcParams[\"ytick.labelsize\"] = 18"
   ]
  },
  {
   "cell_type": "markdown",
   "metadata": {
    "slideshow": {
     "slide_type": "skip"
    }
   },
   "source": [
    "## Learning outcomes \n",
    "\n",
    "From this lecture, students are expected to be able to:\n",
    "\n",
    "- Explain why accuracy is not always the best metric in ML.\n",
    "- Explain components of a confusion matrix. \n",
    "- Define precision, recall, and f1-score and use them to evaluate different classifiers. \n",
    "- Broadly explain macro-average, weighted average.\n",
    "- Interpret and use precision-recall curves. \n",
    "- Explain average precision score.\n",
    "- Interpret and use ROC curves and ROC AUC using `scikit-learn`.  \n",
    "- Identify whether there is class imbalance and whether you need to deal with it.\n",
    "- Explain and use `class_weight` to deal with data imbalance."
   ]
  },
  {
   "cell_type": "markdown",
   "metadata": {
    "slideshow": {
     "slide_type": "skip"
    }
   },
   "source": [
    "<br><br><br><br>"
   ]
  },
  {
   "cell_type": "markdown",
   "metadata": {
    "slideshow": {
     "slide_type": "slide"
    }
   },
   "source": [
    "## Evaluation metrics for binary classification: Motivation "
   ]
  },
  {
   "cell_type": "markdown",
   "metadata": {
    "slideshow": {
     "slide_type": "slide"
    }
   },
   "source": [
    "### Dataset for demonstration \n",
    "\n",
    "- Let's classify fraudulent and non-fraudulent transactions using Kaggle's [Credit Card Fraud Detection](https://www.kaggle.com/mlg-ulb/creditcardfraud) data set."
   ]
  },
  {
   "cell_type": "code",
   "execution_count": 3,
   "metadata": {
    "execution": {
     "iopub.execute_input": "2023-05-30T08:41:46.714997Z",
     "iopub.status.busy": "2023-05-30T08:41:46.713648Z",
     "iopub.status.idle": "2023-05-30T08:41:51.589986Z",
     "shell.execute_reply": "2023-05-30T08:41:51.588748Z",
     "shell.execute_reply.started": "2023-05-30T08:41:46.714958Z"
    },
    "slideshow": {
     "slide_type": "-"
    }
   },
   "outputs": [
    {
     "data": {
      "text/html": [
       "<div>\n",
       "<style scoped>\n",
       "    .dataframe tbody tr th:only-of-type {\n",
       "        vertical-align: middle;\n",
       "    }\n",
       "\n",
       "    .dataframe tbody tr th {\n",
       "        vertical-align: top;\n",
       "    }\n",
       "\n",
       "    .dataframe thead th {\n",
       "        text-align: right;\n",
       "    }\n",
       "</style>\n",
       "<table border=\"1\" class=\"dataframe\">\n",
       "  <thead>\n",
       "    <tr style=\"text-align: right;\">\n",
       "      <th></th>\n",
       "      <th>Time</th>\n",
       "      <th>V1</th>\n",
       "      <th>V2</th>\n",
       "      <th>V3</th>\n",
       "      <th>V4</th>\n",
       "      <th>V5</th>\n",
       "      <th>V6</th>\n",
       "      <th>V7</th>\n",
       "      <th>V8</th>\n",
       "      <th>V9</th>\n",
       "      <th>...</th>\n",
       "      <th>V21</th>\n",
       "      <th>V22</th>\n",
       "      <th>V23</th>\n",
       "      <th>V24</th>\n",
       "      <th>V25</th>\n",
       "      <th>V26</th>\n",
       "      <th>V27</th>\n",
       "      <th>V28</th>\n",
       "      <th>Amount</th>\n",
       "      <th>Class</th>\n",
       "    </tr>\n",
       "  </thead>\n",
       "  <tbody>\n",
       "    <tr>\n",
       "      <th>64454</th>\n",
       "      <td>51150.0</td>\n",
       "      <td>-3.538816</td>\n",
       "      <td>3.481893</td>\n",
       "      <td>-1.827130</td>\n",
       "      <td>-0.573050</td>\n",
       "      <td>2.644106</td>\n",
       "      <td>-0.340988</td>\n",
       "      <td>2.102135</td>\n",
       "      <td>-2.939006</td>\n",
       "      <td>2.578654</td>\n",
       "      <td>...</td>\n",
       "      <td>0.530978</td>\n",
       "      <td>-0.860677</td>\n",
       "      <td>-0.201810</td>\n",
       "      <td>-1.719747</td>\n",
       "      <td>0.729143</td>\n",
       "      <td>-0.547993</td>\n",
       "      <td>-0.023636</td>\n",
       "      <td>-0.454966</td>\n",
       "      <td>1.00</td>\n",
       "      <td>0</td>\n",
       "    </tr>\n",
       "    <tr>\n",
       "      <th>37906</th>\n",
       "      <td>39163.0</td>\n",
       "      <td>-0.363913</td>\n",
       "      <td>0.853399</td>\n",
       "      <td>1.648195</td>\n",
       "      <td>1.118934</td>\n",
       "      <td>0.100882</td>\n",
       "      <td>0.423852</td>\n",
       "      <td>0.472790</td>\n",
       "      <td>-0.972440</td>\n",
       "      <td>0.033833</td>\n",
       "      <td>...</td>\n",
       "      <td>0.687055</td>\n",
       "      <td>-0.094586</td>\n",
       "      <td>0.121531</td>\n",
       "      <td>0.146830</td>\n",
       "      <td>-0.944092</td>\n",
       "      <td>-0.558564</td>\n",
       "      <td>-0.186814</td>\n",
       "      <td>-0.257103</td>\n",
       "      <td>18.49</td>\n",
       "      <td>0</td>\n",
       "    </tr>\n",
       "    <tr>\n",
       "      <th>79378</th>\n",
       "      <td>57994.0</td>\n",
       "      <td>1.193021</td>\n",
       "      <td>-0.136714</td>\n",
       "      <td>0.622612</td>\n",
       "      <td>0.780864</td>\n",
       "      <td>-0.823511</td>\n",
       "      <td>-0.706444</td>\n",
       "      <td>-0.206073</td>\n",
       "      <td>-0.016918</td>\n",
       "      <td>0.781531</td>\n",
       "      <td>...</td>\n",
       "      <td>-0.310405</td>\n",
       "      <td>-0.842028</td>\n",
       "      <td>0.085477</td>\n",
       "      <td>0.366005</td>\n",
       "      <td>0.254443</td>\n",
       "      <td>0.290002</td>\n",
       "      <td>-0.036764</td>\n",
       "      <td>0.015039</td>\n",
       "      <td>23.74</td>\n",
       "      <td>0</td>\n",
       "    </tr>\n",
       "    <tr>\n",
       "      <th>245686</th>\n",
       "      <td>152859.0</td>\n",
       "      <td>1.604032</td>\n",
       "      <td>-0.808208</td>\n",
       "      <td>-1.594982</td>\n",
       "      <td>0.200475</td>\n",
       "      <td>0.502985</td>\n",
       "      <td>0.832370</td>\n",
       "      <td>-0.034071</td>\n",
       "      <td>0.234040</td>\n",
       "      <td>0.550616</td>\n",
       "      <td>...</td>\n",
       "      <td>0.519029</td>\n",
       "      <td>1.429217</td>\n",
       "      <td>-0.139322</td>\n",
       "      <td>-1.293663</td>\n",
       "      <td>0.037785</td>\n",
       "      <td>0.061206</td>\n",
       "      <td>0.005387</td>\n",
       "      <td>-0.057296</td>\n",
       "      <td>156.52</td>\n",
       "      <td>0</td>\n",
       "    </tr>\n",
       "    <tr>\n",
       "      <th>60943</th>\n",
       "      <td>49575.0</td>\n",
       "      <td>-2.669614</td>\n",
       "      <td>-2.734385</td>\n",
       "      <td>0.662450</td>\n",
       "      <td>-0.059077</td>\n",
       "      <td>3.346850</td>\n",
       "      <td>-2.549682</td>\n",
       "      <td>-1.430571</td>\n",
       "      <td>-0.118450</td>\n",
       "      <td>0.469383</td>\n",
       "      <td>...</td>\n",
       "      <td>-0.228329</td>\n",
       "      <td>-0.370643</td>\n",
       "      <td>-0.211544</td>\n",
       "      <td>-0.300837</td>\n",
       "      <td>-1.174590</td>\n",
       "      <td>0.573818</td>\n",
       "      <td>0.388023</td>\n",
       "      <td>0.161782</td>\n",
       "      <td>57.50</td>\n",
       "      <td>0</td>\n",
       "    </tr>\n",
       "  </tbody>\n",
       "</table>\n",
       "<p>5 rows × 31 columns</p>\n",
       "</div>"
      ],
      "text/plain": [
       "            Time        V1        V2        V3        V4        V5        V6  \\\n",
       "64454    51150.0 -3.538816  3.481893 -1.827130 -0.573050  2.644106 -0.340988   \n",
       "37906    39163.0 -0.363913  0.853399  1.648195  1.118934  0.100882  0.423852   \n",
       "79378    57994.0  1.193021 -0.136714  0.622612  0.780864 -0.823511 -0.706444   \n",
       "245686  152859.0  1.604032 -0.808208 -1.594982  0.200475  0.502985  0.832370   \n",
       "60943    49575.0 -2.669614 -2.734385  0.662450 -0.059077  3.346850 -2.549682   \n",
       "\n",
       "              V7        V8        V9  ...       V21       V22       V23  \\\n",
       "64454   2.102135 -2.939006  2.578654  ...  0.530978 -0.860677 -0.201810   \n",
       "37906   0.472790 -0.972440  0.033833  ...  0.687055 -0.094586  0.121531   \n",
       "79378  -0.206073 -0.016918  0.781531  ... -0.310405 -0.842028  0.085477   \n",
       "245686 -0.034071  0.234040  0.550616  ...  0.519029  1.429217 -0.139322   \n",
       "60943  -1.430571 -0.118450  0.469383  ... -0.228329 -0.370643 -0.211544   \n",
       "\n",
       "             V24       V25       V26       V27       V28  Amount  Class  \n",
       "64454  -1.719747  0.729143 -0.547993 -0.023636 -0.454966    1.00      0  \n",
       "37906   0.146830 -0.944092 -0.558564 -0.186814 -0.257103   18.49      0  \n",
       "79378   0.366005  0.254443  0.290002 -0.036764  0.015039   23.74      0  \n",
       "245686 -1.293663  0.037785  0.061206  0.005387 -0.057296  156.52      0  \n",
       "60943  -0.300837 -1.174590  0.573818  0.388023  0.161782   57.50      0  \n",
       "\n",
       "[5 rows x 31 columns]"
      ]
     },
     "execution_count": 3,
     "metadata": {},
     "output_type": "execute_result"
    }
   ],
   "source": [
    "cc_df = pd.read_csv(\"data/creditcard.csv\", encoding=\"latin-1\")\n",
    "train_df, test_df = train_test_split(cc_df, test_size=0.3, random_state=111)\n",
    "train_df.head()"
   ]
  },
  {
   "cell_type": "code",
   "execution_count": 4,
   "metadata": {
    "execution": {
     "iopub.execute_input": "2023-05-30T08:41:51.592331Z",
     "iopub.status.busy": "2023-05-30T08:41:51.591794Z",
     "iopub.status.idle": "2023-05-30T08:41:51.601951Z",
     "shell.execute_reply": "2023-05-30T08:41:51.600017Z",
     "shell.execute_reply.started": "2023-05-30T08:41:51.592293Z"
    },
    "slideshow": {
     "slide_type": "slide"
    }
   },
   "outputs": [
    {
     "data": {
      "text/plain": [
       "(199364, 31)"
      ]
     },
     "execution_count": 4,
     "metadata": {},
     "output_type": "execute_result"
    }
   ],
   "source": [
    "train_df.shape"
   ]
  },
  {
   "cell_type": "markdown",
   "metadata": {
    "tags": []
   },
   "source": [
    "- Good size dataset \n",
    "- For confidentially reasons, it only provides transformed features with PCA, which is a popular dimensionality reduction technique. "
   ]
  },
  {
   "cell_type": "markdown",
   "metadata": {
    "slideshow": {
     "slide_type": "slide"
    }
   },
   "source": [
    "### Exploratory Data Analysis (EDA)"
   ]
  },
  {
   "cell_type": "code",
   "execution_count": 5,
   "metadata": {
    "execution": {
     "iopub.execute_input": "2023-05-30T08:41:51.603959Z",
     "iopub.status.busy": "2023-05-30T08:41:51.603530Z",
     "iopub.status.idle": "2023-05-30T08:41:51.631445Z",
     "shell.execute_reply": "2023-05-30T08:41:51.630377Z",
     "shell.execute_reply.started": "2023-05-30T08:41:51.603927Z"
    },
    "slideshow": {
     "slide_type": "-"
    }
   },
   "outputs": [
    {
     "name": "stdout",
     "output_type": "stream",
     "text": [
      "<class 'pandas.core.frame.DataFrame'>\n",
      "Int64Index: 199364 entries, 64454 to 129900\n",
      "Data columns (total 31 columns):\n",
      " #   Column  Non-Null Count   Dtype  \n",
      "---  ------  --------------   -----  \n",
      " 0   Time    199364 non-null  float64\n",
      " 1   V1      199364 non-null  float64\n",
      " 2   V2      199364 non-null  float64\n",
      " 3   V3      199364 non-null  float64\n",
      " 4   V4      199364 non-null  float64\n",
      " 5   V5      199364 non-null  float64\n",
      " 6   V6      199364 non-null  float64\n",
      " 7   V7      199364 non-null  float64\n",
      " 8   V8      199364 non-null  float64\n",
      " 9   V9      199364 non-null  float64\n",
      " 10  V10     199364 non-null  float64\n",
      " 11  V11     199364 non-null  float64\n",
      " 12  V12     199364 non-null  float64\n",
      " 13  V13     199364 non-null  float64\n",
      " 14  V14     199364 non-null  float64\n",
      " 15  V15     199364 non-null  float64\n",
      " 16  V16     199364 non-null  float64\n",
      " 17  V17     199364 non-null  float64\n",
      " 18  V18     199364 non-null  float64\n",
      " 19  V19     199364 non-null  float64\n",
      " 20  V20     199364 non-null  float64\n",
      " 21  V21     199364 non-null  float64\n",
      " 22  V22     199364 non-null  float64\n",
      " 23  V23     199364 non-null  float64\n",
      " 24  V24     199364 non-null  float64\n",
      " 25  V25     199364 non-null  float64\n",
      " 26  V26     199364 non-null  float64\n",
      " 27  V27     199364 non-null  float64\n",
      " 28  V28     199364 non-null  float64\n",
      " 29  Amount  199364 non-null  float64\n",
      " 30  Class   199364 non-null  int64  \n",
      "dtypes: float64(30), int64(1)\n",
      "memory usage: 48.7 MB\n"
     ]
    }
   ],
   "source": [
    "train_df.info()"
   ]
  },
  {
   "cell_type": "code",
   "execution_count": 6,
   "metadata": {
    "execution": {
     "iopub.execute_input": "2023-05-30T08:41:51.632936Z",
     "iopub.status.busy": "2023-05-30T08:41:51.632645Z",
     "iopub.status.idle": "2023-05-30T08:41:52.082116Z",
     "shell.execute_reply": "2023-05-30T08:41:52.080600Z",
     "shell.execute_reply.started": "2023-05-30T08:41:51.632909Z"
    },
    "slideshow": {
     "slide_type": "slide"
    },
    "tags": []
   },
   "outputs": [
    {
     "data": {
      "text/html": [
       "<div>\n",
       "<style scoped>\n",
       "    .dataframe tbody tr th:only-of-type {\n",
       "        vertical-align: middle;\n",
       "    }\n",
       "\n",
       "    .dataframe tbody tr th {\n",
       "        vertical-align: top;\n",
       "    }\n",
       "\n",
       "    .dataframe thead th {\n",
       "        text-align: right;\n",
       "    }\n",
       "</style>\n",
       "<table border=\"1\" class=\"dataframe\">\n",
       "  <thead>\n",
       "    <tr style=\"text-align: right;\">\n",
       "      <th></th>\n",
       "      <th>Time</th>\n",
       "      <th>V1</th>\n",
       "      <th>V2</th>\n",
       "      <th>V3</th>\n",
       "      <th>V4</th>\n",
       "      <th>V5</th>\n",
       "      <th>V6</th>\n",
       "      <th>V7</th>\n",
       "      <th>V8</th>\n",
       "      <th>V9</th>\n",
       "      <th>...</th>\n",
       "      <th>V21</th>\n",
       "      <th>V22</th>\n",
       "      <th>V23</th>\n",
       "      <th>V24</th>\n",
       "      <th>V25</th>\n",
       "      <th>V26</th>\n",
       "      <th>V27</th>\n",
       "      <th>V28</th>\n",
       "      <th>Amount</th>\n",
       "      <th>Class</th>\n",
       "    </tr>\n",
       "  </thead>\n",
       "  <tbody>\n",
       "    <tr>\n",
       "      <th>count</th>\n",
       "      <td>199364.000000</td>\n",
       "      <td>199364.000000</td>\n",
       "      <td>199364.000000</td>\n",
       "      <td>199364.000000</td>\n",
       "      <td>199364.000000</td>\n",
       "      <td>199364.000000</td>\n",
       "      <td>199364.000000</td>\n",
       "      <td>199364.000000</td>\n",
       "      <td>199364.000000</td>\n",
       "      <td>199364.000000</td>\n",
       "      <td>...</td>\n",
       "      <td>199364.000000</td>\n",
       "      <td>199364.000000</td>\n",
       "      <td>199364.000000</td>\n",
       "      <td>199364.000000</td>\n",
       "      <td>199364.000000</td>\n",
       "      <td>199364.000000</td>\n",
       "      <td>199364.000000</td>\n",
       "      <td>199364.000000</td>\n",
       "      <td>199364.000000</td>\n",
       "      <td>199364.000000</td>\n",
       "    </tr>\n",
       "    <tr>\n",
       "      <th>mean</th>\n",
       "      <td>94888.815669</td>\n",
       "      <td>0.000492</td>\n",
       "      <td>-0.000726</td>\n",
       "      <td>0.000927</td>\n",
       "      <td>0.000630</td>\n",
       "      <td>0.000036</td>\n",
       "      <td>0.000011</td>\n",
       "      <td>-0.001286</td>\n",
       "      <td>-0.002889</td>\n",
       "      <td>-0.000891</td>\n",
       "      <td>...</td>\n",
       "      <td>0.001205</td>\n",
       "      <td>0.000155</td>\n",
       "      <td>-0.000198</td>\n",
       "      <td>0.000113</td>\n",
       "      <td>0.000235</td>\n",
       "      <td>0.000312</td>\n",
       "      <td>-0.000366</td>\n",
       "      <td>0.000227</td>\n",
       "      <td>88.164679</td>\n",
       "      <td>0.001700</td>\n",
       "    </tr>\n",
       "    <tr>\n",
       "      <th>std</th>\n",
       "      <td>47491.435489</td>\n",
       "      <td>1.959870</td>\n",
       "      <td>1.645519</td>\n",
       "      <td>1.505335</td>\n",
       "      <td>1.413958</td>\n",
       "      <td>1.361718</td>\n",
       "      <td>1.327188</td>\n",
       "      <td>1.210001</td>\n",
       "      <td>1.214852</td>\n",
       "      <td>1.096927</td>\n",
       "      <td>...</td>\n",
       "      <td>0.748510</td>\n",
       "      <td>0.726634</td>\n",
       "      <td>0.628139</td>\n",
       "      <td>0.605060</td>\n",
       "      <td>0.520857</td>\n",
       "      <td>0.481960</td>\n",
       "      <td>0.401541</td>\n",
       "      <td>0.333139</td>\n",
       "      <td>238.925768</td>\n",
       "      <td>0.041201</td>\n",
       "    </tr>\n",
       "    <tr>\n",
       "      <th>min</th>\n",
       "      <td>0.000000</td>\n",
       "      <td>-56.407510</td>\n",
       "      <td>-72.715728</td>\n",
       "      <td>-31.813586</td>\n",
       "      <td>-5.683171</td>\n",
       "      <td>-42.147898</td>\n",
       "      <td>-26.160506</td>\n",
       "      <td>-43.557242</td>\n",
       "      <td>-73.216718</td>\n",
       "      <td>-13.320155</td>\n",
       "      <td>...</td>\n",
       "      <td>-34.830382</td>\n",
       "      <td>-8.887017</td>\n",
       "      <td>-44.807735</td>\n",
       "      <td>-2.824849</td>\n",
       "      <td>-10.295397</td>\n",
       "      <td>-2.241620</td>\n",
       "      <td>-22.565679</td>\n",
       "      <td>-11.710896</td>\n",
       "      <td>0.000000</td>\n",
       "      <td>0.000000</td>\n",
       "    </tr>\n",
       "    <tr>\n",
       "      <th>25%</th>\n",
       "      <td>54240.000000</td>\n",
       "      <td>-0.918124</td>\n",
       "      <td>-0.600193</td>\n",
       "      <td>-0.892476</td>\n",
       "      <td>-0.847178</td>\n",
       "      <td>-0.691241</td>\n",
       "      <td>-0.768512</td>\n",
       "      <td>-0.553979</td>\n",
       "      <td>-0.209746</td>\n",
       "      <td>-0.642965</td>\n",
       "      <td>...</td>\n",
       "      <td>-0.227836</td>\n",
       "      <td>-0.541795</td>\n",
       "      <td>-0.162330</td>\n",
       "      <td>-0.354604</td>\n",
       "      <td>-0.317761</td>\n",
       "      <td>-0.326730</td>\n",
       "      <td>-0.070929</td>\n",
       "      <td>-0.052819</td>\n",
       "      <td>5.640000</td>\n",
       "      <td>0.000000</td>\n",
       "    </tr>\n",
       "    <tr>\n",
       "      <th>50%</th>\n",
       "      <td>84772.500000</td>\n",
       "      <td>0.018854</td>\n",
       "      <td>0.065463</td>\n",
       "      <td>0.179080</td>\n",
       "      <td>-0.019531</td>\n",
       "      <td>-0.056703</td>\n",
       "      <td>-0.275290</td>\n",
       "      <td>0.040497</td>\n",
       "      <td>0.022039</td>\n",
       "      <td>-0.052607</td>\n",
       "      <td>...</td>\n",
       "      <td>-0.029146</td>\n",
       "      <td>0.007666</td>\n",
       "      <td>-0.011678</td>\n",
       "      <td>0.041031</td>\n",
       "      <td>0.016587</td>\n",
       "      <td>-0.052790</td>\n",
       "      <td>0.001239</td>\n",
       "      <td>0.011234</td>\n",
       "      <td>22.000000</td>\n",
       "      <td>0.000000</td>\n",
       "    </tr>\n",
       "    <tr>\n",
       "      <th>75%</th>\n",
       "      <td>139349.250000</td>\n",
       "      <td>1.315630</td>\n",
       "      <td>0.803617</td>\n",
       "      <td>1.028023</td>\n",
       "      <td>0.744201</td>\n",
       "      <td>0.610407</td>\n",
       "      <td>0.399827</td>\n",
       "      <td>0.570449</td>\n",
       "      <td>0.327408</td>\n",
       "      <td>0.597326</td>\n",
       "      <td>...</td>\n",
       "      <td>0.186899</td>\n",
       "      <td>0.529210</td>\n",
       "      <td>0.146809</td>\n",
       "      <td>0.439209</td>\n",
       "      <td>0.351366</td>\n",
       "      <td>0.242169</td>\n",
       "      <td>0.090453</td>\n",
       "      <td>0.078052</td>\n",
       "      <td>77.150000</td>\n",
       "      <td>0.000000</td>\n",
       "    </tr>\n",
       "    <tr>\n",
       "      <th>max</th>\n",
       "      <td>172792.000000</td>\n",
       "      <td>2.451888</td>\n",
       "      <td>22.057729</td>\n",
       "      <td>9.382558</td>\n",
       "      <td>16.491217</td>\n",
       "      <td>34.801666</td>\n",
       "      <td>23.917837</td>\n",
       "      <td>44.054461</td>\n",
       "      <td>19.587773</td>\n",
       "      <td>15.594995</td>\n",
       "      <td>...</td>\n",
       "      <td>27.202839</td>\n",
       "      <td>10.503090</td>\n",
       "      <td>22.083545</td>\n",
       "      <td>4.022866</td>\n",
       "      <td>6.070850</td>\n",
       "      <td>3.517346</td>\n",
       "      <td>12.152401</td>\n",
       "      <td>33.847808</td>\n",
       "      <td>11898.090000</td>\n",
       "      <td>1.000000</td>\n",
       "    </tr>\n",
       "  </tbody>\n",
       "</table>\n",
       "<p>8 rows × 31 columns</p>\n",
       "</div>"
      ],
      "text/plain": [
       "                Time             V1             V2             V3  \\\n",
       "count  199364.000000  199364.000000  199364.000000  199364.000000   \n",
       "mean    94888.815669       0.000492      -0.000726       0.000927   \n",
       "std     47491.435489       1.959870       1.645519       1.505335   \n",
       "min         0.000000     -56.407510     -72.715728     -31.813586   \n",
       "25%     54240.000000      -0.918124      -0.600193      -0.892476   \n",
       "50%     84772.500000       0.018854       0.065463       0.179080   \n",
       "75%    139349.250000       1.315630       0.803617       1.028023   \n",
       "max    172792.000000       2.451888      22.057729       9.382558   \n",
       "\n",
       "                  V4             V5             V6             V7  \\\n",
       "count  199364.000000  199364.000000  199364.000000  199364.000000   \n",
       "mean        0.000630       0.000036       0.000011      -0.001286   \n",
       "std         1.413958       1.361718       1.327188       1.210001   \n",
       "min        -5.683171     -42.147898     -26.160506     -43.557242   \n",
       "25%        -0.847178      -0.691241      -0.768512      -0.553979   \n",
       "50%        -0.019531      -0.056703      -0.275290       0.040497   \n",
       "75%         0.744201       0.610407       0.399827       0.570449   \n",
       "max        16.491217      34.801666      23.917837      44.054461   \n",
       "\n",
       "                  V8             V9  ...            V21            V22  \\\n",
       "count  199364.000000  199364.000000  ...  199364.000000  199364.000000   \n",
       "mean       -0.002889      -0.000891  ...       0.001205       0.000155   \n",
       "std         1.214852       1.096927  ...       0.748510       0.726634   \n",
       "min       -73.216718     -13.320155  ...     -34.830382      -8.887017   \n",
       "25%        -0.209746      -0.642965  ...      -0.227836      -0.541795   \n",
       "50%         0.022039      -0.052607  ...      -0.029146       0.007666   \n",
       "75%         0.327408       0.597326  ...       0.186899       0.529210   \n",
       "max        19.587773      15.594995  ...      27.202839      10.503090   \n",
       "\n",
       "                 V23            V24            V25            V26  \\\n",
       "count  199364.000000  199364.000000  199364.000000  199364.000000   \n",
       "mean       -0.000198       0.000113       0.000235       0.000312   \n",
       "std         0.628139       0.605060       0.520857       0.481960   \n",
       "min       -44.807735      -2.824849     -10.295397      -2.241620   \n",
       "25%        -0.162330      -0.354604      -0.317761      -0.326730   \n",
       "50%        -0.011678       0.041031       0.016587      -0.052790   \n",
       "75%         0.146809       0.439209       0.351366       0.242169   \n",
       "max        22.083545       4.022866       6.070850       3.517346   \n",
       "\n",
       "                 V27            V28         Amount          Class  \n",
       "count  199364.000000  199364.000000  199364.000000  199364.000000  \n",
       "mean       -0.000366       0.000227      88.164679       0.001700  \n",
       "std         0.401541       0.333139     238.925768       0.041201  \n",
       "min       -22.565679     -11.710896       0.000000       0.000000  \n",
       "25%        -0.070929      -0.052819       5.640000       0.000000  \n",
       "50%         0.001239       0.011234      22.000000       0.000000  \n",
       "75%         0.090453       0.078052      77.150000       0.000000  \n",
       "max        12.152401      33.847808   11898.090000       1.000000  \n",
       "\n",
       "[8 rows x 31 columns]"
      ]
     },
     "execution_count": 6,
     "metadata": {},
     "output_type": "execute_result"
    }
   ],
   "source": [
    "train_df.describe()"
   ]
  },
  {
   "cell_type": "code",
   "execution_count": 7,
   "metadata": {
    "execution": {
     "iopub.execute_input": "2023-05-30T08:41:52.087042Z",
     "iopub.status.busy": "2023-05-30T08:41:52.086606Z",
     "iopub.status.idle": "2023-05-30T08:41:52.570196Z",
     "shell.execute_reply": "2023-05-30T08:41:52.568887Z",
     "shell.execute_reply.started": "2023-05-30T08:41:52.087012Z"
    },
    "slideshow": {
     "slide_type": "slide"
    },
    "tags": []
   },
   "outputs": [
    {
     "data": {
      "text/plain": [
       "array([199364.])"
      ]
     },
     "execution_count": 7,
     "metadata": {},
     "output_type": "execute_result"
    }
   ],
   "source": [
    "# no missing data as all columns have same count:\n",
    "train_df.describe().loc[\"count\"].unique()"
   ]
  },
  {
   "cell_type": "markdown",
   "metadata": {
    "slideshow": {
     "slide_type": "-"
    }
   },
   "source": [
    "- We do not have categorical features. All features are numeric. \n",
    "- We have to be careful about the `Time` and `Amount` features. \n",
    "- We could scale `Amount`. \n",
    "- Do we want to scale time?\n",
    "    - In this lecture we'll do it's probably not the best thing to do. \n",
    "    - We'll learn about time series briefly later in the course. "
   ]
  },
  {
   "cell_type": "markdown",
   "metadata": {
    "slideshow": {
     "slide_type": "slide"
    }
   },
   "source": [
    "Let's separate `X` and `y` for train and test splits."
   ]
  },
  {
   "cell_type": "code",
   "execution_count": 8,
   "metadata": {
    "execution": {
     "iopub.execute_input": "2023-05-30T08:41:52.572706Z",
     "iopub.status.busy": "2023-05-30T08:41:52.572042Z",
     "iopub.status.idle": "2023-05-30T08:41:52.609911Z",
     "shell.execute_reply": "2023-05-30T08:41:52.606849Z",
     "shell.execute_reply.started": "2023-05-30T08:41:52.572652Z"
    },
    "slideshow": {
     "slide_type": "-"
    }
   },
   "outputs": [],
   "source": [
    "X_train_big, y_train_big = train_df.drop(columns=[\"Class\"]), train_df[\"Class\"]\n",
    "X_test, y_test = test_df.drop(columns=[\"Class\"]), test_df[\"Class\"]"
   ]
  },
  {
   "cell_type": "markdown",
   "metadata": {
    "slideshow": {
     "slide_type": "slide"
    }
   },
   "source": [
    "- It's **easier to demonstrate** evaluation metrics using an explicit **validation set instead of using cross-validation**.\n",
    "- So let's create a validation set. \n",
    "- Our data is large enough so it shouldn't be a problem. \n"
   ]
  },
  {
   "cell_type": "code",
   "execution_count": 9,
   "metadata": {
    "execution": {
     "iopub.execute_input": "2023-05-30T08:41:52.614761Z",
     "iopub.status.busy": "2023-05-30T08:41:52.614292Z",
     "iopub.status.idle": "2023-05-30T08:41:52.699309Z",
     "shell.execute_reply": "2023-05-30T08:41:52.697484Z",
     "shell.execute_reply.started": "2023-05-30T08:41:52.614717Z"
    }
   },
   "outputs": [],
   "source": [
    "X_train, X_valid, y_train, y_valid = train_test_split(\n",
    "    X_train_big, y_train_big, test_size=0.3, random_state=123\n",
    ")"
   ]
  },
  {
   "cell_type": "markdown",
   "metadata": {
    "slideshow": {
     "slide_type": "slide"
    }
   },
   "source": [
    "### Baseline"
   ]
  },
  {
   "cell_type": "code",
   "execution_count": 10,
   "metadata": {
    "execution": {
     "iopub.execute_input": "2023-05-30T08:41:52.701771Z",
     "iopub.status.busy": "2023-05-30T08:41:52.701278Z",
     "iopub.status.idle": "2023-05-30T08:41:52.915560Z",
     "shell.execute_reply": "2023-05-30T08:41:52.913639Z",
     "shell.execute_reply.started": "2023-05-30T08:41:52.701715Z"
    }
   },
   "outputs": [
    {
     "data": {
      "text/plain": [
       "fit_time       0.021480\n",
       "score_time     0.002495\n",
       "test_score     0.998302\n",
       "train_score    0.998302\n",
       "dtype: float64"
      ]
     },
     "execution_count": 10,
     "metadata": {},
     "output_type": "execute_result"
    }
   ],
   "source": [
    "dummy = DummyClassifier()\n",
    "pd.DataFrame(cross_validate(dummy, X_train, y_train, return_train_score=True)).mean()"
   ]
  },
  {
   "cell_type": "markdown",
   "metadata": {
    "slideshow": {
     "slide_type": "slide"
    }
   },
   "source": [
    "### Observations \n",
    "\n",
    "- `DummyClassifier` is getting 0.998 cross-validation accuracy!! \n",
    "- Should we be happy with this accuracy and deploy this `DummyClassifier` model for fraud detection? "
   ]
  },
  {
   "cell_type": "markdown",
   "metadata": {
    "slideshow": {
     "slide_type": "-"
    }
   },
   "source": [
    "What's the class distribution? "
   ]
  },
  {
   "cell_type": "code",
   "execution_count": 11,
   "metadata": {
    "execution": {
     "iopub.execute_input": "2023-05-30T08:41:52.918370Z",
     "iopub.status.busy": "2023-05-30T08:41:52.917428Z",
     "iopub.status.idle": "2023-05-30T08:41:52.933510Z",
     "shell.execute_reply": "2023-05-30T08:41:52.931725Z",
     "shell.execute_reply.started": "2023-05-30T08:41:52.918332Z"
    },
    "slideshow": {
     "slide_type": "-"
    }
   },
   "outputs": [
    {
     "data": {
      "text/plain": [
       "0    199025\n",
       "1       339\n",
       "Name: Class, dtype: int64"
      ]
     },
     "execution_count": 11,
     "metadata": {},
     "output_type": "execute_result"
    }
   ],
   "source": [
    "train_df[\"Class\"].value_counts()"
   ]
  },
  {
   "cell_type": "code",
   "execution_count": 12,
   "metadata": {
    "execution": {
     "iopub.execute_input": "2023-05-30T08:41:52.935844Z",
     "iopub.status.busy": "2023-05-30T08:41:52.935435Z",
     "iopub.status.idle": "2023-05-30T08:41:52.953428Z",
     "shell.execute_reply": "2023-05-30T08:41:52.950943Z",
     "shell.execute_reply.started": "2023-05-30T08:41:52.935811Z"
    },
    "slideshow": {
     "slide_type": "-"
    }
   },
   "outputs": [
    {
     "data": {
      "text/plain": [
       "0    0.9983\n",
       "1    0.0017\n",
       "Name: Class, dtype: float64"
      ]
     },
     "execution_count": 12,
     "metadata": {},
     "output_type": "execute_result"
    }
   ],
   "source": [
    "train_df[\"Class\"].value_counts(normalize=True)"
   ]
  },
  {
   "cell_type": "markdown",
   "metadata": {
    "slideshow": {
     "slide_type": "slide"
    }
   },
   "source": [
    "- We have class imbalance. \n",
    "- We have MANY non-fraud transactions and only a handful of fraud transactions. \n",
    "- So in the training set, `most_frequent` strategy is labeling 199,025 (99.83%) instances correctly and only 339 (0.17%) instances incorrectly. \n",
    "- Is this what we want? \n",
    "- The \"fraud\" class is the important class that we want to spot. "
   ]
  },
  {
   "cell_type": "markdown",
   "metadata": {
    "slideshow": {
     "slide_type": "slide"
    }
   },
   "source": [
    "Let's scale the features and try `LogisticRegression`.   "
   ]
  },
  {
   "cell_type": "code",
   "execution_count": 13,
   "metadata": {
    "execution": {
     "iopub.execute_input": "2023-05-30T08:41:52.957182Z",
     "iopub.status.busy": "2023-05-30T08:41:52.956481Z",
     "iopub.status.idle": "2023-05-30T08:42:04.744603Z",
     "shell.execute_reply": "2023-05-30T08:42:04.742148Z",
     "shell.execute_reply.started": "2023-05-30T08:41:52.957132Z"
    }
   },
   "outputs": [
    {
     "data": {
      "text/plain": [
       "fit_time       2.241706\n",
       "score_time     0.024531\n",
       "test_score     0.999176\n",
       "train_score    0.999249\n",
       "dtype: float64"
      ]
     },
     "execution_count": 13,
     "metadata": {},
     "output_type": "execute_result"
    }
   ],
   "source": [
    "pipe_lr = make_pipeline(StandardScaler(), LogisticRegression())\n",
    "pd.DataFrame(cross_validate(pipe_lr, X_train, y_train, return_train_score=True)).mean()"
   ]
  },
  {
   "cell_type": "markdown",
   "metadata": {
    "slideshow": {
     "slide_type": "-"
    }
   },
   "source": [
    "- We are getting a slightly better score with logistic regression.  \n",
    "- What score should be considered an **acceptable score** here? \n",
    "- Are we actually spotting any \"fraud\" transactions? "
   ]
  },
  {
   "cell_type": "markdown",
   "metadata": {
    "slideshow": {
     "slide_type": "slide"
    }
   },
   "source": [
    "- `.score` by default returns accuracy which is \n",
    "$$accuracy = \\frac{correct\\ predictions}{total\\ examples}$$\n",
    "- Is accuracy a good metric here? \n",
    "- Is there anything more informative than accuracy that we can use here? \n",
    "\n",
    "Let's dig a little deeper."
   ]
  },
  {
   "cell_type": "markdown",
   "metadata": {},
   "source": [
    "<br><br><br><br>"
   ]
  },
  {
   "cell_type": "markdown",
   "metadata": {
    "slideshow": {
     "slide_type": "slide"
    }
   },
   "source": [
    "## Confusion matrix"
   ]
  },
  {
   "cell_type": "markdown",
   "metadata": {
    "slideshow": {
     "slide_type": "slide"
    }
   },
   "source": [
    "One way to get a better understanding of the errors is by looking at \n",
    "- false positives (type I errors), where the model incorrectly spots examples as fraud\n",
    "- false negatives (type II errors), where it's missing to spot fraud examples "
   ]
  },
  {
   "cell_type": "code",
   "execution_count": 14,
   "metadata": {
    "execution": {
     "iopub.execute_input": "2023-05-30T08:42:04.761502Z",
     "iopub.status.busy": "2023-05-30T08:42:04.760357Z",
     "iopub.status.idle": "2023-05-30T08:42:07.128723Z",
     "shell.execute_reply": "2023-05-30T08:42:07.127150Z",
     "shell.execute_reply.started": "2023-05-30T08:42:04.761412Z"
    },
    "slideshow": {
     "slide_type": "-"
    },
    "tags": []
   },
   "outputs": [
    {
     "data": {
      "image/png": "[encoded data removed]",
      "text/plain": [
       "<Figure size 640x480 with 1 Axes>"
      ]
     },
     "metadata": {},
     "output_type": "display_data"
    }
   ],
   "source": [
    "from sklearn.metrics import ConfusionMatrixDisplay\n",
    "\n",
    "pipe_lr.fit(X_train, y_train)\n",
    "disp = ConfusionMatrixDisplay.from_estimator(\n",
    "    pipe_lr,\n",
    "    X_valid,\n",
    "    y_valid,\n",
    "    display_labels=[\"Non fraud\", \"fraud\"],\n",
    "    values_format=\"d\",\n",
    "    cmap=plt.cm.Blues,\n",
    "    colorbar=False,\n",
    ")"
   ]
  },
  {
   "cell_type": "code",
   "execution_count": 15,
   "metadata": {
    "execution": {
     "iopub.execute_input": "2023-05-30T08:42:07.134830Z",
     "iopub.status.busy": "2023-05-30T08:42:07.134379Z",
     "iopub.status.idle": "2023-05-30T08:42:07.580187Z",
     "shell.execute_reply": "2023-05-30T08:42:07.578720Z",
     "shell.execute_reply.started": "2023-05-30T08:42:07.134797Z"
    },
    "slideshow": {
     "slide_type": "slide"
    }
   },
   "outputs": [
    {
     "data": {
      "image/png": "[encoded data removed]",
      "text/plain": [
       "<Figure size 2000x600 with 2 Axes>"
      ]
     },
     "metadata": {},
     "output_type": "display_data"
    }
   ],
   "source": [
    "from sklearn.metrics import confusion_matrix\n",
    "\n",
    "predictions = pipe_lr.predict(X_valid)\n",
    "TN, FP, FN, TP = confusion_matrix(y_valid, predictions).ravel()\n",
    "plot_confusion_matrix_example(TN, FP, FN, TP)"
   ]
  },
  {
   "cell_type": "markdown",
   "metadata": {
    "slideshow": {
     "slide_type": "-"
    }
   },
   "source": [
    "- **Perfect** prediction has all values **down the diagonal**\n",
    "- **Off diagonal** entries can often tell us about what is being **mis-predicted**"
   ]
  },
  {
   "cell_type": "markdown",
   "metadata": {
    "slideshow": {
     "slide_type": "slide"
    }
   },
   "source": [
    "### What is \"positive\" and \"negative\"?\n",
    "\n",
    "- Two kinds of binary classification problems \n",
    "    - Distinguishing between two classes\n",
    "    - **Spotting** a class (spot fraud transaction, spot spam, spot disease)\n",
    "- In case of spotting problems, the thing that we are interested in spotting is considered \"**positive**\".\n",
    "- Above we wanted to **spot fraudulent** transactions and so they are \"positive\". "
   ]
  },
  {
   "cell_type": "markdown",
   "metadata": {
    "slideshow": {
     "slide_type": "slide"
    }
   },
   "source": [
    "You can get a numpy array of confusion matrix, and you can *unpack* it into its elements using numpy `ravel()` as follows:"
   ]
  },
  {
   "cell_type": "code",
   "execution_count": 16,
   "metadata": {
    "execution": {
     "iopub.execute_input": "2023-05-30T08:42:07.582730Z",
     "iopub.status.busy": "2023-05-30T08:42:07.582328Z",
     "iopub.status.idle": "2023-05-30T08:42:07.632774Z",
     "shell.execute_reply": "2023-05-30T08:42:07.627275Z",
     "shell.execute_reply.started": "2023-05-30T08:42:07.582700Z"
    },
    "tags": []
   },
   "outputs": [],
   "source": [
    "from sklearn.metrics import confusion_matrix\n",
    "\n",
    "predictions = pipe_lr.predict(X_valid)  # note that pipe_lr must have already been fitted using train data\n",
    "cm = confusion_matrix(y_valid, predictions)"
   ]
  },
  {
   "cell_type": "code",
   "execution_count": 17,
   "metadata": {
    "execution": {
     "iopub.execute_input": "2023-05-30T08:42:07.636497Z",
     "iopub.status.busy": "2023-05-30T08:42:07.635482Z",
     "iopub.status.idle": "2023-05-30T08:42:07.648226Z",
     "shell.execute_reply": "2023-05-30T08:42:07.647177Z",
     "shell.execute_reply.started": "2023-05-30T08:42:07.636453Z"
    },
    "tags": []
   },
   "outputs": [
    {
     "name": "stdout",
     "output_type": "stream",
     "text": [
      "Confusion matrix for fraud dataset:\n"
     ]
    },
    {
     "data": {
      "text/plain": [
       "array([[59700,     8],\n",
       "       [   38,    64]])"
      ]
     },
     "execution_count": 17,
     "metadata": {},
     "output_type": "execute_result"
    }
   ],
   "source": [
    "print(\"Confusion matrix for fraud dataset:\")\n",
    "cm"
   ]
  },
  {
   "cell_type": "code",
   "execution_count": 18,
   "metadata": {
    "execution": {
     "iopub.execute_input": "2023-05-30T08:42:07.650356Z",
     "iopub.status.busy": "2023-05-30T08:42:07.649565Z",
     "iopub.status.idle": "2023-05-30T08:42:07.685781Z",
     "shell.execute_reply": "2023-05-30T08:42:07.683913Z",
     "shell.execute_reply.started": "2023-05-30T08:42:07.650318Z"
    },
    "tags": []
   },
   "outputs": [
    {
     "data": {
      "text/plain": [
       "array([59700,     8,    38,    64])"
      ]
     },
     "execution_count": 18,
     "metadata": {},
     "output_type": "execute_result"
    }
   ],
   "source": [
    "cm.ravel()  # get a flattened array"
   ]
  },
  {
   "cell_type": "code",
   "execution_count": 19,
   "metadata": {
    "execution": {
     "iopub.execute_input": "2023-05-30T08:42:07.689446Z",
     "iopub.status.busy": "2023-05-30T08:42:07.688404Z",
     "iopub.status.idle": "2023-05-30T08:42:07.727571Z",
     "shell.execute_reply": "2023-05-30T08:42:07.723762Z",
     "shell.execute_reply.started": "2023-05-30T08:42:07.689401Z"
    },
    "tags": []
   },
   "outputs": [
    {
     "data": {
      "text/plain": [
       "(59700, 8, 38, 64)"
      ]
     },
     "execution_count": 19,
     "metadata": {},
     "output_type": "execute_result"
    }
   ],
   "source": [
    "TN, FP, FN, TP = cm.ravel()  # unpack cm elements\n",
    "TN, FP, FN, TP"
   ]
  },
  {
   "cell_type": "markdown",
   "metadata": {
    "slideshow": {
     "slide_type": "slide"
    }
   },
   "source": [
    "### Confusion matrix with cross-validation "
   ]
  },
  {
   "cell_type": "markdown",
   "metadata": {
    "slideshow": {
     "slide_type": "-"
    }
   },
   "source": [
    "- You can also calculate confusion matrix with cross-validation using the `cross_val_predict` method.\n",
    "- Then you need to use `ConfusionMatrixDisplay`'s **`from_predictions`** to draw confusion matrix."
   ]
  },
  {
   "cell_type": "code",
   "execution_count": 20,
   "metadata": {
    "execution": {
     "iopub.execute_input": "2023-05-30T08:42:07.731821Z",
     "iopub.status.busy": "2023-05-30T08:42:07.730422Z",
     "iopub.status.idle": "2023-05-30T08:42:16.142697Z",
     "shell.execute_reply": "2023-05-30T08:42:16.140660Z",
     "shell.execute_reply.started": "2023-05-30T08:42:07.731736Z"
    },
    "slideshow": {
     "slide_type": "-"
    }
   },
   "outputs": [
    {
     "data": {
      "text/plain": [
       "array([[139296,     21],\n",
       "       [    94,    143]])"
      ]
     },
     "execution_count": 20,
     "metadata": {},
     "output_type": "execute_result"
    }
   ],
   "source": [
    "from sklearn.model_selection import cross_val_predict\n",
    "\n",
    "confusion_matrix(y_train, cross_val_predict(pipe_lr, X_train, y_train))"
   ]
  },
  {
   "cell_type": "code",
   "execution_count": 21,
   "metadata": {
    "execution": {
     "iopub.execute_input": "2023-05-30T08:42:16.146899Z",
     "iopub.status.busy": "2023-05-30T08:42:16.145975Z",
     "iopub.status.idle": "2023-05-30T08:42:25.668859Z",
     "shell.execute_reply": "2023-05-30T08:42:25.666848Z",
     "shell.execute_reply.started": "2023-05-30T08:42:16.146853Z"
    }
   },
   "outputs": [
    {
     "data": {
      "image/png": "[encoded data removed]",
      "text/plain": [
       "<Figure size 640x480 with 2 Axes>"
      ]
     },
     "metadata": {},
     "output_type": "display_data"
    }
   ],
   "source": [
    "ConfusionMatrixDisplay.from_predictions(\n",
    "    y_train,\n",
    "    cross_val_predict(pipe_lr, X_train, y_train),\n",
    "    display_labels=[\"Non fraud\", \"fraud\"],\n",
    "    values_format=\"d\",\n",
    "    cmap=plt.cm.Blues,\n",
    ");"
   ]
  },
  {
   "cell_type": "markdown",
   "metadata": {
    "slideshow": {
     "slide_type": "slide"
    }
   },
   "source": [
    "<br><br><br><br>"
   ]
  },
  {
   "cell_type": "markdown",
   "metadata": {
    "slideshow": {
     "slide_type": "slide"
    }
   },
   "source": [
    "## Precision, recall, f1 score "
   ]
  },
  {
   "cell_type": "markdown",
   "metadata": {
    "slideshow": {
     "slide_type": "-"
    }
   },
   "source": [
    "- We have been using `.score` to assess our models, which returns **accuracy by default**.\n",
    "- Accuracy is misleading when we have class imbalance.\n",
    "- We need other metrics to assess our models."
   ]
  },
  {
   "cell_type": "markdown",
   "metadata": {
    "slideshow": {
     "slide_type": "slide"
    }
   },
   "source": [
    "- We'll discuss three commonly used metrics which are **based on confusion matrix**:\n",
    "    - *recall*\n",
    "    - *precision*\n",
    "    - *f1 score*\n",
    "- Note that these metrics will only help us **assessing our model**.\n",
    "- Later we'll talk about a few ways to address class imbalance problem."
   ]
  },
  {
   "cell_type": "code",
   "execution_count": 22,
   "metadata": {
    "execution": {
     "iopub.execute_input": "2023-05-30T08:42:25.678271Z",
     "iopub.status.busy": "2023-05-30T08:42:25.677859Z",
     "iopub.status.idle": "2023-05-30T08:42:28.449046Z",
     "shell.execute_reply": "2023-05-30T08:42:28.447067Z",
     "shell.execute_reply.started": "2023-05-30T08:42:25.678244Z"
    },
    "slideshow": {
     "slide_type": "slide"
    },
    "tags": []
   },
   "outputs": [
    {
     "name": "stdout",
     "output_type": "stream",
     "text": [
      "TN, FP, FN, TP: 59700 8 38 64 \n",
      "\n"
     ]
    },
    {
     "data": {
      "text/plain": [
       "array([[59700,     8],\n",
       "       [   38,    64]])"
      ]
     },
     "execution_count": 22,
     "metadata": {},
     "output_type": "execute_result"
    }
   ],
   "source": [
    "from sklearn.metrics import confusion_matrix\n",
    "\n",
    "pipe_lr = make_pipeline(StandardScaler(), LogisticRegression())\n",
    "pipe_lr.fit(X_train, y_train)\n",
    "predictions = pipe_lr.predict(X_valid)\n",
    "cm = confusion_matrix(y_valid, predictions)\n",
    "TN, FP, FN, TP = cm.ravel()\n",
    "print(\"TN, FP, FN, TP:\", TN, FP, FN, TP, '\\n')\n",
    "cm"
   ]
  },
  {
   "cell_type": "markdown",
   "metadata": {
    "slideshow": {
     "slide_type": "slide"
    }
   },
   "source": [
    "### Recall \n",
    "\n",
    "Among all positive examples, how many did you identify?\n",
    "$$ recall = \\frac{TP}{TP+FN} = \\frac{TP}{\\#positives} $$"
   ]
  },
  {
   "cell_type": "code",
   "execution_count": 23,
   "metadata": {
    "execution": {
     "iopub.execute_input": "2023-05-30T08:42:28.467603Z",
     "iopub.status.busy": "2023-05-30T08:42:28.464101Z",
     "iopub.status.idle": "2023-05-30T08:42:28.918436Z",
     "shell.execute_reply": "2023-05-30T08:42:28.916574Z",
     "shell.execute_reply.started": "2023-05-30T08:42:28.467516Z"
    }
   },
   "outputs": [
    {
     "data": {
      "image/png": "[encoded data removed]",
      "text/plain": [
       "<Figure size 640x480 with 2 Axes>"
      ]
     },
     "metadata": {},
     "output_type": "display_data"
    }
   ],
   "source": [
    "ConfusionMatrixDisplay.from_estimator(\n",
    "    pipe_lr,\n",
    "    X_valid,\n",
    "    y_valid,\n",
    "    display_labels=[\"Non fraud\", \"fraud\"],\n",
    "    values_format=\"d\",\n",
    "    cmap=plt.cm.Blues,\n",
    ");"
   ]
  },
  {
   "cell_type": "code",
   "execution_count": 24,
   "metadata": {
    "execution": {
     "iopub.execute_input": "2023-05-30T08:42:28.920620Z",
     "iopub.status.busy": "2023-05-30T08:42:28.920238Z",
     "iopub.status.idle": "2023-05-30T08:42:28.929355Z",
     "shell.execute_reply": "2023-05-30T08:42:28.927854Z",
     "shell.execute_reply.started": "2023-05-30T08:42:28.920589Z"
    }
   },
   "outputs": [
    {
     "name": "stdout",
     "output_type": "stream",
     "text": [
      "TP = 64.0000, FN = 38.0000\n",
      "Recall: 0.6275\n"
     ]
    }
   ],
   "source": [
    "print(\"TP = %0.4f, FN = %0.4f\" % (TP, FN))\n",
    "recall = TP / (TP + FN)\n",
    "print(\"Recall: %0.4f\" % (recall))"
   ]
  },
  {
   "cell_type": "markdown",
   "metadata": {
    "slideshow": {
     "slide_type": "slide"
    }
   },
   "source": [
    "### Precision \n",
    "\n",
    "Among the positive examples you identified, how many were actually positive?\n",
    "\n",
    "$$ precision = \\frac{TP}{TP+FP}$$"
   ]
  },
  {
   "cell_type": "code",
   "execution_count": 25,
   "metadata": {
    "execution": {
     "iopub.execute_input": "2023-05-30T08:42:28.931140Z",
     "iopub.status.busy": "2023-05-30T08:42:28.930783Z",
     "iopub.status.idle": "2023-05-30T08:42:29.370078Z",
     "shell.execute_reply": "2023-05-30T08:42:29.368562Z",
     "shell.execute_reply.started": "2023-05-30T08:42:28.931111Z"
    },
    "slideshow": {
     "slide_type": "slide"
    }
   },
   "outputs": [
    {
     "data": {
      "image/png": "[encoded data removed]",
      "text/plain": [
       "<Figure size 640x480 with 2 Axes>"
      ]
     },
     "metadata": {},
     "output_type": "display_data"
    }
   ],
   "source": [
    "ConfusionMatrixDisplay.from_estimator(\n",
    "    pipe_lr,\n",
    "    X_valid,\n",
    "    y_valid,\n",
    "    display_labels=[\"Non fraud\", \"fraud\"],\n",
    "    values_format=\"d\",\n",
    "    cmap=plt.cm.Blues,\n",
    ");"
   ]
  },
  {
   "cell_type": "code",
   "execution_count": 26,
   "metadata": {
    "execution": {
     "iopub.execute_input": "2023-05-30T08:42:29.372233Z",
     "iopub.status.busy": "2023-05-30T08:42:29.371718Z",
     "iopub.status.idle": "2023-05-30T08:42:29.381809Z",
     "shell.execute_reply": "2023-05-30T08:42:29.379916Z",
     "shell.execute_reply.started": "2023-05-30T08:42:29.372203Z"
    }
   },
   "outputs": [
    {
     "name": "stdout",
     "output_type": "stream",
     "text": [
      "TP = 64.0000, FP = 8.0000\n",
      "Precision: 0.8889\n"
     ]
    }
   ],
   "source": [
    "print(\"TP = %0.4f, FP = %0.4f\" % (TP, FP))\n",
    "precision = TP / (TP + FP)\n",
    "print(\"Precision: %0.4f\" % (precision))"
   ]
  },
  {
   "cell_type": "markdown",
   "metadata": {
    "slideshow": {
     "slide_type": "slide"
    }
   },
   "source": [
    "### F1-score\n",
    "\n",
    "- F1-score **combines precision and recall** to give one score, which could be used in hyperparameter optimization, for instance.\n",
    "- F1-score is a harmonic mean of precision and recall. \n",
    "\n",
    "\n",
    "$$ f1 = 2 \\times \\frac{ precision \\times recall}{precision + recall}$$\n"
   ]
  },
  {
   "cell_type": "code",
   "execution_count": 27,
   "metadata": {
    "execution": {
     "iopub.execute_input": "2023-05-30T08:42:29.384524Z",
     "iopub.status.busy": "2023-05-30T08:42:29.384109Z",
     "iopub.status.idle": "2023-05-30T08:42:29.397907Z",
     "shell.execute_reply": "2023-05-30T08:42:29.396510Z",
     "shell.execute_reply.started": "2023-05-30T08:42:29.384493Z"
    },
    "slideshow": {
     "slide_type": "slide"
    }
   },
   "outputs": [
    {
     "name": "stdout",
     "output_type": "stream",
     "text": [
      "precision: 0.8889\n",
      "recall: 0.6275\n",
      "f1: 0.7356\n"
     ]
    }
   ],
   "source": [
    "print(\"precision: %0.4f\" % (precision))\n",
    "print(\"recall: %0.4f\" % (recall))\n",
    "f1_score = (2 * precision * recall) / (precision + recall)\n",
    "print(\"f1: %0.4f\" % (f1_score))"
   ]
  },
  {
   "cell_type": "markdown",
   "metadata": {
    "slideshow": {
     "slide_type": "slide"
    }
   },
   "source": [
    "Let's look at all metrics at once on our dataset."
   ]
  },
  {
   "cell_type": "code",
   "execution_count": 28,
   "metadata": {
    "execution": {
     "iopub.execute_input": "2023-05-30T08:42:29.399992Z",
     "iopub.status.busy": "2023-05-30T08:42:29.399567Z",
     "iopub.status.idle": "2023-05-30T08:42:29.418862Z",
     "shell.execute_reply": "2023-05-30T08:42:29.417314Z",
     "shell.execute_reply.started": "2023-05-30T08:42:29.399960Z"
    },
    "slideshow": {
     "slide_type": "-"
    }
   },
   "outputs": [
    {
     "data": {
      "text/html": [
       "<div>\n",
       "<style scoped>\n",
       "    .dataframe tbody tr th:only-of-type {\n",
       "        vertical-align: middle;\n",
       "    }\n",
       "\n",
       "    .dataframe tbody tr th {\n",
       "        vertical-align: top;\n",
       "    }\n",
       "\n",
       "    .dataframe thead th {\n",
       "        text-align: right;\n",
       "    }\n",
       "</style>\n",
       "<table border=\"1\" class=\"dataframe\">\n",
       "  <thead>\n",
       "    <tr style=\"text-align: right;\">\n",
       "      <th></th>\n",
       "      <th>calculation</th>\n",
       "      <th>accuracy</th>\n",
       "      <th>error</th>\n",
       "      <th>precision</th>\n",
       "      <th>recall</th>\n",
       "      <th>f1 score</th>\n",
       "    </tr>\n",
       "  </thead>\n",
       "  <tbody>\n",
       "    <tr>\n",
       "      <th>0</th>\n",
       "      <td>manual</td>\n",
       "      <td>0.999231</td>\n",
       "      <td>0.000769</td>\n",
       "      <td>0.888889</td>\n",
       "      <td>0.627451</td>\n",
       "      <td>0.735632</td>\n",
       "    </tr>\n",
       "  </tbody>\n",
       "</table>\n",
       "</div>"
      ],
      "text/plain": [
       "  calculation  accuracy     error  precision    recall  f1 score\n",
       "0      manual  0.999231  0.000769   0.888889  0.627451  0.735632"
      ]
     },
     "execution_count": 28,
     "metadata": {},
     "output_type": "execute_result"
    }
   ],
   "source": [
    "## Calculate evaluation metrics by ourselves\n",
    "data = {\n",
    "    \"calculation\": [],\n",
    "    \"accuracy\": [],\n",
    "    \"error\": [],\n",
    "    \"precision\": [],\n",
    "    \"recall\": [],\n",
    "    \"f1 score\": [],\n",
    "}\n",
    "data[\"calculation\"].append(\"manual\")\n",
    "data[\"accuracy\"].append((TP + TN) / (TN + FP + FN + TP))\n",
    "data[\"error\"].append((FP + FN) / (TN + FP + FN + TP))\n",
    "data[\"precision\"].append(precision)  # TP / (TP + FP)\n",
    "data[\"recall\"].append(recall)  # TP / (TP + FN)\n",
    "data[\"f1 score\"].append(f1_score)  # (2 * precision * recall) / (precision + recall)\n",
    "df = pd.DataFrame(data)\n",
    "df"
   ]
  },
  {
   "cell_type": "markdown",
   "metadata": {
    "slideshow": {
     "slide_type": "slide"
    }
   },
   "source": [
    "- `scikit-learn` has functions for [these metrics](https://scikit-learn.org/stable/modules/classes.html#module-sklearn.metrics)."
   ]
  },
  {
   "cell_type": "code",
   "execution_count": 29,
   "metadata": {
    "execution": {
     "iopub.execute_input": "2023-05-30T08:42:29.420621Z",
     "iopub.status.busy": "2023-05-30T08:42:29.420271Z",
     "iopub.status.idle": "2023-05-30T08:42:29.730347Z",
     "shell.execute_reply": "2023-05-30T08:42:29.727705Z",
     "shell.execute_reply.started": "2023-05-30T08:42:29.420591Z"
    }
   },
   "outputs": [
    {
     "data": {
      "text/html": [
       "<div>\n",
       "<style scoped>\n",
       "    .dataframe tbody tr th:only-of-type {\n",
       "        vertical-align: middle;\n",
       "    }\n",
       "\n",
       "    .dataframe tbody tr th {\n",
       "        vertical-align: top;\n",
       "    }\n",
       "\n",
       "    .dataframe thead th {\n",
       "        text-align: right;\n",
       "    }\n",
       "</style>\n",
       "<table border=\"1\" class=\"dataframe\">\n",
       "  <thead>\n",
       "    <tr style=\"text-align: right;\">\n",
       "      <th></th>\n",
       "      <th>accuracy</th>\n",
       "      <th>error</th>\n",
       "      <th>precision</th>\n",
       "      <th>recall</th>\n",
       "      <th>f1 score</th>\n",
       "    </tr>\n",
       "    <tr>\n",
       "      <th>calculation</th>\n",
       "      <th></th>\n",
       "      <th></th>\n",
       "      <th></th>\n",
       "      <th></th>\n",
       "      <th></th>\n",
       "    </tr>\n",
       "  </thead>\n",
       "  <tbody>\n",
       "    <tr>\n",
       "      <th>manual</th>\n",
       "      <td>0.999231</td>\n",
       "      <td>0.000769</td>\n",
       "      <td>0.888889</td>\n",
       "      <td>0.627451</td>\n",
       "      <td>0.735632</td>\n",
       "    </tr>\n",
       "    <tr>\n",
       "      <th>sklearn</th>\n",
       "      <td>0.999231</td>\n",
       "      <td>0.000769</td>\n",
       "      <td>0.888889</td>\n",
       "      <td>0.627451</td>\n",
       "      <td>0.735632</td>\n",
       "    </tr>\n",
       "  </tbody>\n",
       "</table>\n",
       "</div>"
      ],
      "text/plain": [
       "             accuracy     error  precision    recall  f1 score\n",
       "calculation                                                   \n",
       "manual       0.999231  0.000769   0.888889  0.627451  0.735632\n",
       "sklearn      0.999231  0.000769   0.888889  0.627451  0.735632"
      ]
     },
     "execution_count": 29,
     "metadata": {},
     "output_type": "execute_result"
    }
   ],
   "source": [
    "from sklearn.metrics import accuracy_score, f1_score, precision_score, recall_score\n",
    "\n",
    "data[\"accuracy\"].append(accuracy_score(y_valid, pipe_lr.predict(X_valid)))\n",
    "data[\"error\"].append(1 - accuracy_score(y_valid, pipe_lr.predict(X_valid)))\n",
    "data[\"precision\"].append(\n",
    "    precision_score(y_valid, pipe_lr.predict(X_valid), zero_division=1)\n",
    ")\n",
    "data[\"recall\"].append(recall_score(y_valid, pipe_lr.predict(X_valid)))\n",
    "data[\"f1 score\"].append(f1_score(y_valid, pipe_lr.predict(X_valid)))\n",
    "data[\"calculation\"].append(\"sklearn\")\n",
    "df = pd.DataFrame(data)\n",
    "df.set_index([\"calculation\"])"
   ]
  },
  {
   "cell_type": "markdown",
   "metadata": {},
   "source": [
    "The scores match. "
   ]
  },
  {
   "cell_type": "markdown",
   "metadata": {
    "slideshow": {
     "slide_type": "slide"
    }
   },
   "source": [
    "### Classification report "
   ]
  },
  {
   "cell_type": "markdown",
   "metadata": {},
   "source": [
    "- There is a convenient function called `classification_report` in `sklearn` which gives this info. "
   ]
  },
  {
   "cell_type": "code",
   "execution_count": 30,
   "metadata": {
    "execution": {
     "iopub.execute_input": "2023-05-30T08:42:29.754713Z",
     "iopub.status.busy": "2023-05-30T08:42:29.744341Z",
     "iopub.status.idle": "2023-05-30T08:42:29.780248Z",
     "shell.execute_reply": "2023-05-30T08:42:29.778273Z",
     "shell.execute_reply.started": "2023-05-30T08:42:29.754602Z"
    }
   },
   "outputs": [
    {
     "data": {
      "text/plain": [
       "array([0, 1])"
      ]
     },
     "execution_count": 30,
     "metadata": {},
     "output_type": "execute_result"
    }
   ],
   "source": [
    "pipe_lr.classes_"
   ]
  },
  {
   "cell_type": "code",
   "execution_count": 31,
   "metadata": {
    "execution": {
     "iopub.execute_input": "2023-05-30T08:42:29.787404Z",
     "iopub.status.busy": "2023-05-30T08:42:29.787056Z",
     "iopub.status.idle": "2023-05-30T08:42:29.973021Z",
     "shell.execute_reply": "2023-05-30T08:42:29.972098Z",
     "shell.execute_reply.started": "2023-05-30T08:42:29.787375Z"
    },
    "slideshow": {
     "slide_type": "slide"
    }
   },
   "outputs": [
    {
     "name": "stdout",
     "output_type": "stream",
     "text": [
      "y_valid, not fraud: 59708\n",
      "y_valid, fraud:       102\n",
      "X_valid, total:     59810 \n",
      "\n",
      "\n",
      "              precision    recall  f1-score   support\n",
      "\n",
      "   non-fraud     0.9994    0.9999    0.9996     59708\n",
      "       fraud     0.8889    0.6275    0.7356       102\n",
      "\n",
      "    accuracy                         0.9992     59810\n",
      "   macro avg     0.9441    0.8137    0.8676     59810\n",
      "weighted avg     0.9992    0.9992    0.9992     59810\n",
      "\n"
     ]
    }
   ],
   "source": [
    "from sklearn.metrics import classification_report\n",
    "\n",
    "print(\"y_valid, not fraud:\", len(y_valid) - y_valid.sum())\n",
    "print(\"y_valid, fraud:      \", y_valid.sum())\n",
    "print(\"X_valid, total:    \", X_valid.shape[0], \"\\n\\n\")\n",
    "\n",
    "print(classification_report(\n",
    "        y_valid, pipe_lr.predict(X_valid), target_names=[\"non-fraud\", \"fraud\"], digits=4))"
   ]
  },
  {
   "cell_type": "code",
   "execution_count": 32,
   "metadata": {
    "execution": {
     "iopub.execute_input": "2023-05-30T08:42:29.975109Z",
     "iopub.status.busy": "2023-05-30T08:42:29.974738Z",
     "iopub.status.idle": "2023-05-30T08:42:30.166841Z",
     "shell.execute_reply": "2023-05-30T08:42:30.165190Z",
     "shell.execute_reply.started": "2023-05-30T08:42:29.975079Z"
    }
   },
   "outputs": [
    {
     "data": {
      "text/html": [
       "<div>\n",
       "<style scoped>\n",
       "    .dataframe tbody tr th:only-of-type {\n",
       "        vertical-align: middle;\n",
       "    }\n",
       "\n",
       "    .dataframe tbody tr th {\n",
       "        vertical-align: top;\n",
       "    }\n",
       "\n",
       "    .dataframe thead th {\n",
       "        text-align: right;\n",
       "    }\n",
       "</style>\n",
       "<table border=\"1\" class=\"dataframe\">\n",
       "  <thead>\n",
       "    <tr style=\"text-align: right;\">\n",
       "      <th></th>\n",
       "      <th>precision</th>\n",
       "      <th>recall</th>\n",
       "      <th>f1-score</th>\n",
       "      <th>support</th>\n",
       "    </tr>\n",
       "  </thead>\n",
       "  <tbody>\n",
       "    <tr>\n",
       "      <th>non-fraud</th>\n",
       "      <td>0.999364</td>\n",
       "      <td>0.999866</td>\n",
       "      <td>0.999615</td>\n",
       "      <td>59708.000000</td>\n",
       "    </tr>\n",
       "    <tr>\n",
       "      <th>fraud</th>\n",
       "      <td>0.888889</td>\n",
       "      <td>0.627451</td>\n",
       "      <td>0.735632</td>\n",
       "      <td>102.000000</td>\n",
       "    </tr>\n",
       "    <tr>\n",
       "      <th>accuracy</th>\n",
       "      <td>0.999231</td>\n",
       "      <td>0.999231</td>\n",
       "      <td>0.999231</td>\n",
       "      <td>0.999231</td>\n",
       "    </tr>\n",
       "    <tr>\n",
       "      <th>macro avg</th>\n",
       "      <td>0.944126</td>\n",
       "      <td>0.813658</td>\n",
       "      <td>0.867624</td>\n",
       "      <td>59810.000000</td>\n",
       "    </tr>\n",
       "    <tr>\n",
       "      <th>weighted avg</th>\n",
       "      <td>0.999175</td>\n",
       "      <td>0.999231</td>\n",
       "      <td>0.999165</td>\n",
       "      <td>59810.000000</td>\n",
       "    </tr>\n",
       "  </tbody>\n",
       "</table>\n",
       "</div>"
      ],
      "text/plain": [
       "              precision    recall  f1-score       support\n",
       "non-fraud      0.999364  0.999866  0.999615  59708.000000\n",
       "fraud          0.888889  0.627451  0.735632    102.000000\n",
       "accuracy       0.999231  0.999231  0.999231      0.999231\n",
       "macro avg      0.944126  0.813658  0.867624  59810.000000\n",
       "weighted avg   0.999175  0.999231  0.999165  59810.000000"
      ]
     },
     "execution_count": 32,
     "metadata": {},
     "output_type": "execute_result"
    }
   ],
   "source": [
    "cr_dict = classification_report(\n",
    "    y_valid, pipe_lr.predict(X_valid), target_names=[\"non-fraud\", \"fraud\"], output_dict=True)\n",
    "\n",
    "cr = pd.DataFrame(cr_dict).T\n",
    "cr"
   ]
  },
  {
   "cell_type": "markdown",
   "metadata": {
    "slideshow": {
     "slide_type": "slide"
    }
   },
   "source": [
    "### Macro average\n",
    "\n",
    "- You give **equal importance** to all classes and average over all classes.\n",
    "- In the example above, recall for non-fraud is ~ 1.0 and fraud is 0.63, and so macro average is 0.81. \n",
    "- See our example calculation below for `macro avg` for `precision`, `recall`, and `f1-score`\n",
    "- More relevant in case of **multi-class** problems (more later)"
   ]
  },
  {
   "cell_type": "markdown",
   "metadata": {
    "slideshow": {
     "slide_type": "slide"
    }
   },
   "source": [
    "### Weighted average\n",
    "\n",
    "- Weighted by the number of samples in each class. \n",
    "- Divide by the total number of samples.\n",
    "- See our example calculation below for `weighted_avg_of_precision`"
   ]
  },
  {
   "cell_type": "markdown",
   "metadata": {
    "slideshow": {
     "slide_type": "slide"
    }
   },
   "source": [
    "### Which one to use?\n",
    "Which one of Weighted or Macro averages is relevant depends upon whether you think:\n",
    "\n",
    "- each class should have the same weight or \n",
    "- each sample should have the same weight. \n",
    "\n",
    "That is, it will be domain/problem dependent."
   ]
  },
  {
   "cell_type": "markdown",
   "metadata": {},
   "source": [
    "<br><br>"
   ]
  },
  {
   "cell_type": "markdown",
   "metadata": {},
   "source": [
    "### Toy example"
   ]
  },
  {
   "cell_type": "code",
   "execution_count": 33,
   "metadata": {
    "execution": {
     "iopub.execute_input": "2023-05-30T08:42:30.169363Z",
     "iopub.status.busy": "2023-05-30T08:42:30.168470Z",
     "iopub.status.idle": "2023-05-30T08:42:30.184331Z",
     "shell.execute_reply": "2023-05-30T08:42:30.182115Z",
     "shell.execute_reply.started": "2023-05-30T08:42:30.169330Z"
    },
    "tags": []
   },
   "outputs": [
    {
     "name": "stdout",
     "output_type": "stream",
     "text": [
      "              precision    recall  f1-score   support\n",
      "\n",
      "     class 0       0.75      1.00      0.86         3\n",
      "     class 1       1.00      0.50      0.67         2\n",
      "\n",
      "    accuracy                           0.80         5\n",
      "   macro avg       0.88      0.75      0.76         5\n",
      "weighted avg       0.85      0.80      0.78         5\n",
      "\n"
     ]
    }
   ],
   "source": [
    "from sklearn.metrics import classification_report\n",
    "y_true = [0, 1, 0, 1, 0]\n",
    "y_pred = [0, 0, 0, 1, 0]\n",
    "target_names = ['class 0', 'class 1']\n",
    "print(classification_report(y_true, y_pred, target_names=target_names))"
   ]
  },
  {
   "cell_type": "markdown",
   "metadata": {},
   "source": [
    "- weighted average is weighted by the proportion of examples in a particular class. So for the toy example above:\n",
    "- weighted_average precision: 3/5 * 0.75 + 2/5 * 1.00 = 0.85\n",
    "- weighted_average recall: 3/5 * 1.00 + 2/5 * 0.5 = 0.80\n",
    "- weighted_average f1-score: 3/5 * 0.86 + 2/5 * 0.67 = 0.78"
   ]
  },
  {
   "cell_type": "markdown",
   "metadata": {},
   "source": [
    "- macro average gives equal weight to both classes. So for the toy example above:\n",
    "- macro average precision: 0.5 * 0.75 + 0.5 * 1.00 = 0.88  [or just (0.75 + 1.00)/2]\n",
    "- macro average recall: 0.5 * 1.00 + 0.5 * 0.5 = 0.75  [or just (1.00 + 0.5)/2]\n",
    "- macro average f1-score: 0.5 * 0.86 + 0.5 * 0.67 = 0.77  [or just (0.86 + 0.67)/2]"
   ]
  },
  {
   "cell_type": "markdown",
   "metadata": {},
   "source": [
    "<br><br>"
   ]
  },
  {
   "cell_type": "markdown",
   "metadata": {},
   "source": [
    "Let us manually calculate `macro avg` for `precision`, `recall`, and `f1-score` for `cr` example above:"
   ]
  },
  {
   "cell_type": "code",
   "execution_count": 34,
   "metadata": {
    "execution": {
     "iopub.execute_input": "2023-05-30T08:42:30.186057Z",
     "iopub.status.busy": "2023-05-30T08:42:30.185716Z",
     "iopub.status.idle": "2023-05-30T08:42:30.201379Z",
     "shell.execute_reply": "2023-05-30T08:42:30.199548Z",
     "shell.execute_reply.started": "2023-05-30T08:42:30.186028Z"
    },
    "tags": []
   },
   "outputs": [
    {
     "data": {
      "text/html": [
       "<div>\n",
       "<style scoped>\n",
       "    .dataframe tbody tr th:only-of-type {\n",
       "        vertical-align: middle;\n",
       "    }\n",
       "\n",
       "    .dataframe tbody tr th {\n",
       "        vertical-align: top;\n",
       "    }\n",
       "\n",
       "    .dataframe thead th {\n",
       "        text-align: right;\n",
       "    }\n",
       "</style>\n",
       "<table border=\"1\" class=\"dataframe\">\n",
       "  <thead>\n",
       "    <tr style=\"text-align: right;\">\n",
       "      <th></th>\n",
       "      <th>precision</th>\n",
       "      <th>recall</th>\n",
       "      <th>f1-score</th>\n",
       "      <th>support</th>\n",
       "    </tr>\n",
       "  </thead>\n",
       "  <tbody>\n",
       "    <tr>\n",
       "      <th>non-fraud</th>\n",
       "      <td>0.999364</td>\n",
       "      <td>0.999866</td>\n",
       "      <td>0.999615</td>\n",
       "      <td>59708.000000</td>\n",
       "    </tr>\n",
       "    <tr>\n",
       "      <th>fraud</th>\n",
       "      <td>0.888889</td>\n",
       "      <td>0.627451</td>\n",
       "      <td>0.735632</td>\n",
       "      <td>102.000000</td>\n",
       "    </tr>\n",
       "    <tr>\n",
       "      <th>accuracy</th>\n",
       "      <td>0.999231</td>\n",
       "      <td>0.999231</td>\n",
       "      <td>0.999231</td>\n",
       "      <td>0.999231</td>\n",
       "    </tr>\n",
       "    <tr>\n",
       "      <th>macro avg</th>\n",
       "      <td>0.944126</td>\n",
       "      <td>0.813658</td>\n",
       "      <td>0.867624</td>\n",
       "      <td>59810.000000</td>\n",
       "    </tr>\n",
       "    <tr>\n",
       "      <th>weighted avg</th>\n",
       "      <td>0.999175</td>\n",
       "      <td>0.999231</td>\n",
       "      <td>0.999165</td>\n",
       "      <td>59810.000000</td>\n",
       "    </tr>\n",
       "  </tbody>\n",
       "</table>\n",
       "</div>"
      ],
      "text/plain": [
       "              precision    recall  f1-score       support\n",
       "non-fraud      0.999364  0.999866  0.999615  59708.000000\n",
       "fraud          0.888889  0.627451  0.735632    102.000000\n",
       "accuracy       0.999231  0.999231  0.999231      0.999231\n",
       "macro avg      0.944126  0.813658  0.867624  59810.000000\n",
       "weighted avg   0.999175  0.999231  0.999165  59810.000000"
      ]
     },
     "execution_count": 34,
     "metadata": {},
     "output_type": "execute_result"
    }
   ],
   "source": [
    "cr"
   ]
  },
  {
   "cell_type": "code",
   "execution_count": 35,
   "metadata": {
    "execution": {
     "iopub.execute_input": "2023-05-30T08:42:30.204287Z",
     "iopub.status.busy": "2023-05-30T08:42:30.203515Z",
     "iopub.status.idle": "2023-05-30T08:42:30.219812Z",
     "shell.execute_reply": "2023-05-30T08:42:30.217529Z",
     "shell.execute_reply.started": "2023-05-30T08:42:30.204255Z"
    }
   },
   "outputs": [
    {
     "data": {
      "text/html": [
       "<div>\n",
       "<style scoped>\n",
       "    .dataframe tbody tr th:only-of-type {\n",
       "        vertical-align: middle;\n",
       "    }\n",
       "\n",
       "    .dataframe tbody tr th {\n",
       "        vertical-align: top;\n",
       "    }\n",
       "\n",
       "    .dataframe thead th {\n",
       "        text-align: right;\n",
       "    }\n",
       "</style>\n",
       "<table border=\"1\" class=\"dataframe\">\n",
       "  <thead>\n",
       "    <tr style=\"text-align: right;\">\n",
       "      <th></th>\n",
       "      <th>precision</th>\n",
       "      <th>recall</th>\n",
       "      <th>f1-score</th>\n",
       "      <th>support</th>\n",
       "    </tr>\n",
       "  </thead>\n",
       "  <tbody>\n",
       "    <tr>\n",
       "      <th>non-fraud</th>\n",
       "      <td>0.999364</td>\n",
       "      <td>0.999866</td>\n",
       "      <td>0.999615</td>\n",
       "      <td>59708.0</td>\n",
       "    </tr>\n",
       "    <tr>\n",
       "      <th>fraud</th>\n",
       "      <td>0.888889</td>\n",
       "      <td>0.627451</td>\n",
       "      <td>0.735632</td>\n",
       "      <td>102.0</td>\n",
       "    </tr>\n",
       "  </tbody>\n",
       "</table>\n",
       "</div>"
      ],
      "text/plain": [
       "           precision    recall  f1-score  support\n",
       "non-fraud   0.999364  0.999866  0.999615  59708.0\n",
       "fraud       0.888889  0.627451  0.735632    102.0"
      ]
     },
     "execution_count": 35,
     "metadata": {},
     "output_type": "execute_result"
    }
   ],
   "source": [
    "cr.loc[['non-fraud','fraud']]  # the relevant subset of cr"
   ]
  },
  {
   "cell_type": "code",
   "execution_count": 36,
   "metadata": {
    "execution": {
     "iopub.execute_input": "2023-05-30T08:42:30.223129Z",
     "iopub.status.busy": "2023-05-30T08:42:30.221874Z",
     "iopub.status.idle": "2023-05-30T08:42:30.240930Z",
     "shell.execute_reply": "2023-05-30T08:42:30.239401Z",
     "shell.execute_reply.started": "2023-05-30T08:42:30.223088Z"
    },
    "tags": []
   },
   "outputs": [
    {
     "data": {
      "text/html": [
       "<div>\n",
       "<style scoped>\n",
       "    .dataframe tbody tr th:only-of-type {\n",
       "        vertical-align: middle;\n",
       "    }\n",
       "\n",
       "    .dataframe tbody tr th {\n",
       "        vertical-align: top;\n",
       "    }\n",
       "\n",
       "    .dataframe thead th {\n",
       "        text-align: right;\n",
       "    }\n",
       "</style>\n",
       "<table border=\"1\" class=\"dataframe\">\n",
       "  <thead>\n",
       "    <tr style=\"text-align: right;\">\n",
       "      <th></th>\n",
       "      <th>precision</th>\n",
       "      <th>recall</th>\n",
       "      <th>f1-score</th>\n",
       "    </tr>\n",
       "  </thead>\n",
       "  <tbody>\n",
       "    <tr>\n",
       "      <th>mean of \"non-fraud\" and \"fraud\" (manual)</th>\n",
       "      <td>0.944126</td>\n",
       "      <td>0.813658</td>\n",
       "      <td>0.867624</td>\n",
       "    </tr>\n",
       "    <tr>\n",
       "      <th>macro avg (sklearn)</th>\n",
       "      <td>0.944126</td>\n",
       "      <td>0.813658</td>\n",
       "      <td>0.867624</td>\n",
       "    </tr>\n",
       "  </tbody>\n",
       "</table>\n",
       "</div>"
      ],
      "text/plain": [
       "                                          precision    recall  f1-score\n",
       "mean of \"non-fraud\" and \"fraud\" (manual)   0.944126  0.813658  0.867624\n",
       "macro avg (sklearn)                        0.944126  0.813658  0.867624"
      ]
     },
     "execution_count": 36,
     "metadata": {},
     "output_type": "execute_result"
    }
   ],
   "source": [
    "pd.concat([\n",
    "    cr.loc[['non-fraud','fraud']].mean().rename('mean of \"non-fraud\" and \"fraud\" (manual)'),\n",
    "    cr.loc['macro avg'].rename('macro avg (sklearn)')],\n",
    "    axis=1).head(3).T"
   ]
  },
  {
   "cell_type": "markdown",
   "metadata": {},
   "source": [
    "So, our manual calculation matches `macro avg` calculated by `classification_report`.\n",
    "\n",
    "<br>\n",
    "\n",
    "Now, let us manually calculate `weighted_avg_of_precision`:"
   ]
  },
  {
   "cell_type": "code",
   "execution_count": 37,
   "metadata": {
    "execution": {
     "iopub.execute_input": "2023-05-30T08:42:30.242751Z",
     "iopub.status.busy": "2023-05-30T08:42:30.242411Z",
     "iopub.status.idle": "2023-05-30T08:42:30.260633Z",
     "shell.execute_reply": "2023-05-30T08:42:30.259233Z",
     "shell.execute_reply.started": "2023-05-30T08:42:30.242720Z"
    }
   },
   "outputs": [
    {
     "data": {
      "text/html": [
       "<div>\n",
       "<style scoped>\n",
       "    .dataframe tbody tr th:only-of-type {\n",
       "        vertical-align: middle;\n",
       "    }\n",
       "\n",
       "    .dataframe tbody tr th {\n",
       "        vertical-align: top;\n",
       "    }\n",
       "\n",
       "    .dataframe thead th {\n",
       "        text-align: right;\n",
       "    }\n",
       "</style>\n",
       "<table border=\"1\" class=\"dataframe\">\n",
       "  <thead>\n",
       "    <tr style=\"text-align: right;\">\n",
       "      <th></th>\n",
       "      <th>precision</th>\n",
       "      <th>support</th>\n",
       "    </tr>\n",
       "  </thead>\n",
       "  <tbody>\n",
       "    <tr>\n",
       "      <th>non-fraud</th>\n",
       "      <td>0.999364</td>\n",
       "      <td>59708.0</td>\n",
       "    </tr>\n",
       "    <tr>\n",
       "      <th>fraud</th>\n",
       "      <td>0.888889</td>\n",
       "      <td>102.0</td>\n",
       "    </tr>\n",
       "  </tbody>\n",
       "</table>\n",
       "</div>"
      ],
      "text/plain": [
       "           precision  support\n",
       "non-fraud   0.999364  59708.0\n",
       "fraud       0.888889    102.0"
      ]
     },
     "execution_count": 37,
     "metadata": {},
     "output_type": "execute_result"
    }
   ],
   "source": [
    "cr_precision = cr.loc[['non-fraud','fraud'], ['precision','support']] # relevant subset of cr\n",
    "cr_precision"
   ]
  },
  {
   "cell_type": "code",
   "execution_count": 38,
   "metadata": {
    "execution": {
     "iopub.execute_input": "2023-05-30T08:42:30.262779Z",
     "iopub.status.busy": "2023-05-30T08:42:30.262356Z",
     "iopub.status.idle": "2023-05-30T08:42:30.272936Z",
     "shell.execute_reply": "2023-05-30T08:42:30.271355Z",
     "shell.execute_reply.started": "2023-05-30T08:42:30.262748Z"
    },
    "tags": []
   },
   "outputs": [
    {
     "data": {
      "text/plain": [
       "59810.0"
      ]
     },
     "execution_count": 38,
     "metadata": {},
     "output_type": "execute_result"
    }
   ],
   "source": [
    "cr_precision['support'].sum()"
   ]
  },
  {
   "cell_type": "code",
   "execution_count": 39,
   "metadata": {
    "execution": {
     "iopub.execute_input": "2023-05-30T08:42:30.276608Z",
     "iopub.status.busy": "2023-05-30T08:42:30.275225Z",
     "iopub.status.idle": "2023-05-30T08:42:30.288089Z",
     "shell.execute_reply": "2023-05-30T08:42:30.286534Z",
     "shell.execute_reply.started": "2023-05-30T08:42:30.276557Z"
    },
    "tags": []
   },
   "outputs": [
    {
     "data": {
      "text/plain": [
       "non-fraud    59670.019083\n",
       "fraud           90.666667\n",
       "dtype: float64"
      ]
     },
     "execution_count": 39,
     "metadata": {},
     "output_type": "execute_result"
    }
   ],
   "source": [
    "cr_precision.product(axis=1)"
   ]
  },
  {
   "cell_type": "code",
   "execution_count": 40,
   "metadata": {
    "execution": {
     "iopub.execute_input": "2023-05-30T08:42:30.291129Z",
     "iopub.status.busy": "2023-05-30T08:42:30.290585Z",
     "iopub.status.idle": "2023-05-30T08:42:30.301756Z",
     "shell.execute_reply": "2023-05-30T08:42:30.300212Z",
     "shell.execute_reply.started": "2023-05-30T08:42:30.291095Z"
    },
    "tags": []
   },
   "outputs": [
    {
     "data": {
      "text/plain": [
       "59760.6857499972"
      ]
     },
     "execution_count": 40,
     "metadata": {},
     "output_type": "execute_result"
    }
   ],
   "source": [
    "cr_precision.product(axis=1).sum()"
   ]
  },
  {
   "cell_type": "code",
   "execution_count": 41,
   "metadata": {
    "execution": {
     "iopub.execute_input": "2023-05-30T08:42:30.303776Z",
     "iopub.status.busy": "2023-05-30T08:42:30.303400Z",
     "iopub.status.idle": "2023-05-30T08:42:30.315628Z",
     "shell.execute_reply": "2023-05-30T08:42:30.313666Z",
     "shell.execute_reply.started": "2023-05-30T08:42:30.303745Z"
    }
   },
   "outputs": [
    {
     "data": {
      "text/plain": [
       "0.9991754848687043"
      ]
     },
     "execution_count": 41,
     "metadata": {},
     "output_type": "execute_result"
    }
   ],
   "source": [
    "weighted_avg_of_precision = cr_precision.product(axis=1).sum() / cr_precision['support'].sum()\n",
    "weighted_avg_of_precision"
   ]
  },
  {
   "cell_type": "code",
   "execution_count": 42,
   "metadata": {
    "execution": {
     "iopub.execute_input": "2023-05-30T08:42:30.318253Z",
     "iopub.status.busy": "2023-05-30T08:42:30.317683Z",
     "iopub.status.idle": "2023-05-30T08:42:30.330122Z",
     "shell.execute_reply": "2023-05-30T08:42:30.328236Z",
     "shell.execute_reply.started": "2023-05-30T08:42:30.318206Z"
    },
    "tags": []
   },
   "outputs": [
    {
     "data": {
      "text/plain": [
       "True"
      ]
     },
     "execution_count": 42,
     "metadata": {},
     "output_type": "execute_result"
    }
   ],
   "source": [
    "weighted_avg_of_precision == cr.loc['weighted avg', 'precision']"
   ]
  },
  {
   "cell_type": "markdown",
   "metadata": {},
   "source": [
    "Can you also manually calculate `weighted_avg_of_recall` and `weighted_avg_of_f1_score`?"
   ]
  },
  {
   "cell_type": "markdown",
   "metadata": {},
   "source": [
    "<br><br>"
   ]
  },
  {
   "cell_type": "markdown",
   "metadata": {
    "slideshow": {
     "slide_type": "slide"
    }
   },
   "source": [
    "### Interim summary \n",
    "\n",
    "- **Accuracy is misleading** when you have class **imbalance**.\n",
    "- A **confusion matrix** provides a way to **break down errors** made by our model.\n",
    "- We looked at three metrics based on confusion matrix: \n",
    "    - precision, recall, f1-score. "
   ]
  },
  {
   "cell_type": "markdown",
   "metadata": {
    "slideshow": {
     "slide_type": "slide"
    }
   },
   "source": [
    "- Note that what you consider \"positive\" (fraud in our case) is important when calculating precision, recall, and f1-score. \n",
    "- If you flip what is considered positive or negative, we'll end up with different TP, FP, TN, FN, and hence different precision, recall, and f1-scores. "
   ]
  },
  {
   "cell_type": "markdown",
   "metadata": {
    "slideshow": {
     "slide_type": "slide"
    }
   },
   "source": [
    "### Evalution metrics overview  \n",
    "There is a lot of terminology here. "
   ]
  },
  {
   "cell_type": "markdown",
   "metadata": {
    "slideshow": {
     "slide_type": "slide"
    }
   },
   "source": [
    "<img src='./img/evaluation-metrics.png' width=\"1000\" height=\"1000\" />"
   ]
  },
  {
   "cell_type": "markdown",
   "metadata": {
    "slideshow": {
     "slide_type": "slide"
    }
   },
   "source": [
    "### Cross validation with different metrics\n",
    "\n",
    "- We can pass different evaluation metrics with `scoring` argument of `cross_validate`."
   ]
  },
  {
   "cell_type": "code",
   "execution_count": 43,
   "metadata": {
    "execution": {
     "iopub.execute_input": "2023-05-30T08:42:30.332381Z",
     "iopub.status.busy": "2023-05-30T08:42:30.331937Z",
     "iopub.status.idle": "2023-05-30T08:42:42.068085Z",
     "shell.execute_reply": "2023-05-30T08:42:42.066508Z",
     "shell.execute_reply.started": "2023-05-30T08:42:30.332351Z"
    },
    "slideshow": {
     "slide_type": "slide"
    }
   },
   "outputs": [
    {
     "data": {
      "text/html": [
       "<div>\n",
       "<style scoped>\n",
       "    .dataframe tbody tr th:only-of-type {\n",
       "        vertical-align: middle;\n",
       "    }\n",
       "\n",
       "    .dataframe tbody tr th {\n",
       "        vertical-align: top;\n",
       "    }\n",
       "\n",
       "    .dataframe thead th {\n",
       "        text-align: right;\n",
       "    }\n",
       "</style>\n",
       "<table border=\"1\" class=\"dataframe\">\n",
       "  <thead>\n",
       "    <tr style=\"text-align: right;\">\n",
       "      <th></th>\n",
       "      <th>fit_time</th>\n",
       "      <th>score_time</th>\n",
       "      <th>test_accuracy</th>\n",
       "      <th>train_accuracy</th>\n",
       "      <th>test_f1</th>\n",
       "      <th>train_f1</th>\n",
       "      <th>test_recall</th>\n",
       "      <th>train_recall</th>\n",
       "      <th>test_precision</th>\n",
       "      <th>train_precision</th>\n",
       "    </tr>\n",
       "  </thead>\n",
       "  <tbody>\n",
       "    <tr>\n",
       "      <th>0</th>\n",
       "      <td>1.938407</td>\n",
       "      <td>0.176043</td>\n",
       "      <td>0.999147</td>\n",
       "      <td>0.999367</td>\n",
       "      <td>0.711864</td>\n",
       "      <td>0.783726</td>\n",
       "      <td>0.617647</td>\n",
       "      <td>0.675277</td>\n",
       "      <td>0.840000</td>\n",
       "      <td>0.933673</td>\n",
       "    </tr>\n",
       "    <tr>\n",
       "      <th>1</th>\n",
       "      <td>1.974438</td>\n",
       "      <td>0.138865</td>\n",
       "      <td>0.999298</td>\n",
       "      <td>0.999329</td>\n",
       "      <td>0.766667</td>\n",
       "      <td>0.770878</td>\n",
       "      <td>0.676471</td>\n",
       "      <td>0.664207</td>\n",
       "      <td>0.884615</td>\n",
       "      <td>0.918367</td>\n",
       "    </tr>\n",
       "    <tr>\n",
       "      <th>2</th>\n",
       "      <td>1.847354</td>\n",
       "      <td>0.143456</td>\n",
       "      <td>0.999273</td>\n",
       "      <td>0.999216</td>\n",
       "      <td>0.743363</td>\n",
       "      <td>0.726477</td>\n",
       "      <td>0.617647</td>\n",
       "      <td>0.612546</td>\n",
       "      <td>0.933333</td>\n",
       "      <td>0.892473</td>\n",
       "    </tr>\n",
       "    <tr>\n",
       "      <th>3</th>\n",
       "      <td>1.799313</td>\n",
       "      <td>0.127190</td>\n",
       "      <td>0.999172</td>\n",
       "      <td>0.999279</td>\n",
       "      <td>0.697248</td>\n",
       "      <td>0.753747</td>\n",
       "      <td>0.558824</td>\n",
       "      <td>0.649446</td>\n",
       "      <td>0.926829</td>\n",
       "      <td>0.897959</td>\n",
       "    </tr>\n",
       "    <tr>\n",
       "      <th>4</th>\n",
       "      <td>1.842063</td>\n",
       "      <td>0.159591</td>\n",
       "      <td>0.999172</td>\n",
       "      <td>0.999223</td>\n",
       "      <td>0.702703</td>\n",
       "      <td>0.731602</td>\n",
       "      <td>0.582090</td>\n",
       "      <td>0.621324</td>\n",
       "      <td>0.886364</td>\n",
       "      <td>0.889474</td>\n",
       "    </tr>\n",
       "  </tbody>\n",
       "</table>\n",
       "</div>"
      ],
      "text/plain": [
       "   fit_time  score_time  test_accuracy  train_accuracy   test_f1  train_f1  \\\n",
       "0  1.938407    0.176043       0.999147        0.999367  0.711864  0.783726   \n",
       "1  1.974438    0.138865       0.999298        0.999329  0.766667  0.770878   \n",
       "2  1.847354    0.143456       0.999273        0.999216  0.743363  0.726477   \n",
       "3  1.799313    0.127190       0.999172        0.999279  0.697248  0.753747   \n",
       "4  1.842063    0.159591       0.999172        0.999223  0.702703  0.731602   \n",
       "\n",
       "   test_recall  train_recall  test_precision  train_precision  \n",
       "0     0.617647      0.675277        0.840000         0.933673  \n",
       "1     0.676471      0.664207        0.884615         0.918367  \n",
       "2     0.617647      0.612546        0.933333         0.892473  \n",
       "3     0.558824      0.649446        0.926829         0.897959  \n",
       "4     0.582090      0.621324        0.886364         0.889474  "
      ]
     },
     "execution_count": 43,
     "metadata": {},
     "output_type": "execute_result"
    }
   ],
   "source": [
    "scoring = [\n",
    "    \"accuracy\",\n",
    "    \"f1\",\n",
    "    \"recall\",\n",
    "    \"precision\",\n",
    "]  # scoring can be a string, a list, or a dictionary\n",
    "pipe_lr = make_pipeline(StandardScaler(), LogisticRegression())\n",
    "scores = cross_validate(\n",
    "    pipe_lr, X_train_big, y_train_big, return_train_score=True, scoring=scoring\n",
    ")\n",
    "pd.DataFrame(scores)"
   ]
  },
  {
   "cell_type": "markdown",
   "metadata": {
    "slideshow": {
     "slide_type": "slide"
    }
   },
   "source": [
    "- You can also create [your own scoring function](https://scikit-learn.org/stable/modules/generated/sklearn.metrics.make_scorer.html) and pass it to `cross_validate`. "
   ]
  },
  {
   "cell_type": "markdown",
   "metadata": {
    "slideshow": {
     "slide_type": "slide"
    }
   },
   "source": [
    "## ❓❓ Questions for you\n",
    "\n",
    "iClicker join links\n",
    "\n",
    "- CPSC 330 **911**\n",
    "  - https://join.iclicker.com/LFDB\n",
    "- CPSC 330 **912**\n",
    "  - https://join.iclicker.com/GJMY"
   ]
  },
  {
   "cell_type": "markdown",
   "metadata": {
    "slideshow": {
     "slide_type": "skip"
    }
   },
   "source": [
    "### iClicker Exercise 9.1 \n",
    "\n",
    "**Select all of the following statements which are TRUE.**\n",
    "\n",
    "- (A) In medical diagnosis, false positives are likely to be more damaging than false negatives (assume \"positive\" means the person has a disease, \"negative\" means they don't).\n",
    "- (B) In spam classification, false positives are likely to be more damaging than false negatives (assume \"positive\" means the email is spam, \"negative\" means it's not).\n",
    "- (C) If method A gets a higher accuracy than method B, that means its precision is also higher.\n",
    "- (D) If method A gets a higher accuracy than method B, that means its recall is also higher."
   ]
  },
  {
   "cell_type": "markdown",
   "metadata": {
    "slideshow": {
     "slide_type": "slide"
    }
   },
   "source": [
    "<br><br><br><br>"
   ]
  },
  {
   "cell_type": "markdown",
   "metadata": {
    "slideshow": {
     "slide_type": "slide"
    }
   },
   "source": [
    "## Precision-recall curve and ROC curve"
   ]
  },
  {
   "cell_type": "markdown",
   "metadata": {
    "slideshow": {
     "slide_type": "slide"
    }
   },
   "source": [
    "- Confusion matrix provides a detailed break down of the errors made by the model. \n",
    "- But when creating a confusion matrix, we are using \"hard\" predictions. \n",
    "- Most classifiers in `scikit-learn` provide `predict_proba` method (or `decision_function`) which provides **degree of certainty** about predictions by the classifier. \n",
    "- Can we explore the degree of uncertainty to understand and improve the model performance? "
   ]
  },
  {
   "cell_type": "markdown",
   "metadata": {
    "slideshow": {
     "slide_type": "slide"
    }
   },
   "source": [
    "Let's revisit the classification report on our fraud detection example. "
   ]
  },
  {
   "cell_type": "code",
   "execution_count": 44,
   "metadata": {
    "execution": {
     "iopub.execute_input": "2023-05-30T08:42:42.070513Z",
     "iopub.status.busy": "2023-05-30T08:42:42.070125Z",
     "iopub.status.idle": "2023-05-30T08:42:43.957629Z",
     "shell.execute_reply": "2023-05-30T08:42:43.955590Z",
     "shell.execute_reply.started": "2023-05-30T08:42:42.070482Z"
    },
    "slideshow": {
     "slide_type": "slide"
    }
   },
   "outputs": [],
   "source": [
    "pipe_lr = make_pipeline(StandardScaler(), LogisticRegression())\n",
    "pipe_lr.fit(X_train, y_train);"
   ]
  },
  {
   "cell_type": "code",
   "execution_count": 45,
   "metadata": {
    "execution": {
     "iopub.execute_input": "2023-05-30T08:42:43.977357Z",
     "iopub.status.busy": "2023-05-30T08:42:43.969905Z",
     "iopub.status.idle": "2023-05-30T08:42:44.196434Z",
     "shell.execute_reply": "2023-05-30T08:42:44.194500Z",
     "shell.execute_reply.started": "2023-05-30T08:42:43.977203Z"
    },
    "slideshow": {
     "slide_type": "-"
    }
   },
   "outputs": [
    {
     "name": "stdout",
     "output_type": "stream",
     "text": [
      "              precision    recall  f1-score   support\n",
      "\n",
      "   non-fraud     0.9994    0.9999    0.9996     59708\n",
      "       fraud     0.8889    0.6275    0.7356       102\n",
      "\n",
      "    accuracy                         0.9992     59810\n",
      "   macro avg     0.9441    0.8137    0.8676     59810\n",
      "weighted avg     0.9992    0.9992    0.9992     59810\n",
      "\n"
     ]
    }
   ],
   "source": [
    "y_pred = pipe_lr.predict(X_valid)\n",
    "print(classification_report(y_valid, y_pred, target_names=[\"non-fraud\", \"fraud\"], digits=4))"
   ]
  },
  {
   "cell_type": "markdown",
   "metadata": {
    "slideshow": {
     "slide_type": "slide"
    }
   },
   "source": [
    "By default, predictions use the **threshold of 0.5**. If `predict_proba` > 0.5, predict \"fraud\" (positive) else predict \"non-fraud\" (negative).\n",
    "\n",
    "\n",
    "In the above code, the function `predict` returns a boolean array, `y_pred`:"
   ]
  },
  {
   "cell_type": "code",
   "execution_count": 46,
   "metadata": {
    "execution": {
     "iopub.execute_input": "2023-05-30T08:42:44.198922Z",
     "iopub.status.busy": "2023-05-30T08:42:44.198266Z",
     "iopub.status.idle": "2023-05-30T08:42:44.210926Z",
     "shell.execute_reply": "2023-05-30T08:42:44.208554Z",
     "shell.execute_reply.started": "2023-05-30T08:42:44.198851Z"
    }
   },
   "outputs": [
    {
     "data": {
      "text/plain": [
       "array([0, 0, 0, ..., 0, 0, 0])"
      ]
     },
     "execution_count": 46,
     "metadata": {},
     "output_type": "execute_result"
    }
   ],
   "source": [
    "y_pred"
   ]
  },
  {
   "cell_type": "code",
   "execution_count": 47,
   "metadata": {
    "execution": {
     "iopub.execute_input": "2023-05-30T08:42:44.216098Z",
     "iopub.status.busy": "2023-05-30T08:42:44.215326Z",
     "iopub.status.idle": "2023-05-30T08:42:44.227624Z",
     "shell.execute_reply": "2023-05-30T08:42:44.225749Z",
     "shell.execute_reply.started": "2023-05-30T08:42:44.216040Z"
    }
   },
   "outputs": [
    {
     "data": {
      "text/plain": [
       "array([0, 1])"
      ]
     },
     "execution_count": 47,
     "metadata": {},
     "output_type": "execute_result"
    }
   ],
   "source": [
    "np.unique(y_pred)"
   ]
  },
  {
   "cell_type": "markdown",
   "metadata": {},
   "source": [
    "We can create the same boolean array `y_pred` directly using `predict_proba` > 0.5:"
   ]
  },
  {
   "cell_type": "code",
   "execution_count": 48,
   "metadata": {
    "execution": {
     "iopub.execute_input": "2023-05-30T08:42:44.229195Z",
     "iopub.status.busy": "2023-05-30T08:42:44.228857Z",
     "iopub.status.idle": "2023-05-30T08:42:44.446069Z",
     "shell.execute_reply": "2023-05-30T08:42:44.444544Z",
     "shell.execute_reply.started": "2023-05-30T08:42:44.229166Z"
    },
    "slideshow": {
     "slide_type": "-"
    }
   },
   "outputs": [
    {
     "name": "stdout",
     "output_type": "stream",
     "text": [
      "              precision    recall  f1-score   support\n",
      "\n",
      "   non-fraud     0.9994    0.9999    0.9996     59708\n",
      "       fraud     0.8889    0.6275    0.7356       102\n",
      "\n",
      "    accuracy                         0.9992     59810\n",
      "   macro avg     0.9441    0.8137    0.8676     59810\n",
      "weighted avg     0.9992    0.9992    0.9992     59810\n",
      "\n"
     ]
    }
   ],
   "source": [
    "# negative class column is 0, and positive class column is 1, so we want [:, 1]\n",
    "y_pred = pipe_lr.predict_proba(X_valid)[:, 1] > 0.50\n",
    "print(classification_report(y_valid, y_pred, target_names=[\"non-fraud\", \"fraud\"], digits=4))"
   ]
  },
  {
   "cell_type": "markdown",
   "metadata": {
    "slideshow": {
     "slide_type": "slide"
    }
   },
   "source": [
    "<br>\n",
    "\n",
    "Now,\n",
    "- Suppose for your business it is more costly to miss fraudulent transactions and you want to achieve a **recall of at least 75%** for the \"fraud\" class. \n",
    "- One way to do this is by **changing the threshold** of `predict_proba`.\n",
    "    - `predict` returns 1 when `predict_proba`'s probabilities are above 0.5 for the \"fraud\" class.\n",
    "\n",
    "**Key idea:**\n",
    "> **what if we _threshold the probability at a smaller value_ so that we identify more examples as \"fraud\" examples?** "
   ]
  },
  {
   "cell_type": "markdown",
   "metadata": {
    "slideshow": {
     "slide_type": "slide"
    }
   },
   "source": [
    "Let's lower the **threshold to 0.1**. In other words, predict the examples as \"fraud\" if `predict_proba` > 0.1.  "
   ]
  },
  {
   "cell_type": "code",
   "execution_count": 49,
   "metadata": {
    "execution": {
     "iopub.execute_input": "2023-05-30T08:42:44.447933Z",
     "iopub.status.busy": "2023-05-30T08:42:44.447550Z",
     "iopub.status.idle": "2023-05-30T08:42:44.492772Z",
     "shell.execute_reply": "2023-05-30T08:42:44.485422Z",
     "shell.execute_reply.started": "2023-05-30T08:42:44.447904Z"
    }
   },
   "outputs": [],
   "source": [
    "y_pred_lower_threshold = pipe_lr.predict_proba(X_valid)[:, 1] > 0.1"
   ]
  },
  {
   "cell_type": "code",
   "execution_count": 50,
   "metadata": {
    "execution": {
     "iopub.execute_input": "2023-05-30T08:42:44.499404Z",
     "iopub.status.busy": "2023-05-30T08:42:44.498792Z",
     "iopub.status.idle": "2023-05-30T08:42:44.673172Z",
     "shell.execute_reply": "2023-05-30T08:42:44.671789Z",
     "shell.execute_reply.started": "2023-05-30T08:42:44.499356Z"
    }
   },
   "outputs": [
    {
     "name": "stdout",
     "output_type": "stream",
     "text": [
      "              precision    recall  f1-score   support\n",
      "\n",
      "           0     0.9996    0.9996    0.9996     59708\n",
      "           1     0.7800    0.7647    0.7723       102\n",
      "\n",
      "    accuracy                         0.9992     59810\n",
      "   macro avg     0.8898    0.8822    0.8859     59810\n",
      "weighted avg     0.9992    0.9992    0.9992     59810\n",
      "\n"
     ]
    }
   ],
   "source": [
    "print(classification_report(y_valid, y_pred_lower_threshold, digits=4))"
   ]
  },
  {
   "cell_type": "markdown",
   "metadata": {
    "slideshow": {
     "slide_type": "slide"
    }
   },
   "source": [
    "### Operating point \n",
    "\n",
    "- Now our recall for \"fraud\" class is >= 0.75. \n",
    "- Setting a **requirement on a classifier** (e.g., recall of >= 0.75) is called setting the **operating point**. \n",
    "- It's usually driven by **business goals** and is useful to make performance guarantees to customers. "
   ]
  },
  {
   "cell_type": "markdown",
   "metadata": {
    "slideshow": {
     "slide_type": "slide"
    }
   },
   "source": [
    "### Precision/Recall tradeoff \n",
    "\n",
    "- But there is a trade-off between precision and recall. \n",
    "- If you identify more things as \"fraud\", \n",
    "    - recall is going to increase but \n",
    "    - there are likely to be more false positives."
   ]
  },
  {
   "cell_type": "markdown",
   "metadata": {
    "slideshow": {
     "slide_type": "slide"
    }
   },
   "source": [
    "Let's sweep through different thresholds. "
   ]
  },
  {
   "cell_type": "code",
   "execution_count": 51,
   "metadata": {
    "execution": {
     "iopub.execute_input": "2023-05-30T08:42:44.675399Z",
     "iopub.status.busy": "2023-05-30T08:42:44.674908Z",
     "iopub.status.idle": "2023-05-30T08:42:44.684457Z",
     "shell.execute_reply": "2023-05-30T08:42:44.682454Z",
     "shell.execute_reply.started": "2023-05-30T08:42:44.675348Z"
    },
    "slideshow": {
     "slide_type": "skip"
    },
    "tags": []
   },
   "outputs": [],
   "source": [
    "def f(threshold):\n",
    "    preds = pipe_lr.predict_proba(X_valid)[:, 1] > threshold    \n",
    "    print(\"Threshold: \", np.round(threshold,4))\n",
    "    print(\"Precision: \", np.round(precision_score(y_valid, preds),4))\n",
    "    print(\"Recall: \", np.round(recall_score(y_valid, preds), 4))    \n",
    "    print(\"f1 score: \", np.round(f1_score(y_valid, preds), 4))        "
   ]
  },
  {
   "cell_type": "code",
   "execution_count": 52,
   "metadata": {
    "execution": {
     "iopub.execute_input": "2023-05-30T08:42:44.687177Z",
     "iopub.status.busy": "2023-05-30T08:42:44.686614Z",
     "iopub.status.idle": "2023-05-30T08:42:44.984708Z",
     "shell.execute_reply": "2023-05-30T08:42:44.983322Z",
     "shell.execute_reply.started": "2023-05-30T08:42:44.687140Z"
    },
    "slideshow": {
     "slide_type": "skip"
    },
    "tags": []
   },
   "outputs": [
    {
     "data": {
      "application/vnd.jupyter.widget-view+json": {
       "model_id": "73ac0bd11d1740f296fe1b8817e125da",
       "version_major": 2,
       "version_minor": 0
      },
      "text/plain": [
       "interactive(children=(FloatSlider(value=0.5, description='threshold', max=0.9), Output()), _dom_classes=('widg…"
      ]
     },
     "execution_count": 52,
     "metadata": {},
     "output_type": "execute_result"
    }
   ],
   "source": [
    "import ipywidgets as widgets\n",
    "from ipywidgets import interact, interactive\n",
    "\n",
    "interactive(\n",
    "    f,\n",
    "    threshold=widgets.FloatSlider(min=0, max=0.9, step=0.1, value=0.5),\n",
    ")"
   ]
  },
  {
   "cell_type": "markdown",
   "metadata": {},
   "source": [
    "Let's view Precision and Recall for different thresholds as a dataframe. "
   ]
  },
  {
   "cell_type": "code",
   "execution_count": 53,
   "metadata": {
    "execution": {
     "iopub.execute_input": "2023-05-30T08:42:44.987407Z",
     "iopub.status.busy": "2023-05-30T08:42:44.986135Z",
     "iopub.status.idle": "2023-05-30T08:42:44.997717Z",
     "shell.execute_reply": "2023-05-30T08:42:44.995841Z",
     "shell.execute_reply.started": "2023-05-30T08:42:44.987374Z"
    },
    "slideshow": {
     "slide_type": "-"
    },
    "tags": []
   },
   "outputs": [
    {
     "data": {
      "text/plain": [
       "array([0. , 0.1, 0.2, 0.3, 0.4, 0.5, 0.6, 0.7, 0.8, 0.9])"
      ]
     },
     "execution_count": 53,
     "metadata": {},
     "output_type": "execute_result"
    }
   ],
   "source": [
    "thresholds = np.arange(0, 1, 0.1)\n",
    "thresholds"
   ]
  },
  {
   "cell_type": "code",
   "execution_count": 54,
   "metadata": {
    "execution": {
     "iopub.execute_input": "2023-05-30T08:42:45.000515Z",
     "iopub.status.busy": "2023-05-30T08:42:44.999288Z",
     "iopub.status.idle": "2023-05-30T08:42:46.818189Z",
     "shell.execute_reply": "2023-05-30T08:42:46.816020Z",
     "shell.execute_reply.started": "2023-05-30T08:42:45.000483Z"
    },
    "slideshow": {
     "slide_type": "-"
    },
    "tags": []
   },
   "outputs": [],
   "source": [
    "pr_dict = {\"threshold\": [], \"precision\": [], \"recall\": [], \"f1 score\": []}\n",
    "for threshold in thresholds:\n",
    "    preds = pipe_lr.predict_proba(X_valid)[:, 1] > threshold\n",
    "    pr_dict[\"threshold\"].append(threshold)\n",
    "    pr_dict[\"precision\"].append(precision_score(y_valid, preds))\n",
    "    pr_dict[\"recall\"].append(recall_score(y_valid, preds))\n",
    "    pr_dict[\"f1 score\"].append(f1_score(y_valid, preds))"
   ]
  },
  {
   "cell_type": "code",
   "execution_count": 55,
   "metadata": {
    "execution": {
     "iopub.execute_input": "2023-05-30T08:42:46.822360Z",
     "iopub.status.busy": "2023-05-30T08:42:46.820951Z",
     "iopub.status.idle": "2023-05-30T08:42:46.851543Z",
     "shell.execute_reply": "2023-05-30T08:42:46.849400Z",
     "shell.execute_reply.started": "2023-05-30T08:42:46.822317Z"
    },
    "tags": []
   },
   "outputs": [
    {
     "data": {
      "text/html": [
       "<div>\n",
       "<style scoped>\n",
       "    .dataframe tbody tr th:only-of-type {\n",
       "        vertical-align: middle;\n",
       "    }\n",
       "\n",
       "    .dataframe tbody tr th {\n",
       "        vertical-align: top;\n",
       "    }\n",
       "\n",
       "    .dataframe thead th {\n",
       "        text-align: right;\n",
       "    }\n",
       "</style>\n",
       "<table border=\"1\" class=\"dataframe\">\n",
       "  <thead>\n",
       "    <tr style=\"text-align: right;\">\n",
       "      <th></th>\n",
       "      <th>precision</th>\n",
       "      <th>recall</th>\n",
       "      <th>f1 score</th>\n",
       "    </tr>\n",
       "    <tr>\n",
       "      <th>threshold</th>\n",
       "      <th></th>\n",
       "      <th></th>\n",
       "      <th></th>\n",
       "    </tr>\n",
       "  </thead>\n",
       "  <tbody>\n",
       "    <tr>\n",
       "      <th>0.0</th>\n",
       "      <td>0.001705</td>\n",
       "      <td>1.000000</td>\n",
       "      <td>0.003405</td>\n",
       "    </tr>\n",
       "    <tr>\n",
       "      <th>0.1</th>\n",
       "      <td>0.780000</td>\n",
       "      <td>0.764706</td>\n",
       "      <td>0.772277</td>\n",
       "    </tr>\n",
       "    <tr>\n",
       "      <th>0.2</th>\n",
       "      <td>0.795699</td>\n",
       "      <td>0.725490</td>\n",
       "      <td>0.758974</td>\n",
       "    </tr>\n",
       "    <tr>\n",
       "      <th>0.3</th>\n",
       "      <td>0.819277</td>\n",
       "      <td>0.666667</td>\n",
       "      <td>0.735135</td>\n",
       "    </tr>\n",
       "    <tr>\n",
       "      <th>0.4</th>\n",
       "      <td>0.876712</td>\n",
       "      <td>0.627451</td>\n",
       "      <td>0.731429</td>\n",
       "    </tr>\n",
       "    <tr>\n",
       "      <th>0.5</th>\n",
       "      <td>0.888889</td>\n",
       "      <td>0.627451</td>\n",
       "      <td>0.735632</td>\n",
       "    </tr>\n",
       "    <tr>\n",
       "      <th>0.6</th>\n",
       "      <td>0.897059</td>\n",
       "      <td>0.598039</td>\n",
       "      <td>0.717647</td>\n",
       "    </tr>\n",
       "    <tr>\n",
       "      <th>0.7</th>\n",
       "      <td>0.892308</td>\n",
       "      <td>0.568627</td>\n",
       "      <td>0.694611</td>\n",
       "    </tr>\n",
       "    <tr>\n",
       "      <th>0.8</th>\n",
       "      <td>0.901639</td>\n",
       "      <td>0.539216</td>\n",
       "      <td>0.674847</td>\n",
       "    </tr>\n",
       "    <tr>\n",
       "      <th>0.9</th>\n",
       "      <td>0.894737</td>\n",
       "      <td>0.500000</td>\n",
       "      <td>0.641509</td>\n",
       "    </tr>\n",
       "  </tbody>\n",
       "</table>\n",
       "</div>"
      ],
      "text/plain": [
       "           precision    recall  f1 score\n",
       "threshold                               \n",
       "0.0         0.001705  1.000000  0.003405\n",
       "0.1         0.780000  0.764706  0.772277\n",
       "0.2         0.795699  0.725490  0.758974\n",
       "0.3         0.819277  0.666667  0.735135\n",
       "0.4         0.876712  0.627451  0.731429\n",
       "0.5         0.888889  0.627451  0.735632\n",
       "0.6         0.897059  0.598039  0.717647\n",
       "0.7         0.892308  0.568627  0.694611\n",
       "0.8         0.901639  0.539216  0.674847\n",
       "0.9         0.894737  0.500000  0.641509"
      ]
     },
     "execution_count": 55,
     "metadata": {},
     "output_type": "execute_result"
    }
   ],
   "source": [
    "pr_df = pd.DataFrame(pr_dict).set_index('threshold')\n",
    "pr_df"
   ]
  },
  {
   "cell_type": "code",
   "execution_count": 56,
   "metadata": {
    "execution": {
     "iopub.execute_input": "2023-05-30T08:42:46.855876Z",
     "iopub.status.busy": "2023-05-30T08:42:46.854615Z",
     "iopub.status.idle": "2023-05-30T08:42:47.266682Z",
     "shell.execute_reply": "2023-05-30T08:42:47.264877Z",
     "shell.execute_reply.started": "2023-05-30T08:42:46.855824Z"
    }
   },
   "outputs": [
    {
     "data": {
      "image/png": "[encoded data removed]",
      "text/plain": [
       "<Figure size 640x480 with 1 Axes>"
      ]
     },
     "metadata": {},
     "output_type": "display_data"
    }
   ],
   "source": [
    "pr_df[['precision', 'recall']].plot();"
   ]
  },
  {
   "cell_type": "markdown",
   "metadata": {
    "slideshow": {
     "slide_type": "slide"
    }
   },
   "source": [
    "### Decreasing the threshold\n",
    "\n",
    "- ***Decreasing the threshold*** means a lower bar for predicting fraud. \n",
    "    - You are willing to risk more false positives FP⬆ in exchange of more true positives TP⬆. \n",
    "      - In general, predicted positives (TP + FP)⬆ go up or stay the same\n",
    "      - In general, predicted negatives (TN + FN)⬇ go down or stay the same\n",
    "    - recall is likely to go up or stay the same\n",
    "      - TP⬆ / (TP⬆+FN⬇) so generally recall ⬆\n",
    "    - precision is likely to go down or stay the same\n",
    "      - TP⬆ / (TP⬆+FP⬆) so generally precision ⬇\n"
   ]
  },
  {
   "cell_type": "markdown",
   "metadata": {
    "slideshow": {
     "slide_type": "slide"
    }
   },
   "source": [
    "### Increasing the threshold\n",
    "\n",
    "On the flip side:\n",
    "\n",
    "- Increasing the threshold means a higher bar for predicting fraud. \n",
    "    - recall would go down or stay the same but precision is likely to go up \n",
    "    - occasionally, precision may go down as the denominator for precision is TP+FP.    "
   ]
  },
  {
   "cell_type": "markdown",
   "metadata": {
    "slideshow": {
     "slide_type": "slide"
    }
   },
   "source": [
    "### Precision-recall curve\n",
    "\n",
    "Often, when developing a model, it's not always clear what the operating point will be and to understand the the model better, it's **informative to look at all possible thresholds** and corresponding trade-offs of precision and recall in a plot.  \n"
   ]
  },
  {
   "cell_type": "code",
   "execution_count": 57,
   "metadata": {
    "execution": {
     "iopub.execute_input": "2023-05-30T08:42:47.272876Z",
     "iopub.status.busy": "2023-05-30T08:42:47.268612Z",
     "iopub.status.idle": "2023-05-30T08:42:47.411189Z",
     "shell.execute_reply": "2023-05-30T08:42:47.409619Z",
     "shell.execute_reply.started": "2023-05-30T08:42:47.272828Z"
    },
    "slideshow": {
     "slide_type": "slide"
    },
    "tags": []
   },
   "outputs": [
    {
     "name": "stdout",
     "output_type": "stream",
     "text": [
      "(59740,) (59741,) (59741,)\n"
     ]
    }
   ],
   "source": [
    "from sklearn.metrics import precision_recall_curve\n",
    "\n",
    "precision, recall, thresholds = precision_recall_curve(\n",
    "    y_valid, pipe_lr.predict_proba(X_valid)[:, 1]\n",
    ")\n",
    "print(thresholds.shape, precision.shape, recall.shape)\n",
    "thresholds = np.append(thresholds, 1)  # make thresholds same length as precision and recall"
   ]
  },
  {
   "cell_type": "markdown",
   "metadata": {},
   "source": [
    "- In `precision_recall_curve`, precision and recall are calculated for each threshold.\n",
    "- The last precision and recall values are 1 and 0 respectively and do not have a corresponding threshold (see 59740 vs. 59741 above).\n",
    "  - To make shapes compatible, a threshold of 1 is appended to `thresholds`"
   ]
  },
  {
   "cell_type": "code",
   "execution_count": 58,
   "metadata": {
    "execution": {
     "iopub.execute_input": "2023-05-30T08:42:47.419262Z",
     "iopub.status.busy": "2023-05-30T08:42:47.417457Z",
     "iopub.status.idle": "2023-05-30T08:42:47.473028Z",
     "shell.execute_reply": "2023-05-30T08:42:47.470269Z",
     "shell.execute_reply.started": "2023-05-30T08:42:47.419165Z"
    },
    "tags": []
   },
   "outputs": [
    {
     "data": {
      "text/html": [
       "<div>\n",
       "<style scoped>\n",
       "    .dataframe tbody tr th:only-of-type {\n",
       "        vertical-align: middle;\n",
       "    }\n",
       "\n",
       "    .dataframe tbody tr th {\n",
       "        vertical-align: top;\n",
       "    }\n",
       "\n",
       "    .dataframe thead th {\n",
       "        text-align: right;\n",
       "    }\n",
       "</style>\n",
       "<table border=\"1\" class=\"dataframe\">\n",
       "  <thead>\n",
       "    <tr style=\"text-align: right;\">\n",
       "      <th></th>\n",
       "      <th>precision</th>\n",
       "      <th>recall</th>\n",
       "    </tr>\n",
       "    <tr>\n",
       "      <th>thresholds</th>\n",
       "      <th></th>\n",
       "      <th></th>\n",
       "    </tr>\n",
       "  </thead>\n",
       "  <tbody>\n",
       "    <tr>\n",
       "      <th>0.000068</th>\n",
       "      <td>0.002096</td>\n",
       "      <td>0.990196</td>\n",
       "    </tr>\n",
       "    <tr>\n",
       "      <th>0.000076</th>\n",
       "      <td>0.002154</td>\n",
       "      <td>0.990196</td>\n",
       "    </tr>\n",
       "    <tr>\n",
       "      <th>0.000093</th>\n",
       "      <td>0.002280</td>\n",
       "      <td>0.990196</td>\n",
       "    </tr>\n",
       "    <tr>\n",
       "      <th>0.000119</th>\n",
       "      <td>0.002500</td>\n",
       "      <td>0.990196</td>\n",
       "    </tr>\n",
       "    <tr>\n",
       "      <th>0.000153</th>\n",
       "      <td>0.002791</td>\n",
       "      <td>0.990196</td>\n",
       "    </tr>\n",
       "    <tr>\n",
       "      <th>0.000341</th>\n",
       "      <td>0.004780</td>\n",
       "      <td>0.960784</td>\n",
       "    </tr>\n",
       "    <tr>\n",
       "      <th>0.000379</th>\n",
       "      <td>0.005341</td>\n",
       "      <td>0.960784</td>\n",
       "    </tr>\n",
       "    <tr>\n",
       "      <th>0.000617</th>\n",
       "      <td>0.009068</td>\n",
       "      <td>0.941176</td>\n",
       "    </tr>\n",
       "    <tr>\n",
       "      <th>0.001105</th>\n",
       "      <td>0.019334</td>\n",
       "      <td>0.921569</td>\n",
       "    </tr>\n",
       "    <tr>\n",
       "      <th>0.003329</th>\n",
       "      <td>0.085824</td>\n",
       "      <td>0.872549</td>\n",
       "    </tr>\n",
       "  </tbody>\n",
       "</table>\n",
       "</div>"
      ],
      "text/plain": [
       "            precision    recall\n",
       "thresholds                     \n",
       "0.000068     0.002096  0.990196\n",
       "0.000076     0.002154  0.990196\n",
       "0.000093     0.002280  0.990196\n",
       "0.000119     0.002500  0.990196\n",
       "0.000153     0.002791  0.990196\n",
       "0.000341     0.004780  0.960784\n",
       "0.000379     0.005341  0.960784\n",
       "0.000617     0.009068  0.941176\n",
       "0.001105     0.019334  0.921569\n",
       "0.003329     0.085824  0.872549"
      ]
     },
     "execution_count": 58,
     "metadata": {},
     "output_type": "execute_result"
    }
   ],
   "source": [
    "df_PR = pd.DataFrame(\n",
    "    {\"precision\": precision, \"recall\":recall, \"thresholds\":thresholds}).set_index(\"thresholds\")\n",
    "df_PR.sample(10).sort_index()  # see some randomly selected rows"
   ]
  },
  {
   "cell_type": "markdown",
   "metadata": {},
   "source": [
    "Let's find the values of precision and recall for closest threshold to 0.5"
   ]
  },
  {
   "cell_type": "code",
   "execution_count": 59,
   "metadata": {
    "execution": {
     "iopub.execute_input": "2023-05-30T08:42:47.475554Z",
     "iopub.status.busy": "2023-05-30T08:42:47.474717Z",
     "iopub.status.idle": "2023-05-30T08:42:47.498630Z",
     "shell.execute_reply": "2023-05-30T08:42:47.496919Z",
     "shell.execute_reply.started": "2023-05-30T08:42:47.475516Z"
    },
    "tags": []
   },
   "outputs": [
    {
     "data": {
      "text/html": [
       "<div>\n",
       "<style scoped>\n",
       "    .dataframe tbody tr th:only-of-type {\n",
       "        vertical-align: middle;\n",
       "    }\n",
       "\n",
       "    .dataframe tbody tr th {\n",
       "        vertical-align: top;\n",
       "    }\n",
       "\n",
       "    .dataframe thead th {\n",
       "        text-align: right;\n",
       "    }\n",
       "</style>\n",
       "<table border=\"1\" class=\"dataframe\">\n",
       "  <thead>\n",
       "    <tr style=\"text-align: right;\">\n",
       "      <th></th>\n",
       "      <th>precision</th>\n",
       "      <th>recall</th>\n",
       "    </tr>\n",
       "    <tr>\n",
       "      <th>thresholds</th>\n",
       "      <th></th>\n",
       "      <th></th>\n",
       "    </tr>\n",
       "  </thead>\n",
       "  <tbody>\n",
       "    <tr>\n",
       "      <th>0.510836</th>\n",
       "      <td>0.888889</td>\n",
       "      <td>0.627451</td>\n",
       "    </tr>\n",
       "  </tbody>\n",
       "</table>\n",
       "</div>"
      ],
      "text/plain": [
       "            precision    recall\n",
       "thresholds                     \n",
       "0.510836     0.888889  0.627451"
      ]
     },
     "execution_count": 59,
     "metadata": {},
     "output_type": "execute_result"
    }
   ],
   "source": [
    "close_default_index = np.argmin(np.abs(df_PR.index - 0.5))  # closest index to 0.5\n",
    "df_PR.iloc[[close_default_index]]"
   ]
  },
  {
   "cell_type": "code",
   "execution_count": 60,
   "metadata": {
    "execution": {
     "iopub.execute_input": "2023-05-30T08:42:47.502010Z",
     "iopub.status.busy": "2023-05-30T08:42:47.500733Z",
     "iopub.status.idle": "2023-05-30T08:42:47.517478Z",
     "shell.execute_reply": "2023-05-30T08:42:47.515659Z",
     "shell.execute_reply.started": "2023-05-30T08:42:47.501942Z"
    },
    "tags": []
   },
   "outputs": [
    {
     "data": {
      "text/plain": [
       "array([58213, 59291, 59609, 59670, 59702, 59730])"
      ]
     },
     "execution_count": 60,
     "metadata": {},
     "output_type": "execute_result"
    }
   ],
   "source": [
    "# select some table rows (including threshold 0.5) to draw below\n",
    "rows = np.geomspace(1, len(df_PR), num=10)\n",
    "rows = np.unique(rows.astype(int))  # truncate to integers and drop duplicates\n",
    "rows = max(rows) - rows  # get reverse geomspace: going from larger to shorter distances\n",
    "rows = np.append(rows, close_default_index)  # add the index for closest threshold to 0.5\n",
    "rows = np.sort(rows)\n",
    "rows = rows[3:-2] # the end points on graph will be too close, so drop some points at both ends\n",
    "rows # the indices to some thresholds for display in graph below"
   ]
  },
  {
   "cell_type": "code",
   "execution_count": 61,
   "metadata": {
    "execution": {
     "iopub.execute_input": "2023-05-30T08:42:47.520225Z",
     "iopub.status.busy": "2023-05-30T08:42:47.519365Z",
     "iopub.status.idle": "2023-05-30T08:42:48.600838Z",
     "shell.execute_reply": "2023-05-30T08:42:48.599627Z",
     "shell.execute_reply.started": "2023-05-30T08:42:47.520189Z"
    },
    "tags": []
   },
   "outputs": [
    {
     "data": {
      "image/png": "[encoded data removed]",
      "text/plain": [
       "<Figure size 1600x500 with 2 Axes>"
      ]
     },
     "metadata": {},
     "output_type": "display_data"
    }
   ],
   "source": [
    "fig, axes = plt.subplots(1, 2, figsize=(16, 5))\n",
    "\n",
    "df_PR.plot(ax=axes[0])\n",
    "axes[0].set_title(\"Recall and Precision vs Thresholds\")\n",
    "axes[0].set_xlabel(\"Thresholds\")\n",
    "axes[0].legend(loc=\"best\")\n",
    "\n",
    "df_PR.plot(x=\"precision\", y=\"recall\", ax=axes[1], label=\"PR\")\n",
    "df_PR.iloc[rows].plot(\n",
    "    x=\"precision\", y=\"recall\", style=\"or\", markersize=10, ax=axes[1], label=\"Thresholds\")\n",
    "axes[1].set_title(\"Logistic regression: PR Curve\")\n",
    "axes[1].set_xlabel(\"Precision\")\n",
    "axes[1].set_ylabel(\"Recall\")\n",
    "\n",
    "for thres, pr in df_PR.iloc[rows].iterrows():\n",
    "    axes[1].annotate(round(thres, 3), pr)"
   ]
  },
  {
   "cell_type": "markdown",
   "metadata": {
    "slideshow": {
     "slide_type": "slide"
    }
   },
   "source": [
    "- Each point in the curve corresponds to a possible threshold of the `predict_proba` output. \n",
    "- We can achieve a recall of 0.8 at a precision of 0.4. \n",
    "- The red dots mark the point corresponding to some thresholds, including 0.5.\n",
    "- The top-right would be a perfect classifier (precision = recall = 1)."
   ]
  },
  {
   "cell_type": "markdown",
   "metadata": {
    "slideshow": {
     "slide_type": "slide"
    }
   },
   "source": [
    "- The threshold is going from 0 (upper-left) to 1 (lower right).\n",
    "- At a threshold of 0 (upper left), we are classifying everything  as \"fraud\".\n",
    "- Raising the threshold increases the precision but at the expense of lowering the recall. \n",
    "- At the extreme right, where the threshold is 1, we get into the situation where all the examples classified as \"fraud\" are actually \"fraud\"; we have no false positives. \n",
    "- Here we have a high precision but lower recall. \n",
    "- Usually the goal is to keep recall high as precision goes up. "
   ]
  },
  {
   "cell_type": "markdown",
   "metadata": {
    "slideshow": {
     "slide_type": "slide"
    }
   },
   "source": [
    "### A few comments on PR curve\n",
    "\n",
    "- Different classifiers might work well in different parts of the curve, i.e., at different operating points.   \n",
    "- We can compare PR curves of different classifiers to understand these differences. "
   ]
  },
  {
   "cell_type": "markdown",
   "metadata": {
    "slideshow": {
     "slide_type": "slide"
    }
   },
   "source": [
    "### AP score \n",
    "\n",
    "- Often it's useful to have one number summarizing the PR plot (e.g., in hyperparameter optimization)\n",
    "- One way to do this is by computing the area under the PR curve. \n",
    "- This is called **average precision** (AP score)\n",
    "- AP score has a value between 0 (worst) and 1 (best)."
   ]
  },
  {
   "cell_type": "code",
   "execution_count": 62,
   "metadata": {
    "execution": {
     "iopub.execute_input": "2023-05-30T08:42:48.602222Z",
     "iopub.status.busy": "2023-05-30T08:42:48.601903Z",
     "iopub.status.idle": "2023-05-30T08:42:48.657566Z",
     "shell.execute_reply": "2023-05-30T08:42:48.655921Z",
     "shell.execute_reply.started": "2023-05-30T08:42:48.602199Z"
    }
   },
   "outputs": [
    {
     "name": "stdout",
     "output_type": "stream",
     "text": [
      "Average precision of logistic regression: 0.757\n"
     ]
    }
   ],
   "source": [
    "from sklearn.metrics import average_precision_score\n",
    "\n",
    "ap_lr = average_precision_score(y_valid, pipe_lr.predict_proba(X_valid)[:, 1])\n",
    "print(f\"Average precision of logistic regression: {ap_lr:.3f}\")"
   ]
  },
  {
   "cell_type": "markdown",
   "metadata": {},
   "source": [
    "You can also use the following handy function of `sklearn` to get the PR curve and the corresponding AP score. "
   ]
  },
  {
   "cell_type": "code",
   "execution_count": 63,
   "metadata": {
    "execution": {
     "iopub.execute_input": "2023-05-30T08:42:48.660305Z",
     "iopub.status.busy": "2023-05-30T08:42:48.659778Z",
     "iopub.status.idle": "2023-05-30T08:42:49.048119Z",
     "shell.execute_reply": "2023-05-30T08:42:49.046909Z",
     "shell.execute_reply.started": "2023-05-30T08:42:48.660256Z"
    }
   },
   "outputs": [
    {
     "data": {
      "image/png": "[encoded data removed]",
      "text/plain": [
       "<Figure size 640x480 with 1 Axes>"
      ]
     },
     "metadata": {},
     "output_type": "display_data"
    }
   ],
   "source": [
    "from sklearn.metrics import PrecisionRecallDisplay\n",
    "\n",
    "PrecisionRecallDisplay.from_estimator(pipe_lr, X_valid, y_valid);"
   ]
  },
  {
   "cell_type": "markdown",
   "metadata": {
    "slideshow": {
     "slide_type": "slide"
    },
    "tags": []
   },
   "source": [
    "### AP vs. F1-score\n",
    "\n",
    "It is very important to note this distinction:\n",
    "\n",
    "- F1 score is for a given threshold and measures the quality of `predict`.\n",
    "- AP score is a summary across thresholds and measures the quality of `predict_proba`.\n"
   ]
  },
  {
   "cell_type": "markdown",
   "metadata": {},
   "source": [
    "***Important***\n",
    "> Remember to pick the desired threshold based on the results on the validation set and **not** on the test set."
   ]
  },
  {
   "cell_type": "markdown",
   "metadata": {},
   "source": [
    "<br><br>"
   ]
  },
  {
   "cell_type": "markdown",
   "metadata": {
    "slideshow": {
     "slide_type": "slide"
    }
   },
   "source": [
    "### A few comments on PR curve\n",
    "\n",
    "- Different classifiers might work well in different parts of the curve, i.e., at different operating points.   \n",
    "- We can compare PR curves of different classifiers to understand these differences. \n",
    "- Let's create PR curves for SVC and Logistic Regression. "
   ]
  },
  {
   "cell_type": "code",
   "execution_count": 64,
   "metadata": {
    "execution": {
     "iopub.execute_input": "2023-05-30T08:42:49.049451Z",
     "iopub.status.busy": "2023-05-30T08:42:49.049160Z",
     "iopub.status.idle": "2023-05-30T08:44:27.220114Z",
     "shell.execute_reply": "2023-05-30T08:44:27.217763Z",
     "shell.execute_reply.started": "2023-05-30T08:42:49.049426Z"
    },
    "slideshow": {
     "slide_type": "slide"
    },
    "tags": []
   },
   "outputs": [
    {
     "data": {
      "text/html": [
       "<style>#sk-container-id-1 {color: black;background-color: white;}#sk-container-id-1 pre{padding: 0;}#sk-container-id-1 div.sk-toggleable {background-color: white;}#sk-container-id-1 label.sk-toggleable__label {cursor: pointer;display: block;width: 100%;margin-bottom: 0;padding: 0.3em;box-sizing: border-box;text-align: center;}#sk-container-id-1 label.sk-toggleable__label-arrow:before {content: \"▸\";float: left;margin-right: 0.25em;color: #696969;}#sk-container-id-1 label.sk-toggleable__label-arrow:hover:before {color: black;}#sk-container-id-1 div.sk-estimator:hover label.sk-toggleable__label-arrow:before {color: black;}#sk-container-id-1 div.sk-toggleable__content {max-height: 0;max-width: 0;overflow: hidden;text-align: left;background-color: #f0f8ff;}#sk-container-id-1 div.sk-toggleable__content pre {margin: 0.2em;color: black;border-radius: 0.25em;background-color: #f0f8ff;}#sk-container-id-1 input.sk-toggleable__control:checked~div.sk-toggleable__content {max-height: 200px;max-width: 100%;overflow: auto;}#sk-container-id-1 input.sk-toggleable__control:checked~label.sk-toggleable__label-arrow:before {content: \"▾\";}#sk-container-id-1 div.sk-estimator input.sk-toggleable__control:checked~label.sk-toggleable__label {background-color: #d4ebff;}#sk-container-id-1 div.sk-label input.sk-toggleable__control:checked~label.sk-toggleable__label {background-color: #d4ebff;}#sk-container-id-1 input.sk-hidden--visually {border: 0;clip: rect(1px 1px 1px 1px);clip: rect(1px, 1px, 1px, 1px);height: 1px;margin: -1px;overflow: hidden;padding: 0;position: absolute;width: 1px;}#sk-container-id-1 div.sk-estimator {font-family: monospace;background-color: #f0f8ff;border: 1px dotted black;border-radius: 0.25em;box-sizing: border-box;margin-bottom: 0.5em;}#sk-container-id-1 div.sk-estimator:hover {background-color: #d4ebff;}#sk-container-id-1 div.sk-parallel-item::after {content: \"\";width: 100%;border-bottom: 1px solid gray;flex-grow: 1;}#sk-container-id-1 div.sk-label:hover label.sk-toggleable__label {background-color: #d4ebff;}#sk-container-id-1 div.sk-serial::before {content: \"\";position: absolute;border-left: 1px solid gray;box-sizing: border-box;top: 0;bottom: 0;left: 50%;z-index: 0;}#sk-container-id-1 div.sk-serial {display: flex;flex-direction: column;align-items: center;background-color: white;padding-right: 0.2em;padding-left: 0.2em;position: relative;}#sk-container-id-1 div.sk-item {position: relative;z-index: 1;}#sk-container-id-1 div.sk-parallel {display: flex;align-items: stretch;justify-content: center;background-color: white;position: relative;}#sk-container-id-1 div.sk-item::before, #sk-container-id-1 div.sk-parallel-item::before {content: \"\";position: absolute;border-left: 1px solid gray;box-sizing: border-box;top: 0;bottom: 0;left: 50%;z-index: -1;}#sk-container-id-1 div.sk-parallel-item {display: flex;flex-direction: column;z-index: 1;position: relative;background-color: white;}#sk-container-id-1 div.sk-parallel-item:first-child::after {align-self: flex-end;width: 50%;}#sk-container-id-1 div.sk-parallel-item:last-child::after {align-self: flex-start;width: 50%;}#sk-container-id-1 div.sk-parallel-item:only-child::after {width: 0;}#sk-container-id-1 div.sk-dashed-wrapped {border: 1px dashed gray;margin: 0 0.4em 0.5em 0.4em;box-sizing: border-box;padding-bottom: 0.4em;background-color: white;}#sk-container-id-1 div.sk-label label {font-family: monospace;font-weight: bold;display: inline-block;line-height: 1.2em;}#sk-container-id-1 div.sk-label-container {text-align: center;}#sk-container-id-1 div.sk-container {/* jupyter's `normalize.less` sets `[hidden] { display: none; }` but bootstrap.min.css set `[hidden] { display: none !important; }` so we also need the `!important` here to be able to override the default hidden behavior on the sphinx rendered scikit-learn.org. See: https://github.com/scikit-learn/scikit-learn/issues/21755 */display: inline-block !important;position: relative;}#sk-container-id-1 div.sk-text-repr-fallback {display: none;}</style><div id=\"sk-container-id-1\" class=\"sk-top-container\"><div class=\"sk-text-repr-fallback\"><pre>Pipeline(steps=[(&#x27;standardscaler&#x27;, StandardScaler()), (&#x27;svc&#x27;, SVC())])</pre><b>In a Jupyter environment, please rerun this cell to show the HTML representation or trust the notebook. <br />On GitHub, the HTML representation is unable to render, please try loading this page with nbviewer.org.</b></div><div class=\"sk-container\" hidden><div class=\"sk-item sk-dashed-wrapped\"><div class=\"sk-label-container\"><div class=\"sk-label sk-toggleable\"><input class=\"sk-toggleable__control sk-hidden--visually\" id=\"sk-estimator-id-1\" type=\"checkbox\" ><label for=\"sk-estimator-id-1\" class=\"sk-toggleable__label sk-toggleable__label-arrow\">Pipeline</label><div class=\"sk-toggleable__content\"><pre>Pipeline(steps=[(&#x27;standardscaler&#x27;, StandardScaler()), (&#x27;svc&#x27;, SVC())])</pre></div></div></div><div class=\"sk-serial\"><div class=\"sk-item\"><div class=\"sk-estimator sk-toggleable\"><input class=\"sk-toggleable__control sk-hidden--visually\" id=\"sk-estimator-id-2\" type=\"checkbox\" ><label for=\"sk-estimator-id-2\" class=\"sk-toggleable__label sk-toggleable__label-arrow\">StandardScaler</label><div class=\"sk-toggleable__content\"><pre>StandardScaler()</pre></div></div></div><div class=\"sk-item\"><div class=\"sk-estimator sk-toggleable\"><input class=\"sk-toggleable__control sk-hidden--visually\" id=\"sk-estimator-id-3\" type=\"checkbox\" ><label for=\"sk-estimator-id-3\" class=\"sk-toggleable__label sk-toggleable__label-arrow\">SVC</label><div class=\"sk-toggleable__content\"><pre>SVC()</pre></div></div></div></div></div></div></div>"
      ],
      "text/plain": [
       "Pipeline(steps=[('standardscaler', StandardScaler()), ('svc', SVC())])"
      ]
     },
     "execution_count": 64,
     "metadata": {},
     "output_type": "execute_result"
    }
   ],
   "source": [
    "pipe_svc = make_pipeline(StandardScaler(), SVC())\n",
    "\n",
    "pipe_svc.fit(X_train, y_train)"
   ]
  },
  {
   "cell_type": "code",
   "execution_count": 65,
   "metadata": {
    "execution": {
     "iopub.execute_input": "2023-05-30T08:44:27.226556Z",
     "iopub.status.busy": "2023-05-30T08:44:27.225868Z",
     "iopub.status.idle": "2023-05-30T08:44:29.706731Z",
     "shell.execute_reply": "2023-05-30T08:44:29.705212Z",
     "shell.execute_reply.started": "2023-05-30T08:44:27.226494Z"
    },
    "tags": []
   },
   "outputs": [
    {
     "data": {
      "text/html": [
       "<style>#sk-container-id-2 {color: black;background-color: white;}#sk-container-id-2 pre{padding: 0;}#sk-container-id-2 div.sk-toggleable {background-color: white;}#sk-container-id-2 label.sk-toggleable__label {cursor: pointer;display: block;width: 100%;margin-bottom: 0;padding: 0.3em;box-sizing: border-box;text-align: center;}#sk-container-id-2 label.sk-toggleable__label-arrow:before {content: \"▸\";float: left;margin-right: 0.25em;color: #696969;}#sk-container-id-2 label.sk-toggleable__label-arrow:hover:before {color: black;}#sk-container-id-2 div.sk-estimator:hover label.sk-toggleable__label-arrow:before {color: black;}#sk-container-id-2 div.sk-toggleable__content {max-height: 0;max-width: 0;overflow: hidden;text-align: left;background-color: #f0f8ff;}#sk-container-id-2 div.sk-toggleable__content pre {margin: 0.2em;color: black;border-radius: 0.25em;background-color: #f0f8ff;}#sk-container-id-2 input.sk-toggleable__control:checked~div.sk-toggleable__content {max-height: 200px;max-width: 100%;overflow: auto;}#sk-container-id-2 input.sk-toggleable__control:checked~label.sk-toggleable__label-arrow:before {content: \"▾\";}#sk-container-id-2 div.sk-estimator input.sk-toggleable__control:checked~label.sk-toggleable__label {background-color: #d4ebff;}#sk-container-id-2 div.sk-label input.sk-toggleable__control:checked~label.sk-toggleable__label {background-color: #d4ebff;}#sk-container-id-2 input.sk-hidden--visually {border: 0;clip: rect(1px 1px 1px 1px);clip: rect(1px, 1px, 1px, 1px);height: 1px;margin: -1px;overflow: hidden;padding: 0;position: absolute;width: 1px;}#sk-container-id-2 div.sk-estimator {font-family: monospace;background-color: #f0f8ff;border: 1px dotted black;border-radius: 0.25em;box-sizing: border-box;margin-bottom: 0.5em;}#sk-container-id-2 div.sk-estimator:hover {background-color: #d4ebff;}#sk-container-id-2 div.sk-parallel-item::after {content: \"\";width: 100%;border-bottom: 1px solid gray;flex-grow: 1;}#sk-container-id-2 div.sk-label:hover label.sk-toggleable__label {background-color: #d4ebff;}#sk-container-id-2 div.sk-serial::before {content: \"\";position: absolute;border-left: 1px solid gray;box-sizing: border-box;top: 0;bottom: 0;left: 50%;z-index: 0;}#sk-container-id-2 div.sk-serial {display: flex;flex-direction: column;align-items: center;background-color: white;padding-right: 0.2em;padding-left: 0.2em;position: relative;}#sk-container-id-2 div.sk-item {position: relative;z-index: 1;}#sk-container-id-2 div.sk-parallel {display: flex;align-items: stretch;justify-content: center;background-color: white;position: relative;}#sk-container-id-2 div.sk-item::before, #sk-container-id-2 div.sk-parallel-item::before {content: \"\";position: absolute;border-left: 1px solid gray;box-sizing: border-box;top: 0;bottom: 0;left: 50%;z-index: -1;}#sk-container-id-2 div.sk-parallel-item {display: flex;flex-direction: column;z-index: 1;position: relative;background-color: white;}#sk-container-id-2 div.sk-parallel-item:first-child::after {align-self: flex-end;width: 50%;}#sk-container-id-2 div.sk-parallel-item:last-child::after {align-self: flex-start;width: 50%;}#sk-container-id-2 div.sk-parallel-item:only-child::after {width: 0;}#sk-container-id-2 div.sk-dashed-wrapped {border: 1px dashed gray;margin: 0 0.4em 0.5em 0.4em;box-sizing: border-box;padding-bottom: 0.4em;background-color: white;}#sk-container-id-2 div.sk-label label {font-family: monospace;font-weight: bold;display: inline-block;line-height: 1.2em;}#sk-container-id-2 div.sk-label-container {text-align: center;}#sk-container-id-2 div.sk-container {/* jupyter's `normalize.less` sets `[hidden] { display: none; }` but bootstrap.min.css set `[hidden] { display: none !important; }` so we also need the `!important` here to be able to override the default hidden behavior on the sphinx rendered scikit-learn.org. See: https://github.com/scikit-learn/scikit-learn/issues/21755 */display: inline-block !important;position: relative;}#sk-container-id-2 div.sk-text-repr-fallback {display: none;}</style><div id=\"sk-container-id-2\" class=\"sk-top-container\"><div class=\"sk-text-repr-fallback\"><pre>Pipeline(steps=[(&#x27;standardscaler&#x27;, StandardScaler()),\n",
       "                (&#x27;logisticregression&#x27;, LogisticRegression(max_iter=1000))])</pre><b>In a Jupyter environment, please rerun this cell to show the HTML representation or trust the notebook. <br />On GitHub, the HTML representation is unable to render, please try loading this page with nbviewer.org.</b></div><div class=\"sk-container\" hidden><div class=\"sk-item sk-dashed-wrapped\"><div class=\"sk-label-container\"><div class=\"sk-label sk-toggleable\"><input class=\"sk-toggleable__control sk-hidden--visually\" id=\"sk-estimator-id-4\" type=\"checkbox\" ><label for=\"sk-estimator-id-4\" class=\"sk-toggleable__label sk-toggleable__label-arrow\">Pipeline</label><div class=\"sk-toggleable__content\"><pre>Pipeline(steps=[(&#x27;standardscaler&#x27;, StandardScaler()),\n",
       "                (&#x27;logisticregression&#x27;, LogisticRegression(max_iter=1000))])</pre></div></div></div><div class=\"sk-serial\"><div class=\"sk-item\"><div class=\"sk-estimator sk-toggleable\"><input class=\"sk-toggleable__control sk-hidden--visually\" id=\"sk-estimator-id-5\" type=\"checkbox\" ><label for=\"sk-estimator-id-5\" class=\"sk-toggleable__label sk-toggleable__label-arrow\">StandardScaler</label><div class=\"sk-toggleable__content\"><pre>StandardScaler()</pre></div></div></div><div class=\"sk-item\"><div class=\"sk-estimator sk-toggleable\"><input class=\"sk-toggleable__control sk-hidden--visually\" id=\"sk-estimator-id-6\" type=\"checkbox\" ><label for=\"sk-estimator-id-6\" class=\"sk-toggleable__label sk-toggleable__label-arrow\">LogisticRegression</label><div class=\"sk-toggleable__content\"><pre>LogisticRegression(max_iter=1000)</pre></div></div></div></div></div></div></div>"
      ],
      "text/plain": [
       "Pipeline(steps=[('standardscaler', StandardScaler()),\n",
       "                ('logisticregression', LogisticRegression(max_iter=1000))])"
      ]
     },
     "execution_count": 65,
     "metadata": {},
     "output_type": "execute_result"
    }
   ],
   "source": [
    "pipe_lr = make_pipeline(StandardScaler(), LogisticRegression(max_iter=1000))\n",
    "pipe_lr.fit(X_train, y_train)"
   ]
  },
  {
   "cell_type": "markdown",
   "metadata": {},
   "source": [
    "How to get precision and recall for different thresholds? \n",
    "- Use the function `precision_recall_curve`"
   ]
  },
  {
   "cell_type": "code",
   "execution_count": 66,
   "metadata": {
    "execution": {
     "iopub.execute_input": "2023-05-30T08:44:29.722993Z",
     "iopub.status.busy": "2023-05-30T08:44:29.710637Z",
     "iopub.status.idle": "2023-05-30T08:44:29.952795Z",
     "shell.execute_reply": "2023-05-30T08:44:29.950353Z",
     "shell.execute_reply.started": "2023-05-30T08:44:29.722922Z"
    }
   },
   "outputs": [],
   "source": [
    "precision_lr, recall_lr, thresholds_lr = precision_recall_curve(\n",
    "    y_valid, pipe_lr.predict_proba(X_valid)[:, 1]\n",
    ")"
   ]
  },
  {
   "cell_type": "markdown",
   "metadata": {},
   "source": [
    "How many thresholds? \n",
    "- It uses `n_thresholds` where `n_thresholds` is the number of unique `predict_proba` scores in our dataset. "
   ]
  },
  {
   "cell_type": "code",
   "execution_count": 67,
   "metadata": {
    "execution": {
     "iopub.execute_input": "2023-05-30T08:44:30.050181Z",
     "iopub.status.busy": "2023-05-30T08:44:30.049756Z",
     "iopub.status.idle": "2023-05-30T08:44:30.098079Z",
     "shell.execute_reply": "2023-05-30T08:44:30.095686Z",
     "shell.execute_reply.started": "2023-05-30T08:44:30.050151Z"
    }
   },
   "outputs": [
    {
     "data": {
      "text/plain": [
       "59740"
      ]
     },
     "execution_count": 67,
     "metadata": {},
     "output_type": "execute_result"
    }
   ],
   "source": [
    "len(np.unique(pipe_lr.predict_proba(X_valid)[:, 1]))"
   ]
  },
  {
   "cell_type": "markdown",
   "metadata": {},
   "source": [
    "- For each threshold, precision and recall is calculated.  \n",
    "- The last precision and recall values are 1. and 0. respectively and do not have a corresponding threshold. "
   ]
  },
  {
   "cell_type": "code",
   "execution_count": 68,
   "metadata": {
    "execution": {
     "iopub.execute_input": "2023-05-30T08:44:30.105141Z",
     "iopub.status.busy": "2023-05-30T08:44:30.104545Z",
     "iopub.status.idle": "2023-05-30T08:44:30.123589Z",
     "shell.execute_reply": "2023-05-30T08:44:30.121494Z",
     "shell.execute_reply.started": "2023-05-30T08:44:30.105092Z"
    }
   },
   "outputs": [
    {
     "data": {
      "text/plain": [
       "((59740,), (59741,), (59741,))"
      ]
     },
     "execution_count": 68,
     "metadata": {},
     "output_type": "execute_result"
    }
   ],
   "source": [
    "thresholds_lr.shape, precision_lr.shape, recall_lr.shape"
   ]
  },
  {
   "cell_type": "code",
   "execution_count": 69,
   "metadata": {
    "execution": {
     "iopub.execute_input": "2023-05-30T08:44:30.130141Z",
     "iopub.status.busy": "2023-05-30T08:44:30.128994Z",
     "iopub.status.idle": "2023-05-30T08:44:42.237598Z",
     "shell.execute_reply": "2023-05-30T08:44:42.236537Z",
     "shell.execute_reply.started": "2023-05-30T08:44:30.130080Z"
    },
    "slideshow": {
     "slide_type": "slide"
    }
   },
   "outputs": [],
   "source": [
    "precision_lr, recall_lr, thresholds_lr = precision_recall_curve(\n",
    "    y_valid, pipe_lr.predict_proba(X_valid)[:, 1]\n",
    ")\n",
    "precision_svc, recall_svc, thresholds_svc = precision_recall_curve(\n",
    "    y_valid, pipe_svc.decision_function(X_valid)\n",
    ")"
   ]
  },
  {
   "cell_type": "markdown",
   "metadata": {},
   "source": [
    "For logistic regression, what's the index of the threshold that is closest to the default threshold of 0.5? \n",
    "- We are subtracting 0.5 from the thresholds so that \n",
    "    - the numbers close to 0 become -0.5\n",
    "    - the numbers close to 1 become 0.5    \n",
    "    - the numbers close to 0.5 become 0\n",
    "- After this transformation, we are interested in the threshold index where the number is close to 0. So we take  absolute values and argmin.       "
   ]
  },
  {
   "cell_type": "code",
   "execution_count": 70,
   "metadata": {
    "execution": {
     "iopub.execute_input": "2023-05-30T08:44:42.239299Z",
     "iopub.status.busy": "2023-05-30T08:44:42.238927Z",
     "iopub.status.idle": "2023-05-30T08:44:42.247042Z",
     "shell.execute_reply": "2023-05-30T08:44:42.245936Z",
     "shell.execute_reply.started": "2023-05-30T08:44:42.239272Z"
    }
   },
   "outputs": [],
   "source": [
    "close_default_lr = np.argmin(np.abs(thresholds_lr - 0.5))"
   ]
  },
  {
   "cell_type": "markdown",
   "metadata": {},
   "source": [
    "SVC doesn't have `predict_proba`. Instead it has something called `decision_function`. The index of the threshold that is closest to 0 of decision function is the default threshold in SVC. "
   ]
  },
  {
   "cell_type": "code",
   "execution_count": 71,
   "metadata": {
    "execution": {
     "iopub.execute_input": "2023-05-30T08:44:42.248683Z",
     "iopub.status.busy": "2023-05-30T08:44:42.248375Z",
     "iopub.status.idle": "2023-05-30T08:44:42.258973Z",
     "shell.execute_reply": "2023-05-30T08:44:42.257773Z",
     "shell.execute_reply.started": "2023-05-30T08:44:42.248665Z"
    }
   },
   "outputs": [],
   "source": [
    "close_zero_svm = np.argmin(np.abs(thresholds_svc))"
   ]
  },
  {
   "cell_type": "code",
   "execution_count": 72,
   "metadata": {
    "execution": {
     "iopub.execute_input": "2023-05-30T08:44:42.261234Z",
     "iopub.status.busy": "2023-05-30T08:44:42.260962Z",
     "iopub.status.idle": "2023-05-30T08:44:43.064770Z",
     "shell.execute_reply": "2023-05-30T08:44:43.063917Z",
     "shell.execute_reply.started": "2023-05-30T08:44:42.261216Z"
    },
    "slideshow": {
     "slide_type": "slide"
    }
   },
   "outputs": [
    {
     "data": {
      "image/png": "[encoded data removed]",
      "text/plain": [
       "<Figure size 640x480 with 1 Axes>"
      ]
     },
     "metadata": {},
     "output_type": "display_data"
    }
   ],
   "source": [
    "plt.plot(precision_svc, recall_svc, label=\"svc\")\n",
    "plt.plot(precision_lr, recall_lr, label=\"logistic regression\")\n",
    "plt.plot(\n",
    "    precision_svc[close_zero_svm],\n",
    "    recall_svc[close_zero_svm],\n",
    "    \"o\",\n",
    "    markersize=10,\n",
    "    label=\"default threshold svc\",\n",
    "    c=\"b\",\n",
    ")\n",
    "plt.plot(\n",
    "    precision_lr[close_default_lr],\n",
    "    recall_lr[close_default_lr],\n",
    "    \"*\",\n",
    "    markersize=10,\n",
    "    label=\"default threshold logistic regression\",\n",
    "    c=\"r\",\n",
    ")\n",
    "\n",
    "plt.xlabel(\"Precision\")\n",
    "plt.ylabel(\"Recall\")\n",
    "plt.legend(loc=\"best\");"
   ]
  },
  {
   "cell_type": "markdown",
   "metadata": {
    "execution": {
     "iopub.execute_input": "2023-05-30T06:48:22.245054Z",
     "iopub.status.busy": "2023-05-30T06:48:22.232129Z",
     "iopub.status.idle": "2023-05-30T06:48:22.304766Z",
     "shell.execute_reply": "2023-05-30T06:48:22.299990Z",
     "shell.execute_reply.started": "2023-05-30T06:48:22.244694Z"
    },
    "tags": []
   },
   "source": [
    "Based on the graph above, which algorithm is doing better? `svc` or `lr`?\n",
    "\n",
    "The one with higher \"area under the carve\": `svc`.\n",
    "\n",
    "Let's look at some other measures."
   ]
  },
  {
   "cell_type": "code",
   "execution_count": 73,
   "metadata": {
    "execution": {
     "iopub.execute_input": "2023-05-30T08:44:43.066354Z",
     "iopub.status.busy": "2023-05-30T08:44:43.065980Z",
     "iopub.status.idle": "2023-05-30T08:44:54.967918Z",
     "shell.execute_reply": "2023-05-30T08:44:54.966026Z",
     "shell.execute_reply.started": "2023-05-30T08:44:43.066291Z"
    },
    "slideshow": {
     "slide_type": "slide"
    }
   },
   "outputs": [],
   "source": [
    "svc_preds = pipe_svc.predict(X_valid)\n",
    "lr_preds = pipe_lr.predict(X_valid)"
   ]
  },
  {
   "cell_type": "code",
   "execution_count": 74,
   "metadata": {
    "execution": {
     "iopub.execute_input": "2023-05-30T08:44:54.973410Z",
     "iopub.status.busy": "2023-05-30T08:44:54.971603Z",
     "iopub.status.idle": "2023-05-30T08:44:55.092187Z",
     "shell.execute_reply": "2023-05-30T08:44:55.090245Z",
     "shell.execute_reply.started": "2023-05-30T08:44:54.973340Z"
    },
    "slideshow": {
     "slide_type": "-"
    }
   },
   "outputs": [
    {
     "name": "stdout",
     "output_type": "stream",
     "text": [
      "f1_score of logistic regression: 0.736\n",
      "f1_score of svc: 0.734\n"
     ]
    }
   ],
   "source": [
    "print(\"f1_score of logistic regression: {:.3f}\".format(f1_score(y_valid, lr_preds)))\n",
    "print(\"f1_score of svc: {:.3f}\".format(f1_score(y_valid, svc_preds)))"
   ]
  },
  {
   "cell_type": "code",
   "execution_count": 75,
   "metadata": {
    "execution": {
     "iopub.execute_input": "2023-05-30T08:44:55.096825Z",
     "iopub.status.busy": "2023-05-30T08:44:55.094595Z",
     "iopub.status.idle": "2023-05-30T08:45:07.489991Z",
     "shell.execute_reply": "2023-05-30T08:45:07.488663Z",
     "shell.execute_reply.started": "2023-05-30T08:44:55.096779Z"
    },
    "slideshow": {
     "slide_type": "slide"
    }
   },
   "outputs": [],
   "source": [
    "ap_lr = average_precision_score(y_valid, pipe_lr.predict_proba(X_valid)[:, 1])\n",
    "ap_svc = average_precision_score(y_valid, pipe_svc.decision_function(X_valid))"
   ]
  },
  {
   "cell_type": "code",
   "execution_count": 76,
   "metadata": {
    "execution": {
     "iopub.execute_input": "2023-05-30T08:45:07.491585Z",
     "iopub.status.busy": "2023-05-30T08:45:07.491324Z",
     "iopub.status.idle": "2023-05-30T08:45:07.498047Z",
     "shell.execute_reply": "2023-05-30T08:45:07.496802Z",
     "shell.execute_reply.started": "2023-05-30T08:45:07.491565Z"
    },
    "slideshow": {
     "slide_type": "-"
    }
   },
   "outputs": [
    {
     "name": "stdout",
     "output_type": "stream",
     "text": [
      "Average precision of logistic regression: 0.757\n",
      "Average precision of SVC: 0.789\n"
     ]
    }
   ],
   "source": [
    "print(\"Average precision of logistic regression: {:.3f}\".format(ap_lr))\n",
    "print(\"Average precision of SVC: {:.3f}\".format(ap_svc))"
   ]
  },
  {
   "cell_type": "markdown",
   "metadata": {
    "slideshow": {
     "slide_type": "slide"
    }
   },
   "source": [
    "- Comparing the precision-recall curves provide us a detail insight compared to f1 score.\n",
    "- For example, F1 scores for SVC and logistic regressions are pretty similar. In fact, f1 score of logistic regression is a tiny bit better. \n",
    "- But when we look at the PR curve (and *average precision*), we see that SVC is doing better than logistic regression for most of the other thresholds."
   ]
  },
  {
   "cell_type": "markdown",
   "metadata": {},
   "source": [
    "<br><br>"
   ]
  },
  {
   "cell_type": "markdown",
   "metadata": {
    "slideshow": {
     "slide_type": "slide"
    }
   },
   "source": [
    "### Receiver Operating Characteristic (ROC) curve \n",
    "\n",
    "- Another commonly used tool to analyze the **behavior of classifiers at different thresholds**.\n",
    "- **Similar to PR curve**, it considers all possible thresholds for a given classifier given by `predict_proba` but instead of precision it plots false positive rate (FPR) and true positive rate (TPR or recall).\n",
    "$$ FPR  = \\frac{FP}{FP + TN}, TPR = \\frac{TP}{TP + FN}$$"
   ]
  },
  {
   "cell_type": "code",
   "execution_count": 77,
   "metadata": {
    "execution": {
     "iopub.execute_input": "2023-05-30T08:45:07.499524Z",
     "iopub.status.busy": "2023-05-30T08:45:07.499280Z",
     "iopub.status.idle": "2023-05-30T08:45:07.801015Z",
     "shell.execute_reply": "2023-05-30T08:45:07.800014Z",
     "shell.execute_reply.started": "2023-05-30T08:45:07.499506Z"
    },
    "slideshow": {
     "slide_type": "slide"
    }
   },
   "outputs": [
    {
     "data": {
      "image/png": "[encoded data removed]",
      "text/plain": [
       "<Figure size 640x480 with 1 Axes>"
      ]
     },
     "metadata": {},
     "output_type": "display_data"
    }
   ],
   "source": [
    "from sklearn.metrics import roc_curve\n",
    "\n",
    "fpr, tpr, thresholds = roc_curve(y_valid, pipe_lr.predict_proba(X_valid)[:, 1])\n",
    "plt.plot(fpr, tpr, label=\"ROC Curve\")\n",
    "plt.xlabel(\"FPR\")\n",
    "plt.ylabel(\"TPR (recall)\")\n",
    "\n",
    "default_threshold = np.argmin(np.abs(thresholds - 0.5))\n",
    "\n",
    "plt.plot(\n",
    "    fpr[default_threshold],\n",
    "    tpr[default_threshold],\n",
    "    \"or\",\n",
    "    markersize=10,\n",
    "    label=\"threshold 0.5\",\n",
    ")\n",
    "plt.legend(loc=\"best\");"
   ]
  },
  {
   "cell_type": "markdown",
   "metadata": {
    "slideshow": {
     "slide_type": "slide"
    }
   },
   "source": [
    "- The **ideal curve is close to the top left**\n",
    "    - Ideally, you want a classifier with high recall while keeping low false positive rate.  \n",
    "- The red dot corresponds to the **threshold of 0.5**, which is used by predict.\n",
    "- We see that compared to the default threshold, we can achieve a **better recall of around 0.8 without increasing FPR**."
   ]
  },
  {
   "cell_type": "markdown",
   "metadata": {
    "slideshow": {
     "slide_type": "slide"
    }
   },
   "source": [
    "#### Let's compare ROC curve of different classifiers. "
   ]
  },
  {
   "cell_type": "code",
   "execution_count": 78,
   "metadata": {
    "execution": {
     "iopub.execute_input": "2023-05-30T08:45:07.803476Z",
     "iopub.status.busy": "2023-05-30T08:45:07.802974Z",
     "iopub.status.idle": "2023-05-30T08:45:21.058532Z",
     "shell.execute_reply": "2023-05-30T08:45:21.056902Z",
     "shell.execute_reply.started": "2023-05-30T08:45:07.803440Z"
    },
    "slideshow": {
     "slide_type": "-"
    },
    "tags": []
   },
   "outputs": [],
   "source": [
    "fpr_lr, tpr_lr, thresholds_lr = roc_curve(\n",
    "    y_valid, pipe_lr.predict_proba(X_valid)[:, 1])\n",
    "\n",
    "fpr_svc, tpr_svc, thresholds_svc = roc_curve(\n",
    "    y_valid, pipe_svc.decision_function(X_valid))"
   ]
  },
  {
   "cell_type": "code",
   "execution_count": 79,
   "metadata": {
    "execution": {
     "iopub.execute_input": "2023-05-30T08:45:21.061836Z",
     "iopub.status.busy": "2023-05-30T08:45:21.061264Z",
     "iopub.status.idle": "2023-05-30T08:45:21.069727Z",
     "shell.execute_reply": "2023-05-30T08:45:21.068006Z",
     "shell.execute_reply.started": "2023-05-30T08:45:21.061761Z"
    },
    "tags": []
   },
   "outputs": [],
   "source": [
    "close_default_lr = np.argmin(np.abs(thresholds_lr - 0.5))\n",
    "close_zero_svm = np.argmin(np.abs(thresholds_svc))"
   ]
  },
  {
   "cell_type": "code",
   "execution_count": 80,
   "metadata": {
    "execution": {
     "iopub.execute_input": "2023-05-30T08:45:21.071799Z",
     "iopub.status.busy": "2023-05-30T08:45:21.071399Z",
     "iopub.status.idle": "2023-05-30T08:45:21.446293Z",
     "shell.execute_reply": "2023-05-30T08:45:21.444973Z",
     "shell.execute_reply.started": "2023-05-30T08:45:21.071761Z"
    },
    "slideshow": {
     "slide_type": "slide"
    },
    "tags": []
   },
   "outputs": [
    {
     "data": {
      "image/png": "[encoded data removed]",
      "text/plain": [
       "<Figure size 640x480 with 1 Axes>"
      ]
     },
     "metadata": {},
     "output_type": "display_data"
    }
   ],
   "source": [
    "plt.plot(fpr_svc, tpr_svc, label=\"svc\")\n",
    "plt.plot(fpr_lr, tpr_lr, label=\"logistic regression\")\n",
    "plt.plot(\n",
    "    fpr_svc[close_zero_svm],\n",
    "    tpr_svc[close_zero_svm],\n",
    "    \"o\",\n",
    "    markersize=10,\n",
    "    label=\"default threshold svc\",\n",
    "    c=\"b\",\n",
    ")\n",
    "plt.plot(\n",
    "    fpr_lr[close_default_lr],\n",
    "    tpr_lr[close_default_lr],\n",
    "    \"*\",\n",
    "    markersize=10,\n",
    "    label=\"default threshold logistic regression\",\n",
    "    c=\"r\",\n",
    ")\n",
    "\n",
    "plt.xlabel(\"False positive rate\")\n",
    "plt.ylabel(\"True positive rate (Recall)\")\n",
    "plt.legend(loc=\"best\");"
   ]
  },
  {
   "cell_type": "markdown",
   "metadata": {
    "slideshow": {
     "slide_type": "slide"
    }
   },
   "source": [
    "### Area under the curve (AUC)\n",
    "\n",
    "- AUC provides a single meaningful number for the model performance. "
   ]
  },
  {
   "cell_type": "code",
   "execution_count": 81,
   "metadata": {
    "execution": {
     "iopub.execute_input": "2023-05-30T08:45:21.448265Z",
     "iopub.status.busy": "2023-05-30T08:45:21.447810Z",
     "iopub.status.idle": "2023-05-30T08:45:33.792032Z",
     "shell.execute_reply": "2023-05-30T08:45:33.791090Z",
     "shell.execute_reply.started": "2023-05-30T08:45:21.448237Z"
    }
   },
   "outputs": [
    {
     "name": "stdout",
     "output_type": "stream",
     "text": [
      "AUC for LR: 0.969\n",
      "AUC for SVC: 0.938\n"
     ]
    }
   ],
   "source": [
    "from sklearn.metrics import roc_auc_score\n",
    "\n",
    "roc_lr = roc_auc_score(y_valid, pipe_lr.predict_proba(X_valid)[:, 1])\n",
    "roc_svc = roc_auc_score(y_valid, pipe_svc.decision_function(X_valid))\n",
    "print(\"AUC for LR: {:.3f}\".format(roc_lr))\n",
    "print(\"AUC for SVC: {:.3f}\".format(roc_svc))\n"
   ]
  },
  {
   "cell_type": "markdown",
   "metadata": {
    "slideshow": {
     "slide_type": "slide"
    }
   },
   "source": [
    "- AUC of **0.5** means **random chance**.\n",
    "- AUC can be interpreted as evaluating the **ranking** of positive examples.\n",
    "- What's the probability that a randomly picked positive point has a higher score according to the classifier than a randomly picked point from the negative class. \n",
    "- AUC of **1.0** means **all positive points have a higher score than all negative points**."
   ]
  },
  {
   "cell_type": "markdown",
   "metadata": {
    "slideshow": {
     "slide_type": "skip"
    }
   },
   "source": [
    "***Important***\n",
    "> For classification problems with imbalanced classes, using AP score or AUC is often much more meaningful than using accuracy."
   ]
  },
  {
   "cell_type": "markdown",
   "metadata": {},
   "source": [
    "Similar to `PrecisionRecallCurveDisplay`, there is a `RocCurveDisplay` function in sklearn. "
   ]
  },
  {
   "cell_type": "code",
   "execution_count": 82,
   "metadata": {
    "execution": {
     "iopub.execute_input": "2023-05-30T08:45:33.793614Z",
     "iopub.status.busy": "2023-05-30T08:45:33.793280Z",
     "iopub.status.idle": "2023-05-30T08:45:34.103022Z",
     "shell.execute_reply": "2023-05-30T08:45:34.101861Z",
     "shell.execute_reply.started": "2023-05-30T08:45:33.793590Z"
    }
   },
   "outputs": [
    {
     "data": {
      "image/png": "[encoded data removed]",
      "text/plain": [
       "<Figure size 640x480 with 1 Axes>"
      ]
     },
     "metadata": {},
     "output_type": "display_data"
    }
   ],
   "source": [
    "from sklearn.metrics import RocCurveDisplay\n",
    "\n",
    "RocCurveDisplay.from_estimator(pipe_lr, X_valid, y_valid);"
   ]
  },
  {
   "cell_type": "markdown",
   "metadata": {
    "slideshow": {
     "slide_type": "slide"
    }
   },
   "source": [
    "### Let's look at all the scores at once"
   ]
  },
  {
   "cell_type": "code",
   "execution_count": 83,
   "metadata": {
    "execution": {
     "iopub.execute_input": "2023-05-30T08:45:34.105658Z",
     "iopub.status.busy": "2023-05-30T08:45:34.105288Z",
     "iopub.status.idle": "2023-05-30T08:45:46.076909Z",
     "shell.execute_reply": "2023-05-30T08:45:46.075641Z",
     "shell.execute_reply.started": "2023-05-30T08:45:34.105630Z"
    }
   },
   "outputs": [
    {
     "data": {
      "text/plain": [
       "fit_time                  2.132316\n",
       "score_time                0.238168\n",
       "test_accuracy             0.999212\n",
       "test_f1                   0.724369\n",
       "test_recall               0.610536\n",
       "test_precision            0.894228\n",
       "test_roc_auc              0.967438\n",
       "test_average_precision    0.744030\n",
       "dtype: float64"
      ]
     },
     "execution_count": 83,
     "metadata": {},
     "output_type": "execute_result"
    }
   ],
   "source": [
    "scoring = [\"accuracy\", \"f1\", \"recall\", \"precision\", \"roc_auc\", \"average_precision\"]\n",
    "pipe_lr = make_pipeline(StandardScaler(), LogisticRegression())\n",
    "scores = cross_validate(pipe_lr, X_train_big, y_train_big, scoring=scoring)\n",
    "pd.DataFrame(scores).mean()"
   ]
  },
  {
   "cell_type": "markdown",
   "metadata": {
    "slideshow": {
     "slide_type": "skip"
    }
   },
   "source": [
    "***See Also*** (Recommended)\n",
    "> Check out [these visualization](https://github.com/dariyasydykova/open_projects/tree/master/ROC_animation) on ROC and AUC."
   ]
  },
  {
   "cell_type": "markdown",
   "metadata": {
    "slideshow": {
     "slide_type": "skip"
    }
   },
   "source": [
    "<br><br><br><br>"
   ]
  },
  {
   "cell_type": "markdown",
   "metadata": {
    "slideshow": {
     "slide_type": "slide"
    }
   },
   "source": [
    "## Dealing with class imbalance"
   ]
  },
  {
   "cell_type": "markdown",
   "metadata": {
    "slideshow": {
     "slide_type": "slide"
    }
   },
   "source": [
    "### Class imbalance in training sets\n",
    "\n",
    "- This typically refers to having many more examples of one class than another in one's training set.\n",
    "- **Real world data is often imbalanced**. \n",
    "    - Our Credit Card Fraud dataset is imbalanced.\n",
    "    - Ad clicking data is usually drastically imbalanced. (Only around ~0.01% ads are clicked.)\n",
    "    - Spam classification datasets are also usually imbalanced."
   ]
  },
  {
   "cell_type": "markdown",
   "metadata": {
    "slideshow": {
     "slide_type": "slide"
    }
   },
   "source": [
    "### Addressing class imbalance\n",
    "A very important question to ask yourself: \"Why do I have a class imbalance?\"\n",
    "\n",
    "- Is it because one class is much more rare than the other?\n",
    "    - If it's just because one is more rare than the other, you need to ask whether you care about one type of error more than the other.    \n",
    "- Is it because of my data collection methods?\n",
    "    - If it's the data collection, then that means _your test and training data come from different distributions_!\n",
    "  \n",
    "In some cases, it may be fine to just ignore the class imbalance."
   ]
  },
  {
   "cell_type": "markdown",
   "metadata": {
    "slideshow": {
     "slide_type": "slide"
    }
   },
   "source": [
    "### Which type of error is more important? \n",
    "\n",
    "- False positives (FPs) and false negatives (FNs) have quite different real-world consequences. \n",
    "- In PR curve and ROC curve, we saw how changing the prediction threshold can change FPs and FNs. \n",
    "- We can then **pick the threshold that's appropriate for our problem**.\n",
    "- Example: if we want high recall, we may use a lower threshold (e.g., a threshold of 0.1). We'll then catch more fraudulent transactions. "
   ]
  },
  {
   "cell_type": "code",
   "execution_count": 84,
   "metadata": {
    "execution": {
     "iopub.execute_input": "2023-05-30T08:45:46.090314Z",
     "iopub.status.busy": "2023-05-30T08:45:46.086039Z",
     "iopub.status.idle": "2023-05-30T08:45:47.933596Z",
     "shell.execute_reply": "2023-05-30T08:45:47.932153Z",
     "shell.execute_reply.started": "2023-05-30T08:45:46.090267Z"
    },
    "slideshow": {
     "slide_type": "slide"
    }
   },
   "outputs": [
    {
     "name": "stdout",
     "output_type": "stream",
     "text": [
      "              precision    recall  f1-score   support\n",
      "\n",
      "   non-fraud     0.9994    0.9999    0.9996     59708\n",
      "       fraud     0.8889    0.6275    0.7356       102\n",
      "\n",
      "    accuracy                         0.9992     59810\n",
      "   macro avg     0.9441    0.8137    0.8676     59810\n",
      "weighted avg     0.9992    0.9992    0.9992     59810\n",
      "\n"
     ]
    }
   ],
   "source": [
    "pipe_lr = make_pipeline(StandardScaler(), LogisticRegression())\n",
    "pipe_lr.fit(X_train, y_train)\n",
    "y_pred = pipe_lr.predict(X_valid)\n",
    "print(classification_report(y_valid, y_pred, target_names=[\"non-fraud\", \"fraud\"], digits=4))"
   ]
  },
  {
   "cell_type": "code",
   "execution_count": 85,
   "metadata": {
    "execution": {
     "iopub.execute_input": "2023-05-30T08:45:47.935912Z",
     "iopub.status.busy": "2023-05-30T08:45:47.935528Z",
     "iopub.status.idle": "2023-05-30T08:45:48.133655Z",
     "shell.execute_reply": "2023-05-30T08:45:48.132388Z",
     "shell.execute_reply.started": "2023-05-30T08:45:47.935880Z"
    },
    "slideshow": {
     "slide_type": "-"
    }
   },
   "outputs": [
    {
     "name": "stdout",
     "output_type": "stream",
     "text": [
      "              precision    recall  f1-score   support\n",
      "\n",
      "   non-fraud     0.9996    0.9996    0.9996     59708\n",
      "       fraud     0.7800    0.7647    0.7723       102\n",
      "\n",
      "    accuracy                         0.9992     59810\n",
      "   macro avg     0.8898    0.8822    0.8859     59810\n",
      "weighted avg     0.9992    0.9992    0.9992     59810\n",
      "\n"
     ]
    }
   ],
   "source": [
    "y_pred = pipe_lr.predict_proba(X_valid)[:, 1] > 0.10\n",
    "print(classification_report(y_valid, y_pred, target_names=[\"non-fraud\", \"fraud\"], digits=4))"
   ]
  },
  {
   "cell_type": "markdown",
   "metadata": {
    "slideshow": {
     "slide_type": "slide"
    }
   },
   "source": [
    "### Handling imbalance\n",
    "\n",
    "Can we change the model itself rather than changing the threshold so that it takes into account the errors that are important to us?\n",
    "\n",
    "There are two common approaches for this: \n",
    "- **Changing the data (optional)** (not covered in this course)\n",
    "   - Undersampling\n",
    "   - Oversampling \n",
    "       - Random oversampling\n",
    "       - SMOTE \n",
    "- **Changing the training procedure** \n",
    "    - `class_weight`"
   ]
  },
  {
   "cell_type": "markdown",
   "metadata": {
    "slideshow": {
     "slide_type": "slide"
    }
   },
   "source": [
    "### Changing the training procedure \n",
    "\n",
    "- All `sklearn` classifiers have a parameter called `class_weight`.\n",
    "- This allows you to specify that one class is more important than another.\n",
    "- For example, maybe a false negative is 10x more problematic than a false positive. "
   ]
  },
  {
   "cell_type": "markdown",
   "metadata": {
    "slideshow": {
     "slide_type": "slide"
    }
   },
   "source": [
    "### Example: `class_weight` parameter of `sklearn LogisticRegression` \n",
    "> class sklearn.linear_model.LogisticRegression(penalty='l2', dual=False, tol=0.0001, C=1.0, fit_intercept=True, intercept_scaling=1, **class_weight=None**, random_state=None, solver='lbfgs', max_iter=100, multi_class='auto', verbose=0, warm_start=False, n_jobs=None, l1_ratio=None)\n",
    "\n",
    "> class_weight: dict or 'balanced', default=None\n",
    "\n",
    "> Weights associated with classes in the form {class_label: weight}. If not given, all classes are supposed to have weight one. "
   ]
  },
  {
   "cell_type": "code",
   "execution_count": 86,
   "metadata": {
    "execution": {
     "iopub.execute_input": "2023-05-30T08:45:48.136287Z",
     "iopub.status.busy": "2023-05-30T08:45:48.135492Z",
     "iopub.status.idle": "2023-05-30T08:45:48.147709Z",
     "shell.execute_reply": "2023-05-30T08:45:48.145851Z",
     "shell.execute_reply.started": "2023-05-30T08:45:48.136255Z"
    },
    "slideshow": {
     "slide_type": "skip"
    }
   },
   "outputs": [
    {
     "data": {
      "text/html": [
       "\n",
       "        <iframe\n",
       "            width=\"1200\"\n",
       "            height=\"600\"\n",
       "            src=\"https://scikit-learn.org/stable/modules/generated/sklearn.linear_model.LogisticRegression.html\"\n",
       "            frameborder=\"0\"\n",
       "            allowfullscreen\n",
       "            \n",
       "        ></iframe>\n",
       "        "
      ],
      "text/plain": [
       "<IPython.lib.display.IFrame at 0x7f77b1785ba0>"
      ]
     },
     "execution_count": 86,
     "metadata": {},
     "output_type": "execute_result"
    }
   ],
   "source": [
    "from IPython.display import IFrame\n",
    "url = \"https://scikit-learn.org/stable/modules/generated/sklearn.linear_model.LogisticRegression.html\"\n",
    "IFrame(src=url, width=1200, height=600)"
   ]
  },
  {
   "cell_type": "code",
   "execution_count": 87,
   "metadata": {
    "execution": {
     "iopub.execute_input": "2023-05-30T08:45:48.149666Z",
     "iopub.status.busy": "2023-05-30T08:45:48.149306Z",
     "iopub.status.idle": "2023-05-30T08:45:50.435441Z",
     "shell.execute_reply": "2023-05-30T08:45:50.434242Z",
     "shell.execute_reply.started": "2023-05-30T08:45:48.149636Z"
    },
    "slideshow": {
     "slide_type": "slide"
    }
   },
   "outputs": [
    {
     "data": {
      "image/png": "[encoded data removed]",
      "text/plain": [
       "<Figure size 640x480 with 2 Axes>"
      ]
     },
     "metadata": {},
     "output_type": "display_data"
    }
   ],
   "source": [
    "ConfusionMatrixDisplay.from_estimator(\n",
    "    pipe_lr,\n",
    "    X_valid,\n",
    "    y_valid,\n",
    "    display_labels=[\"Non fraud\", \"fraud\"],\n",
    "    values_format=\"d\",\n",
    "    cmap=plt.cm.Blues,\n",
    ");"
   ]
  },
  {
   "cell_type": "code",
   "execution_count": 88,
   "metadata": {
    "execution": {
     "iopub.execute_input": "2023-05-30T08:45:50.437294Z",
     "iopub.status.busy": "2023-05-30T08:45:50.436921Z",
     "iopub.status.idle": "2023-05-30T08:45:50.447212Z",
     "shell.execute_reply": "2023-05-30T08:45:50.445883Z",
     "shell.execute_reply.started": "2023-05-30T08:45:50.437266Z"
    }
   },
   "outputs": [
    {
     "data": {
      "text/plain": [
       "array([0, 1])"
      ]
     },
     "execution_count": 88,
     "metadata": {},
     "output_type": "execute_result"
    }
   ],
   "source": [
    "pipe_lr.named_steps[\"logisticregression\"].classes_"
   ]
  },
  {
   "cell_type": "markdown",
   "metadata": {
    "slideshow": {
     "slide_type": "slide"
    }
   },
   "source": [
    "Let's set \"fraud\" class a weight of 10."
   ]
  },
  {
   "cell_type": "code",
   "execution_count": 89,
   "metadata": {
    "execution": {
     "iopub.execute_input": "2023-05-30T08:45:50.449060Z",
     "iopub.status.busy": "2023-05-30T08:45:50.448698Z",
     "iopub.status.idle": "2023-05-30T08:45:53.055882Z",
     "shell.execute_reply": "2023-05-30T08:45:53.054638Z",
     "shell.execute_reply.started": "2023-05-30T08:45:50.449034Z"
    },
    "slideshow": {
     "slide_type": "-"
    }
   },
   "outputs": [
    {
     "data": {
      "image/png": "[encoded data removed]",
      "text/plain": [
       "<Figure size 640x480 with 2 Axes>"
      ]
     },
     "metadata": {},
     "output_type": "display_data"
    }
   ],
   "source": [
    "pipe_lr_weight = make_pipeline(\n",
    "    StandardScaler(), LogisticRegression(max_iter=500, class_weight={0:1, 1:10})\n",
    ")\n",
    "pipe_lr_weight.fit(X_train, y_train)\n",
    "ConfusionMatrixDisplay.from_estimator(\n",
    "    pipe_lr_weight,\n",
    "    X_valid,\n",
    "    y_valid,\n",
    "    display_labels=[\"Non fraud\", \"fraud\"],\n",
    "    values_format=\"d\",\n",
    "    cmap=plt.cm.Blues,\n",
    ");"
   ]
  },
  {
   "cell_type": "markdown",
   "metadata": {
    "slideshow": {
     "slide_type": "slide"
    }
   },
   "source": [
    "- Notice we've **reduced false negatives** and predicted more Fraud this time.\n",
    "- This was equivalent to saying give 10x more \"importance\" to fraud class.\n",
    "- Note that as a consequence we are also **increasing false positives**."
   ]
  },
  {
   "cell_type": "markdown",
   "metadata": {
    "slideshow": {
     "slide_type": "slide"
    }
   },
   "source": [
    "### `class_weight=\"balanced\"`\n",
    "- A useful setting is `class_weight=\"balanced\"`.\n",
    "- This sets the weights so that the classes are \"equal\".\n",
    "\n",
    "> class_weight: dict, ‘balanced’ or None\n",
    "If ‘balanced’, class weights will be given by n_samples / (n_classes * np.bincount(y)). If a dictionary is given, keys are classes and values are corresponding class weights. If None is given, the class weights will be uniform.\n",
    "\n",
    "> `sklearn.utils.class_weight.compute_class_weight(class_weight, classes, y)`"
   ]
  },
  {
   "cell_type": "code",
   "execution_count": 90,
   "metadata": {
    "execution": {
     "iopub.execute_input": "2023-05-30T08:45:53.058139Z",
     "iopub.status.busy": "2023-05-30T08:45:53.057553Z",
     "iopub.status.idle": "2023-05-30T08:45:55.039863Z",
     "shell.execute_reply": "2023-05-30T08:45:55.038436Z",
     "shell.execute_reply.started": "2023-05-30T08:45:53.058091Z"
    },
    "slideshow": {
     "slide_type": "slide"
    }
   },
   "outputs": [
    {
     "data": {
      "image/png": "[encoded data removed]",
      "text/plain": [
       "<Figure size 640x480 with 2 Axes>"
      ]
     },
     "metadata": {},
     "output_type": "display_data"
    }
   ],
   "source": [
    "pipe_lr_balanced = make_pipeline(\n",
    "    StandardScaler(), LogisticRegression(max_iter=500, class_weight=\"balanced\")\n",
    ")\n",
    "pipe_lr_balanced.fit(X_train, y_train)\n",
    "ConfusionMatrixDisplay.from_estimator(\n",
    "    pipe_lr_balanced,\n",
    "    X_valid,\n",
    "    y_valid,\n",
    "    display_labels=[\"Non fraud\", \"fraud\"],\n",
    "    values_format=\"d\",\n",
    "    cmap=plt.cm.Blues,\n",
    ");"
   ]
  },
  {
   "cell_type": "markdown",
   "metadata": {},
   "source": [
    "We have reduced false negatives but we have many more false positives now ..."
   ]
  },
  {
   "cell_type": "markdown",
   "metadata": {
    "slideshow": {
     "slide_type": "slide"
    }
   },
   "source": [
    "### Are we doing better with `class_weight=\"balanced\"`?"
   ]
  },
  {
   "cell_type": "code",
   "execution_count": 91,
   "metadata": {
    "execution": {
     "iopub.execute_input": "2023-05-30T08:45:55.042257Z",
     "iopub.status.busy": "2023-05-30T08:45:55.041636Z",
     "iopub.status.idle": "2023-05-30T08:46:09.435319Z",
     "shell.execute_reply": "2023-05-30T08:46:09.432648Z",
     "shell.execute_reply.started": "2023-05-30T08:45:55.042213Z"
    }
   },
   "outputs": [],
   "source": [
    "comp_dict = {}\n",
    "pipe_lr = make_pipeline(StandardScaler(), LogisticRegression(max_iter=500))\n",
    "scoring = [\"accuracy\", \"f1\", \"recall\", \"precision\", \"roc_auc\", \"average_precision\"]\n",
    "orig_scores = cross_validate(pipe_lr, X_train_big, y_train_big, scoring=scoring)"
   ]
  },
  {
   "cell_type": "code",
   "execution_count": 92,
   "metadata": {
    "execution": {
     "iopub.execute_input": "2023-05-30T08:46:09.441183Z",
     "iopub.status.busy": "2023-05-30T08:46:09.439805Z",
     "iopub.status.idle": "2023-05-30T08:46:21.543596Z",
     "shell.execute_reply": "2023-05-30T08:46:21.536042Z",
     "shell.execute_reply.started": "2023-05-30T08:46:09.441133Z"
    },
    "slideshow": {
     "slide_type": "-"
    }
   },
   "outputs": [],
   "source": [
    "pipe_lr_balanced = make_pipeline(\n",
    "    StandardScaler(), LogisticRegression(max_iter=500, class_weight=\"balanced\")\n",
    ")\n",
    "scoring = [\"accuracy\", \"f1\", \"recall\", \"precision\", \"roc_auc\", \"average_precision\"]\n",
    "bal_scores = cross_validate(pipe_lr_balanced, X_train_big, y_train_big, scoring=scoring)\n",
    "comp_dict = {\n",
    "    \"Original\": pd.DataFrame(orig_scores).mean().tolist(),\n",
    "    \"class_weight='balanced'\": pd.DataFrame(bal_scores).mean().tolist(),\n",
    "}"
   ]
  },
  {
   "cell_type": "code",
   "execution_count": 93,
   "metadata": {
    "execution": {
     "iopub.execute_input": "2023-05-30T08:46:21.548969Z",
     "iopub.status.busy": "2023-05-30T08:46:21.546978Z",
     "iopub.status.idle": "2023-05-30T08:46:21.591233Z",
     "shell.execute_reply": "2023-05-30T08:46:21.589015Z",
     "shell.execute_reply.started": "2023-05-30T08:46:21.548905Z"
    },
    "slideshow": {
     "slide_type": "slide"
    }
   },
   "outputs": [
    {
     "data": {
      "text/html": [
       "<div>\n",
       "<style scoped>\n",
       "    .dataframe tbody tr th:only-of-type {\n",
       "        vertical-align: middle;\n",
       "    }\n",
       "\n",
       "    .dataframe tbody tr th {\n",
       "        vertical-align: top;\n",
       "    }\n",
       "\n",
       "    .dataframe thead th {\n",
       "        text-align: right;\n",
       "    }\n",
       "</style>\n",
       "<table border=\"1\" class=\"dataframe\">\n",
       "  <thead>\n",
       "    <tr style=\"text-align: right;\">\n",
       "      <th></th>\n",
       "      <th>Original</th>\n",
       "      <th>class_weight='balanced'</th>\n",
       "    </tr>\n",
       "  </thead>\n",
       "  <tbody>\n",
       "    <tr>\n",
       "      <th>fit_time</th>\n",
       "      <td>2.622262</td>\n",
       "      <td>2.154342</td>\n",
       "    </tr>\n",
       "    <tr>\n",
       "      <th>score_time</th>\n",
       "      <td>0.242007</td>\n",
       "      <td>0.242134</td>\n",
       "    </tr>\n",
       "    <tr>\n",
       "      <th>test_accuracy</th>\n",
       "      <td>0.999212</td>\n",
       "      <td>0.973626</td>\n",
       "    </tr>\n",
       "    <tr>\n",
       "      <th>test_f1</th>\n",
       "      <td>0.724369</td>\n",
       "      <td>0.103831</td>\n",
       "    </tr>\n",
       "    <tr>\n",
       "      <th>test_recall</th>\n",
       "      <td>0.610536</td>\n",
       "      <td>0.896883</td>\n",
       "    </tr>\n",
       "    <tr>\n",
       "      <th>test_precision</th>\n",
       "      <td>0.894228</td>\n",
       "      <td>0.055119</td>\n",
       "    </tr>\n",
       "    <tr>\n",
       "      <th>test_roc_auc</th>\n",
       "      <td>0.967438</td>\n",
       "      <td>0.970881</td>\n",
       "    </tr>\n",
       "    <tr>\n",
       "      <th>test_average_precision</th>\n",
       "      <td>0.744030</td>\n",
       "      <td>0.730627</td>\n",
       "    </tr>\n",
       "  </tbody>\n",
       "</table>\n",
       "</div>"
      ],
      "text/plain": [
       "                        Original  class_weight='balanced'\n",
       "fit_time                2.622262                 2.154342\n",
       "score_time              0.242007                 0.242134\n",
       "test_accuracy           0.999212                 0.973626\n",
       "test_f1                 0.724369                 0.103831\n",
       "test_recall             0.610536                 0.896883\n",
       "test_precision          0.894228                 0.055119\n",
       "test_roc_auc            0.967438                 0.970881\n",
       "test_average_precision  0.744030                 0.730627"
      ]
     },
     "execution_count": 93,
     "metadata": {},
     "output_type": "execute_result"
    }
   ],
   "source": [
    "pd.DataFrame(comp_dict, index=bal_scores.keys())"
   ]
  },
  {
   "cell_type": "markdown",
   "metadata": {},
   "source": [
    "- Recall is much better but precision has dropped a lot; we have many false positives. \n",
    "- You could also optimize `class_weight` using hyperparameter optimization for your specific problem. "
   ]
  },
  {
   "cell_type": "markdown",
   "metadata": {
    "slideshow": {
     "slide_type": "slide"
    }
   },
   "source": [
    "- Changing the class weight will **generally reduce accuracy**.\n",
    "- The original model was trying to maximize accuracy.\n",
    "- Now you're telling it to do something different.\n",
    "- But that can be fine, accuracy isn't the only metric that matters."
   ]
  },
  {
   "cell_type": "markdown",
   "metadata": {
    "slideshow": {
     "slide_type": "slide"
    }
   },
   "source": [
    "### Stratified Splits\n",
    "\n",
    "- A similar idea of \"balancing\" classes can be applied to data splits.\n",
    "- We have the same option in `train_test_split` with the `stratify` argument. \n",
    "- By default it splits the data so that if we have 10% positive examples in total, then each split will have 10% positive examples."
   ]
  },
  {
   "cell_type": "markdown",
   "metadata": {
    "slideshow": {
     "slide_type": "slide"
    }
   },
   "source": [
    "- If you are carrying out cross validation using `cross_validate`, by default it uses [`StratifiedKFold`](https://scikit-learn.org/stable/modules/generated/sklearn.model_selection.StratifiedKFold.html). From the documentation: \n",
    "\n",
    "> This cross-validation object is a variation of KFold that returns stratified folds. The folds are made by preserving the percentage of samples for each class.\n",
    "\n",
    "- In other words, if we have 10% positive examples in total, then each fold will have 10% positive examples."
   ]
  },
  {
   "cell_type": "markdown",
   "metadata": {
    "slideshow": {
     "slide_type": "slide"
    }
   },
   "source": [
    "### Is stratifying a good idea? \n",
    "\n",
    "  - Well, it's no longer a random sample, which is probably theoretically bad, but not that big of a deal.\n",
    "  - If you have many examples, it shouldn't matter as much.\n",
    "  - It can be especially useful in multi-class, say if you have one class with very few cases.\n",
    "  - In general, these are difficult questions."
   ]
  },
  {
   "cell_type": "markdown",
   "metadata": {
    "slideshow": {
     "slide_type": "slide"
    }
   },
   "source": [
    "<br><br><br><br>"
   ]
  },
  {
   "cell_type": "markdown",
   "metadata": {
    "slideshow": {
     "slide_type": "slide"
    }
   },
   "source": [
    "## What did we learn today? \n",
    "\n",
    "- A number of possible ways to evaluate machine learning models \n",
    "    - Choose the evaluation metric that makes most sense in your context or which is most common in your discipline  \n",
    "- Two kinds of binary classification problems \n",
    "    - Distinguishing between two classes (e.g., dogs vs. cats)\n",
    "    - Spotting a class (e.g., spot fraud transaction, spot spam)"
   ]
  },
  {
   "cell_type": "markdown",
   "metadata": {
    "slideshow": {
     "slide_type": "slide"
    }
   },
   "source": [
    "- Precision, recall, f1-score are useful when dealing with spotting problems. \n",
    "- The thing that we are interested in spotting is considered \"positive\".   \n",
    "- Do you need to deal with class imbalance in the given problem? \n",
    "- Methods to deal with class imbalance \n",
    "    - Changing the training procedure \n",
    "        - `class_weight`"
   ]
  },
  {
   "cell_type": "markdown",
   "metadata": {
    "slideshow": {
     "slide_type": "slide"
    },
    "tags": []
   },
   "source": [
    "### Relevant papers and resources \n",
    "\n",
    "- [The Relationship Between Precision-Recall and ROC Curves](https://www.biostat.wisc.edu/~page/rocpr.pdf)\n",
    "- [Article claiming that PR curve are better than ROC for imbalanced datasets](https://journals.plos.org/plosone/article?id=10.1371/journal.pone.0118432)\n",
    "- [Precision-Recall-Gain Curves: PR Analysis Done Right](https://papers.nips.cc/paper/2015/file/33e8075e9970de0cfea955afd4644bb2-Paper.pdf)\n",
    "- [ROC animation](https://github.com/dariyasydykova/open_projects/tree/master/ROC_animation)\n",
    "- [Generalization in Adaptive Data Analysis and Holdout Reuse](https://arxiv.org/pdf/1506.02629.pdf)"
   ]
  },
  {
   "cell_type": "markdown",
   "metadata": {},
   "source": [
    "![](img/eva-seeyou.png)"
   ]
  }
 ],
 "metadata": {
  "celltoolbar": "Slideshow",
  "kernelspec": {
   "display_name": "Python [conda env:cpsc330]",
   "language": "python",
   "name": "conda-env-cpsc330-py"
  },
  "language_info": {
   "codemirror_mode": {
    "name": "ipython",
    "version": 3
   },
   "file_extension": ".py",
   "mimetype": "text/x-python",
   "name": "python",
   "nbconvert_exporter": "python",
   "pygments_lexer": "ipython3",
   "version": "3.10.11"
  }
 },
 "nbformat": 4,
 "nbformat_minor": 4
}
