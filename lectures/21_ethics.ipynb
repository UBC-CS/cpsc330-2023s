{
 "cells": [
  {
   "cell_type": "markdown",
   "id": "38377d10-b7e2-4e0a-96c0-29338b98054a",
   "metadata": {
    "slideshow": {
     "slide_type": "slide"
    }
   },
   "source": [
    "![](img/330-banner.png)"
   ]
  },
  {
   "cell_type": "markdown",
   "id": "b21576dc-bd50-4828-9d38-496eff4a7083",
   "metadata": {
    "slideshow": {
     "slide_type": "-"
    },
    "tags": []
   },
   "source": [
    "# Lecture 21: Ethics\n",
    "\n",
    "UBC 2023 Summer\n",
    "\n",
    "Instructor: Mehrdad Oveisi"
   ]
  },
  {
   "cell_type": "markdown",
   "id": "b36d7f78-2d71-4dd0-8745-ae81795e9e2b",
   "metadata": {
    "slideshow": {
     "slide_type": "skip"
    }
   },
   "source": [
    "## Imports"
   ]
  },
  {
   "cell_type": "code",
   "execution_count": 1,
   "id": "4e75fe86-cffe-4014-91e9-b1f6143af74b",
   "metadata": {
    "execution": {
     "iopub.execute_input": "2023-06-19T16:39:40.960120Z",
     "iopub.status.busy": "2023-06-19T16:39:40.959245Z",
     "iopub.status.idle": "2023-06-19T16:39:42.725591Z",
     "shell.execute_reply": "2023-06-19T16:39:42.724216Z",
     "shell.execute_reply.started": "2023-06-19T16:39:40.960072Z"
    },
    "slideshow": {
     "slide_type": "skip"
    }
   },
   "outputs": [],
   "source": [
    "import os\n",
    "import sys\n",
    "\n",
    "import IPython\n",
    "import matplotlib.pyplot as plt\n",
    "import mglearn\n",
    "import numpy as np\n",
    "import pandas as pd\n",
    "from sklearn.dummy import DummyClassifier\n",
    "from sklearn.linear_model import LogisticRegression\n",
    "from sklearn.metrics import accuracy_score, f1_score, precision_score, recall_score\n",
    "from sklearn.model_selection import cross_val_score, cross_validate, train_test_split\n",
    "from sklearn.pipeline import Pipeline, make_pipeline\n",
    "from sklearn.preprocessing import StandardScaler\n",
    "from sklearn.metrics import classification_report\n",
    "\n",
    "from sklearn.metrics import ConfusionMatrixDisplay  # Recommended method in sklearn 1.0\n",
    "\n",
    "%matplotlib inline\n",
    "pd.set_option(\"display.max_colwidth\", 200)\n",
    "\n",
    "from IPython.display import Image"
   ]
  },
  {
   "cell_type": "markdown",
   "id": "6c05fe12-8850-41b1-ae77-f0207486d903",
   "metadata": {},
   "source": [
    "<br><br>"
   ]
  },
  {
   "cell_type": "markdown",
   "id": "2c1ede64-9816-4642-8815-8bf1da81fa23",
   "metadata": {
    "slideshow": {
     "slide_type": "slide"
    }
   },
   "source": [
    "## ML fairness activity"
   ]
  },
  {
   "cell_type": "markdown",
   "id": "5a8f56b1-22e3-4336-ba45-aafa81c11cf9",
   "metadata": {
    "slideshow": {
     "slide_type": "-"
    }
   },
   "source": [
    "AI/ML systems can give the illusion of objectivity as they are derived from seemingly unbiased data & algorithms. However, human beings are inherently biased and AI/ML systems, if not carefully evaluated, can even further ***amplify* the existing inequities** and systemic bias in our society.  \n",
    "\n",
    "- How do we make sure our AI/ML systems are **fair**?\n",
    "- Which metrics can we use to **quantify 'fairness'** in AI/ML systems?"
   ]
  },
  {
   "cell_type": "markdown",
   "id": "61ba95e4-cd34-4820-af69-2a062a22453a",
   "metadata": {},
   "source": [
    "Let's examine this on [the adult census data set](https://www.kaggle.com/uciml/adult-census-income). "
   ]
  },
  {
   "cell_type": "code",
   "execution_count": 2,
   "id": "05750691-79b9-4e90-b32a-68b17a5e77f7",
   "metadata": {
    "execution": {
     "iopub.execute_input": "2023-06-19T16:39:42.729107Z",
     "iopub.status.busy": "2023-06-19T16:39:42.728392Z",
     "iopub.status.idle": "2023-06-19T16:39:42.856583Z",
     "shell.execute_reply": "2023-06-19T16:39:42.855264Z",
     "shell.execute_reply.started": "2023-06-19T16:39:42.729061Z"
    },
    "slideshow": {
     "slide_type": "slide"
    }
   },
   "outputs": [
    {
     "data": {
      "text/plain": [
       "(32561, 15)"
      ]
     },
     "execution_count": 2,
     "metadata": {},
     "output_type": "execute_result"
    }
   ],
   "source": [
    "census_df = pd.read_csv(\"data/adult.csv\")\n",
    "census_df.shape"
   ]
  },
  {
   "cell_type": "code",
   "execution_count": 3,
   "id": "f27562ae-3e28-47c1-82d6-697589990f9f",
   "metadata": {
    "execution": {
     "iopub.execute_input": "2023-06-19T16:39:42.859049Z",
     "iopub.status.busy": "2023-06-19T16:39:42.858099Z",
     "iopub.status.idle": "2023-06-19T16:39:42.877434Z",
     "shell.execute_reply": "2023-06-19T16:39:42.876186Z",
     "shell.execute_reply.started": "2023-06-19T16:39:42.858904Z"
    }
   },
   "outputs": [],
   "source": [
    "train_df, test_df = train_test_split(census_df, test_size=0.4, random_state=42)"
   ]
  },
  {
   "cell_type": "code",
   "execution_count": 4,
   "id": "088c42cc-2a97-4c62-b0ff-2d785abb0168",
   "metadata": {
    "execution": {
     "iopub.execute_input": "2023-06-19T16:39:42.879020Z",
     "iopub.status.busy": "2023-06-19T16:39:42.878551Z",
     "iopub.status.idle": "2023-06-19T16:39:42.913963Z",
     "shell.execute_reply": "2023-06-19T16:39:42.912431Z",
     "shell.execute_reply.started": "2023-06-19T16:39:42.878984Z"
    }
   },
   "outputs": [
    {
     "data": {
      "text/html": [
       "<div>\n",
       "<style scoped>\n",
       "    .dataframe tbody tr th:only-of-type {\n",
       "        vertical-align: middle;\n",
       "    }\n",
       "\n",
       "    .dataframe tbody tr th {\n",
       "        vertical-align: top;\n",
       "    }\n",
       "\n",
       "    .dataframe thead th {\n",
       "        text-align: right;\n",
       "    }\n",
       "</style>\n",
       "<table border=\"1\" class=\"dataframe\">\n",
       "  <thead>\n",
       "    <tr style=\"text-align: right;\">\n",
       "      <th></th>\n",
       "      <th>age</th>\n",
       "      <th>workclass</th>\n",
       "      <th>fnlwgt</th>\n",
       "      <th>education</th>\n",
       "      <th>education.num</th>\n",
       "      <th>marital.status</th>\n",
       "      <th>occupation</th>\n",
       "      <th>relationship</th>\n",
       "      <th>race</th>\n",
       "      <th>sex</th>\n",
       "      <th>capital.gain</th>\n",
       "      <th>capital.loss</th>\n",
       "      <th>hours.per.week</th>\n",
       "      <th>native.country</th>\n",
       "      <th>income</th>\n",
       "    </tr>\n",
       "  </thead>\n",
       "  <tbody>\n",
       "    <tr>\n",
       "      <th>25823</th>\n",
       "      <td>36</td>\n",
       "      <td>Private</td>\n",
       "      <td>245521</td>\n",
       "      <td>7th-8th</td>\n",
       "      <td>4</td>\n",
       "      <td>Married-civ-spouse</td>\n",
       "      <td>Farming-fishing</td>\n",
       "      <td>Husband</td>\n",
       "      <td>White</td>\n",
       "      <td>Male</td>\n",
       "      <td>0</td>\n",
       "      <td>0</td>\n",
       "      <td>35</td>\n",
       "      <td>Mexico</td>\n",
       "      <td>&lt;=50K</td>\n",
       "    </tr>\n",
       "    <tr>\n",
       "      <th>10274</th>\n",
       "      <td>26</td>\n",
       "      <td>Private</td>\n",
       "      <td>134287</td>\n",
       "      <td>Assoc-voc</td>\n",
       "      <td>11</td>\n",
       "      <td>Never-married</td>\n",
       "      <td>Sales</td>\n",
       "      <td>Own-child</td>\n",
       "      <td>White</td>\n",
       "      <td>Female</td>\n",
       "      <td>0</td>\n",
       "      <td>0</td>\n",
       "      <td>35</td>\n",
       "      <td>United-States</td>\n",
       "      <td>&lt;=50K</td>\n",
       "    </tr>\n",
       "    <tr>\n",
       "      <th>27652</th>\n",
       "      <td>25</td>\n",
       "      <td>Local-gov</td>\n",
       "      <td>109526</td>\n",
       "      <td>HS-grad</td>\n",
       "      <td>9</td>\n",
       "      <td>Married-civ-spouse</td>\n",
       "      <td>Craft-repair</td>\n",
       "      <td>Husband</td>\n",
       "      <td>White</td>\n",
       "      <td>Male</td>\n",
       "      <td>0</td>\n",
       "      <td>0</td>\n",
       "      <td>38</td>\n",
       "      <td>United-States</td>\n",
       "      <td>&lt;=50K</td>\n",
       "    </tr>\n",
       "    <tr>\n",
       "      <th>13941</th>\n",
       "      <td>23</td>\n",
       "      <td>Private</td>\n",
       "      <td>131275</td>\n",
       "      <td>HS-grad</td>\n",
       "      <td>9</td>\n",
       "      <td>Never-married</td>\n",
       "      <td>Craft-repair</td>\n",
       "      <td>Own-child</td>\n",
       "      <td>Amer-Indian-Eskimo</td>\n",
       "      <td>Male</td>\n",
       "      <td>0</td>\n",
       "      <td>0</td>\n",
       "      <td>40</td>\n",
       "      <td>United-States</td>\n",
       "      <td>&lt;=50K</td>\n",
       "    </tr>\n",
       "    <tr>\n",
       "      <th>31384</th>\n",
       "      <td>27</td>\n",
       "      <td>Private</td>\n",
       "      <td>193122</td>\n",
       "      <td>HS-grad</td>\n",
       "      <td>9</td>\n",
       "      <td>Married-civ-spouse</td>\n",
       "      <td>Machine-op-inspct</td>\n",
       "      <td>Husband</td>\n",
       "      <td>White</td>\n",
       "      <td>Male</td>\n",
       "      <td>0</td>\n",
       "      <td>0</td>\n",
       "      <td>40</td>\n",
       "      <td>United-States</td>\n",
       "      <td>&lt;=50K</td>\n",
       "    </tr>\n",
       "    <tr>\n",
       "      <th>...</th>\n",
       "      <td>...</td>\n",
       "      <td>...</td>\n",
       "      <td>...</td>\n",
       "      <td>...</td>\n",
       "      <td>...</td>\n",
       "      <td>...</td>\n",
       "      <td>...</td>\n",
       "      <td>...</td>\n",
       "      <td>...</td>\n",
       "      <td>...</td>\n",
       "      <td>...</td>\n",
       "      <td>...</td>\n",
       "      <td>...</td>\n",
       "      <td>...</td>\n",
       "      <td>...</td>\n",
       "    </tr>\n",
       "    <tr>\n",
       "      <th>29802</th>\n",
       "      <td>25</td>\n",
       "      <td>Private</td>\n",
       "      <td>410240</td>\n",
       "      <td>HS-grad</td>\n",
       "      <td>9</td>\n",
       "      <td>Never-married</td>\n",
       "      <td>Craft-repair</td>\n",
       "      <td>Own-child</td>\n",
       "      <td>White</td>\n",
       "      <td>Male</td>\n",
       "      <td>0</td>\n",
       "      <td>0</td>\n",
       "      <td>40</td>\n",
       "      <td>United-States</td>\n",
       "      <td>&lt;=50K</td>\n",
       "    </tr>\n",
       "    <tr>\n",
       "      <th>5390</th>\n",
       "      <td>51</td>\n",
       "      <td>Private</td>\n",
       "      <td>146767</td>\n",
       "      <td>Assoc-voc</td>\n",
       "      <td>11</td>\n",
       "      <td>Married-civ-spouse</td>\n",
       "      <td>Prof-specialty</td>\n",
       "      <td>Husband</td>\n",
       "      <td>White</td>\n",
       "      <td>Male</td>\n",
       "      <td>0</td>\n",
       "      <td>0</td>\n",
       "      <td>40</td>\n",
       "      <td>United-States</td>\n",
       "      <td>&gt;50K</td>\n",
       "    </tr>\n",
       "    <tr>\n",
       "      <th>860</th>\n",
       "      <td>55</td>\n",
       "      <td>Federal-gov</td>\n",
       "      <td>238192</td>\n",
       "      <td>HS-grad</td>\n",
       "      <td>9</td>\n",
       "      <td>Married-civ-spouse</td>\n",
       "      <td>Tech-support</td>\n",
       "      <td>Husband</td>\n",
       "      <td>White</td>\n",
       "      <td>Male</td>\n",
       "      <td>0</td>\n",
       "      <td>1887</td>\n",
       "      <td>40</td>\n",
       "      <td>United-States</td>\n",
       "      <td>&gt;50K</td>\n",
       "    </tr>\n",
       "    <tr>\n",
       "      <th>15795</th>\n",
       "      <td>41</td>\n",
       "      <td>Private</td>\n",
       "      <td>154076</td>\n",
       "      <td>Some-college</td>\n",
       "      <td>10</td>\n",
       "      <td>Married-civ-spouse</td>\n",
       "      <td>Adm-clerical</td>\n",
       "      <td>Husband</td>\n",
       "      <td>White</td>\n",
       "      <td>Male</td>\n",
       "      <td>0</td>\n",
       "      <td>0</td>\n",
       "      <td>50</td>\n",
       "      <td>United-States</td>\n",
       "      <td>&gt;50K</td>\n",
       "    </tr>\n",
       "    <tr>\n",
       "      <th>23654</th>\n",
       "      <td>22</td>\n",
       "      <td>Private</td>\n",
       "      <td>162667</td>\n",
       "      <td>HS-grad</td>\n",
       "      <td>9</td>\n",
       "      <td>Never-married</td>\n",
       "      <td>Handlers-cleaners</td>\n",
       "      <td>Own-child</td>\n",
       "      <td>White</td>\n",
       "      <td>Male</td>\n",
       "      <td>0</td>\n",
       "      <td>0</td>\n",
       "      <td>50</td>\n",
       "      <td>Portugal</td>\n",
       "      <td>&lt;=50K</td>\n",
       "    </tr>\n",
       "  </tbody>\n",
       "</table>\n",
       "<p>19536 rows × 15 columns</p>\n",
       "</div>"
      ],
      "text/plain": [
       "       age    workclass  fnlwgt     education  education.num  \\\n",
       "25823   36      Private  245521       7th-8th              4   \n",
       "10274   26      Private  134287     Assoc-voc             11   \n",
       "27652   25    Local-gov  109526       HS-grad              9   \n",
       "13941   23      Private  131275       HS-grad              9   \n",
       "31384   27      Private  193122       HS-grad              9   \n",
       "...    ...          ...     ...           ...            ...   \n",
       "29802   25      Private  410240       HS-grad              9   \n",
       "5390    51      Private  146767     Assoc-voc             11   \n",
       "860     55  Federal-gov  238192       HS-grad              9   \n",
       "15795   41      Private  154076  Some-college             10   \n",
       "23654   22      Private  162667       HS-grad              9   \n",
       "\n",
       "           marital.status         occupation relationship                race  \\\n",
       "25823  Married-civ-spouse    Farming-fishing      Husband               White   \n",
       "10274       Never-married              Sales    Own-child               White   \n",
       "27652  Married-civ-spouse       Craft-repair      Husband               White   \n",
       "13941       Never-married       Craft-repair    Own-child  Amer-Indian-Eskimo   \n",
       "31384  Married-civ-spouse  Machine-op-inspct      Husband               White   \n",
       "...                   ...                ...          ...                 ...   \n",
       "29802       Never-married       Craft-repair    Own-child               White   \n",
       "5390   Married-civ-spouse     Prof-specialty      Husband               White   \n",
       "860    Married-civ-spouse       Tech-support      Husband               White   \n",
       "15795  Married-civ-spouse       Adm-clerical      Husband               White   \n",
       "23654       Never-married  Handlers-cleaners    Own-child               White   \n",
       "\n",
       "          sex  capital.gain  capital.loss  hours.per.week native.country  \\\n",
       "25823    Male             0             0              35         Mexico   \n",
       "10274  Female             0             0              35  United-States   \n",
       "27652    Male             0             0              38  United-States   \n",
       "13941    Male             0             0              40  United-States   \n",
       "31384    Male             0             0              40  United-States   \n",
       "...       ...           ...           ...             ...            ...   \n",
       "29802    Male             0             0              40  United-States   \n",
       "5390     Male             0             0              40  United-States   \n",
       "860      Male             0          1887              40  United-States   \n",
       "15795    Male             0             0              50  United-States   \n",
       "23654    Male             0             0              50       Portugal   \n",
       "\n",
       "      income  \n",
       "25823  <=50K  \n",
       "10274  <=50K  \n",
       "27652  <=50K  \n",
       "13941  <=50K  \n",
       "31384  <=50K  \n",
       "...      ...  \n",
       "29802  <=50K  \n",
       "5390    >50K  \n",
       "860     >50K  \n",
       "15795   >50K  \n",
       "23654  <=50K  \n",
       "\n",
       "[19536 rows x 15 columns]"
      ]
     },
     "execution_count": 4,
     "metadata": {},
     "output_type": "execute_result"
    }
   ],
   "source": [
    "train_df"
   ]
  },
  {
   "cell_type": "code",
   "execution_count": 5,
   "id": "f2021c6c-8b00-4f94-9697-6b544f66b1b3",
   "metadata": {
    "execution": {
     "iopub.execute_input": "2023-06-19T16:39:42.920873Z",
     "iopub.status.busy": "2023-06-19T16:39:42.920341Z",
     "iopub.status.idle": "2023-06-19T16:39:42.967935Z",
     "shell.execute_reply": "2023-06-19T16:39:42.966518Z",
     "shell.execute_reply.started": "2023-06-19T16:39:42.920832Z"
    },
    "slideshow": {
     "slide_type": "slide"
    }
   },
   "outputs": [
    {
     "data": {
      "text/plain": [
       "(19536, 15)"
      ]
     },
     "execution_count": 5,
     "metadata": {},
     "output_type": "execute_result"
    }
   ],
   "source": [
    "train_df_nan = train_df.replace(\"?\", np.nan)\n",
    "test_df_nan = test_df.replace(\"?\", np.nan)\n",
    "train_df_nan.shape"
   ]
  },
  {
   "cell_type": "code",
   "execution_count": 6,
   "id": "8991325a-c826-4937-9b26-0ab1dffcb6cb",
   "metadata": {
    "execution": {
     "iopub.execute_input": "2023-06-19T16:39:42.970499Z",
     "iopub.status.busy": "2023-06-19T16:39:42.970081Z",
     "iopub.status.idle": "2023-06-19T16:39:42.981828Z",
     "shell.execute_reply": "2023-06-19T16:39:42.979168Z",
     "shell.execute_reply.started": "2023-06-19T16:39:42.970455Z"
    },
    "slideshow": {
     "slide_type": "slide"
    }
   },
   "outputs": [],
   "source": [
    "# Let's identify numeric and categorical features\n",
    "\n",
    "numeric_features = [\n",
    "    \"age\",\n",
    "    \"capital.gain\",\n",
    "    \"capital.loss\",\n",
    "    \"hours.per.week\",\n",
    "]\n",
    "\n",
    "categorical_features = [\n",
    "    \"workclass\",\n",
    "    \"marital.status\",\n",
    "    \"occupation\",\n",
    "    \"relationship\",\n",
    "    \"race\",\n",
    "    \"native.country\",\n",
    "]\n",
    "\n",
    "ordinal_features = [\"education\"]\n",
    "binary_features = [\n",
    "    \"sex\"\n",
    "]  # Not binary in general but in this particular dataset it seems to have only two possible values\n",
    "drop_features = [\"education.num\", \"fnlwgt\"]\n",
    "target = \"income\""
   ]
  },
  {
   "cell_type": "code",
   "execution_count": 7,
   "id": "01e7bd33-d03b-4d06-96f6-30bbb3044623",
   "metadata": {
    "execution": {
     "iopub.execute_input": "2023-06-19T16:39:42.984962Z",
     "iopub.status.busy": "2023-06-19T16:39:42.983808Z",
     "iopub.status.idle": "2023-06-19T16:39:42.998647Z",
     "shell.execute_reply": "2023-06-19T16:39:42.997088Z",
     "shell.execute_reply.started": "2023-06-19T16:39:42.984903Z"
    },
    "slideshow": {
     "slide_type": "slide"
    }
   },
   "outputs": [
    {
     "data": {
      "text/plain": [
       "array(['7th-8th', 'Assoc-voc', 'HS-grad', 'Bachelors', 'Some-college',\n",
       "       '10th', '11th', 'Prof-school', '12th', '5th-6th', 'Masters',\n",
       "       'Assoc-acdm', '9th', 'Doctorate', '1st-4th', 'Preschool'],\n",
       "      dtype=object)"
      ]
     },
     "execution_count": 7,
     "metadata": {},
     "output_type": "execute_result"
    }
   ],
   "source": [
    "train_df[\"education\"].unique()"
   ]
  },
  {
   "cell_type": "code",
   "execution_count": 8,
   "id": "7abfc75b-a026-4c93-88e0-974b0db48fc2",
   "metadata": {
    "execution": {
     "iopub.execute_input": "2023-06-19T16:39:43.001308Z",
     "iopub.status.busy": "2023-06-19T16:39:43.000110Z",
     "iopub.status.idle": "2023-06-19T16:39:43.010513Z",
     "shell.execute_reply": "2023-06-19T16:39:43.007665Z",
     "shell.execute_reply.started": "2023-06-19T16:39:43.001254Z"
    }
   },
   "outputs": [],
   "source": [
    "education_levels = [\n",
    "    \"Preschool\",\n",
    "    \"1st-4th\",\n",
    "    \"5th-6th\",\n",
    "    \"7th-8th\",\n",
    "    \"9th\",\n",
    "    \"10th\",\n",
    "    \"11th\",\n",
    "    \"12th\",\n",
    "    \"HS-grad\",\n",
    "    \"Prof-school\",\n",
    "    \"Assoc-voc\",\n",
    "    \"Assoc-acdm\",\n",
    "    \"Some-college\",\n",
    "    \"Bachelors\",\n",
    "    \"Masters\",\n",
    "    \"Doctorate\",\n",
    "]"
   ]
  },
  {
   "cell_type": "code",
   "execution_count": 9,
   "id": "13387510-f6fd-4cb6-8016-54e3cdbd4d41",
   "metadata": {
    "execution": {
     "iopub.execute_input": "2023-06-19T16:39:43.012987Z",
     "iopub.status.busy": "2023-06-19T16:39:43.012433Z",
     "iopub.status.idle": "2023-06-19T16:39:43.023647Z",
     "shell.execute_reply": "2023-06-19T16:39:43.022284Z",
     "shell.execute_reply.started": "2023-06-19T16:39:43.012952Z"
    },
    "tags": []
   },
   "outputs": [],
   "source": [
    "assert set(education_levels) == set(train_df[\"education\"])"
   ]
  },
  {
   "cell_type": "code",
   "execution_count": 10,
   "id": "e3c41aaa-a0b3-48a1-9c30-354defec4be0",
   "metadata": {
    "execution": {
     "iopub.execute_input": "2023-06-19T16:39:43.026127Z",
     "iopub.status.busy": "2023-06-19T16:39:43.025178Z",
     "iopub.status.idle": "2023-06-19T16:39:43.041984Z",
     "shell.execute_reply": "2023-06-19T16:39:43.040501Z",
     "shell.execute_reply.started": "2023-06-19T16:39:43.026070Z"
    },
    "slideshow": {
     "slide_type": "slide"
    }
   },
   "outputs": [],
   "source": [
    "X_train = train_df_nan.drop(columns=[target])\n",
    "y_train = train_df_nan[target]\n",
    "\n",
    "X_test = test_df_nan.drop(columns=[target])\n",
    "y_test = test_df_nan[target]"
   ]
  },
  {
   "cell_type": "code",
   "execution_count": 11,
   "id": "7a0d9dd1-69b8-427a-8ea0-0990bc685958",
   "metadata": {
    "execution": {
     "iopub.execute_input": "2023-06-19T16:39:43.043776Z",
     "iopub.status.busy": "2023-06-19T16:39:43.043362Z",
     "iopub.status.idle": "2023-06-19T16:39:43.065304Z",
     "shell.execute_reply": "2023-06-19T16:39:43.062554Z",
     "shell.execute_reply.started": "2023-06-19T16:39:43.043724Z"
    },
    "slideshow": {
     "slide_type": "slide"
    }
   },
   "outputs": [],
   "source": [
    "from sklearn.compose import ColumnTransformer, make_column_transformer\n",
    "from sklearn.impute import SimpleImputer\n",
    "from sklearn.preprocessing import OneHotEncoder, OrdinalEncoder, StandardScaler\n",
    "\n",
    "numeric_transformer = make_pipeline(StandardScaler())\n",
    "\n",
    "ordinal_transformer = OrdinalEncoder(categories=[education_levels], dtype=int)\n",
    "\n",
    "categorical_transformer = make_pipeline(\n",
    "    SimpleImputer(strategy=\"constant\", fill_value=\"missing\"),\n",
    "    OneHotEncoder(handle_unknown=\"ignore\", sparse=False),\n",
    ")\n",
    "\n",
    "binary_transformer = make_pipeline(\n",
    "    SimpleImputer(strategy=\"constant\", fill_value=\"missing\"),\n",
    "    OneHotEncoder(drop=\"if_binary\", dtype=int),\n",
    ")\n",
    "\n",
    "preprocessor = make_column_transformer(\n",
    "    (numeric_transformer, numeric_features),\n",
    "    (ordinal_transformer, ordinal_features),\n",
    "    (binary_transformer, binary_features),\n",
    "    (categorical_transformer, categorical_features),\n",
    "    (\"drop\", drop_features),\n",
    ")"
   ]
  },
  {
   "cell_type": "code",
   "execution_count": 12,
   "id": "c643d4d9-4d21-44e0-9c2a-e43062fe1fa7",
   "metadata": {
    "execution": {
     "iopub.execute_input": "2023-06-19T16:39:43.068331Z",
     "iopub.status.busy": "2023-06-19T16:39:43.067802Z",
     "iopub.status.idle": "2023-06-19T16:39:43.090421Z",
     "shell.execute_reply": "2023-06-19T16:39:43.088569Z",
     "shell.execute_reply.started": "2023-06-19T16:39:43.068299Z"
    },
    "slideshow": {
     "slide_type": "slide"
    },
    "tags": []
   },
   "outputs": [
    {
     "data": {
      "text/html": [
       "<div>\n",
       "<style scoped>\n",
       "    .dataframe tbody tr th:only-of-type {\n",
       "        vertical-align: middle;\n",
       "    }\n",
       "\n",
       "    .dataframe tbody tr th {\n",
       "        vertical-align: top;\n",
       "    }\n",
       "\n",
       "    .dataframe thead th {\n",
       "        text-align: right;\n",
       "    }\n",
       "</style>\n",
       "<table border=\"1\" class=\"dataframe\">\n",
       "  <thead>\n",
       "    <tr style=\"text-align: right;\">\n",
       "      <th></th>\n",
       "      <th>count</th>\n",
       "      <th>ratio</th>\n",
       "    </tr>\n",
       "    <tr>\n",
       "      <th>income</th>\n",
       "      <th></th>\n",
       "      <th></th>\n",
       "    </tr>\n",
       "  </thead>\n",
       "  <tbody>\n",
       "    <tr>\n",
       "      <th>&lt;=50K</th>\n",
       "      <td>14841</td>\n",
       "      <td>0.759674</td>\n",
       "    </tr>\n",
       "    <tr>\n",
       "      <th>&gt;50K</th>\n",
       "      <td>4695</td>\n",
       "      <td>0.240326</td>\n",
       "    </tr>\n",
       "  </tbody>\n",
       "</table>\n",
       "</div>"
      ],
      "text/plain": [
       "        count     ratio\n",
       "income                 \n",
       "<=50K   14841  0.759674\n",
       ">50K     4695  0.240326"
      ]
     },
     "execution_count": 12,
     "metadata": {},
     "output_type": "execute_result"
    }
   ],
   "source": [
    "pd.DataFrame(dict(\n",
    "    count = y_train.value_counts(),\n",
    "    ratio = y_train.value_counts(normalize=True)))"
   ]
  },
  {
   "cell_type": "code",
   "execution_count": 13,
   "id": "800237aa-e64f-4dbe-b6d1-b91c5a9c984c",
   "metadata": {
    "execution": {
     "iopub.execute_input": "2023-06-19T16:39:43.092743Z",
     "iopub.status.busy": "2023-06-19T16:39:43.092249Z",
     "iopub.status.idle": "2023-06-19T16:39:43.102962Z",
     "shell.execute_reply": "2023-06-19T16:39:43.100528Z",
     "shell.execute_reply.started": "2023-06-19T16:39:43.092712Z"
    },
    "slideshow": {
     "slide_type": "-"
    }
   },
   "outputs": [],
   "source": [
    "pipe_lr = make_pipeline(\n",
    "    preprocessor, LogisticRegression(class_weight=\"balanced\", max_iter=1000)\n",
    ")"
   ]
  },
  {
   "cell_type": "code",
   "execution_count": 14,
   "id": "e25c1218-ef32-4995-a8d7-b2fe42a95c5e",
   "metadata": {
    "execution": {
     "iopub.execute_input": "2023-06-19T16:39:43.113003Z",
     "iopub.status.busy": "2023-06-19T16:39:43.111925Z",
     "iopub.status.idle": "2023-06-19T16:39:51.181493Z",
     "shell.execute_reply": "2023-06-19T16:39:51.167623Z",
     "shell.execute_reply.started": "2023-06-19T16:39:43.112949Z"
    }
   },
   "outputs": [],
   "source": [
    "pipe_lr.fit(X_train, y_train);"
   ]
  },
  {
   "cell_type": "code",
   "execution_count": 15,
   "id": "624b2161-a843-4507-9559-d47b9630e0fe",
   "metadata": {
    "execution": {
     "iopub.execute_input": "2023-06-19T16:39:51.185371Z",
     "iopub.status.busy": "2023-06-19T16:39:51.184228Z",
     "iopub.status.idle": "2023-06-19T16:39:51.207868Z",
     "shell.execute_reply": "2023-06-19T16:39:51.205711Z",
     "shell.execute_reply.started": "2023-06-19T16:39:51.185313Z"
    },
    "slideshow": {
     "slide_type": "slide"
    }
   },
   "outputs": [
    {
     "data": {
      "text/plain": [
       "{'normalize': 'true',\n",
       " 'cmap': <matplotlib.colors.LinearSegmentedColormap at 0x7ff5393cfe80>}"
      ]
     },
     "execution_count": 15,
     "metadata": {},
     "output_type": "execute_result"
    }
   ],
   "source": [
    "kw_cm = dict(normalize=\"true\", cmap=plt.cm.Blues) # key-word arguments for all confusion matrices\n",
    "kw_cm"
   ]
  },
  {
   "cell_type": "code",
   "execution_count": 16,
   "id": "edee9665-3dd0-43f0-a716-a262451db087",
   "metadata": {
    "execution": {
     "iopub.execute_input": "2023-06-19T16:39:51.212236Z",
     "iopub.status.busy": "2023-06-19T16:39:51.211350Z",
     "iopub.status.idle": "2023-06-19T16:39:51.924625Z",
     "shell.execute_reply": "2023-06-19T16:39:51.922568Z",
     "shell.execute_reply.started": "2023-06-19T16:39:51.212156Z"
    },
    "slideshow": {
     "slide_type": "slide"
    }
   },
   "outputs": [
    {
     "data": {
      "image/png": "[encoded data removed]",
      "text/plain": [
       "<Figure size 640x480 with 2 Axes>"
      ]
     },
     "metadata": {},
     "output_type": "display_data"
    }
   ],
   "source": [
    "ConfusionMatrixDisplay.from_estimator(pipe_lr, X_test, y_test, **kw_cm);"
   ]
  },
  {
   "cell_type": "markdown",
   "id": "1b112766-9d2f-42b8-8747-a751bb0972a6",
   "metadata": {},
   "source": [
    "<br><br><br><br>"
   ]
  },
  {
   "cell_type": "markdown",
   "id": "b5b3fd55-8200-40b0-8b4f-3e797d04eee8",
   "metadata": {
    "slideshow": {
     "slide_type": "slide"
    }
   },
   "source": [
    "Let's examine confusion matrix separately for the two genders we have in the data. "
   ]
  },
  {
   "cell_type": "markdown",
   "id": "03782ecc-9797-4d0d-b9c3-32edb2c4151c",
   "metadata": {},
   "source": [
    "**Get predictions for `y_female` and `y_male` with `pipe_lr`**"
   ]
  },
  {
   "cell_type": "code",
   "execution_count": 17,
   "id": "69632f57-c866-4809-b407-550d1585ee98",
   "metadata": {
    "execution": {
     "iopub.execute_input": "2023-06-19T16:39:51.928185Z",
     "iopub.status.busy": "2023-06-19T16:39:51.927470Z",
     "iopub.status.idle": "2023-06-19T16:39:51.940653Z",
     "shell.execute_reply": "2023-06-19T16:39:51.937815Z",
     "shell.execute_reply.started": "2023-06-19T16:39:51.928120Z"
    },
    "tags": []
   },
   "outputs": [
    {
     "data": {
      "text/plain": [
       "array(['sex_Male'], dtype=object)"
      ]
     },
     "execution_count": 17,
     "metadata": {},
     "output_type": "execute_result"
    }
   ],
   "source": [
    "pipe_lr[0].named_transformers_['pipeline-2']['onehotencoder'].get_feature_names_out(['sex'])"
   ]
  },
  {
   "cell_type": "code",
   "execution_count": 18,
   "id": "b3bce4e1-465f-4b59-ae9f-2d05c3f36a4a",
   "metadata": {
    "execution": {
     "iopub.execute_input": "2023-06-19T16:39:51.945365Z",
     "iopub.status.busy": "2023-06-19T16:39:51.944085Z",
     "iopub.status.idle": "2023-06-19T16:39:51.968677Z",
     "shell.execute_reply": "2023-06-19T16:39:51.967011Z",
     "shell.execute_reply.started": "2023-06-19T16:39:51.945306Z"
    },
    "tags": []
   },
   "outputs": [
    {
     "data": {
      "text/html": [
       "<div>\n",
       "<style scoped>\n",
       "    .dataframe tbody tr th:only-of-type {\n",
       "        vertical-align: middle;\n",
       "    }\n",
       "\n",
       "    .dataframe tbody tr th {\n",
       "        vertical-align: top;\n",
       "    }\n",
       "\n",
       "    .dataframe thead th {\n",
       "        text-align: right;\n",
       "    }\n",
       "</style>\n",
       "<table border=\"1\" class=\"dataframe\">\n",
       "  <thead>\n",
       "    <tr style=\"text-align: right;\">\n",
       "      <th></th>\n",
       "      <th>age</th>\n",
       "      <th>workclass</th>\n",
       "      <th>fnlwgt</th>\n",
       "      <th>education</th>\n",
       "      <th>education.num</th>\n",
       "      <th>marital.status</th>\n",
       "      <th>occupation</th>\n",
       "      <th>relationship</th>\n",
       "      <th>race</th>\n",
       "      <th>sex</th>\n",
       "      <th>capital.gain</th>\n",
       "      <th>capital.loss</th>\n",
       "      <th>hours.per.week</th>\n",
       "      <th>native.country</th>\n",
       "    </tr>\n",
       "  </thead>\n",
       "  <tbody>\n",
       "    <tr>\n",
       "      <th>14160</th>\n",
       "      <td>29</td>\n",
       "      <td>Private</td>\n",
       "      <td>280618</td>\n",
       "      <td>Some-college</td>\n",
       "      <td>10</td>\n",
       "      <td>Married-civ-spouse</td>\n",
       "      <td>Handlers-cleaners</td>\n",
       "      <td>Husband</td>\n",
       "      <td>White</td>\n",
       "      <td>Male</td>\n",
       "      <td>0</td>\n",
       "      <td>0</td>\n",
       "      <td>40</td>\n",
       "      <td>United-States</td>\n",
       "    </tr>\n",
       "    <tr>\n",
       "      <th>27048</th>\n",
       "      <td>19</td>\n",
       "      <td>Private</td>\n",
       "      <td>439779</td>\n",
       "      <td>Some-college</td>\n",
       "      <td>10</td>\n",
       "      <td>Never-married</td>\n",
       "      <td>Sales</td>\n",
       "      <td>Own-child</td>\n",
       "      <td>White</td>\n",
       "      <td>Male</td>\n",
       "      <td>0</td>\n",
       "      <td>0</td>\n",
       "      <td>15</td>\n",
       "      <td>United-States</td>\n",
       "    </tr>\n",
       "    <tr>\n",
       "      <th>28868</th>\n",
       "      <td>28</td>\n",
       "      <td>Private</td>\n",
       "      <td>204734</td>\n",
       "      <td>Some-college</td>\n",
       "      <td>10</td>\n",
       "      <td>Married-civ-spouse</td>\n",
       "      <td>Tech-support</td>\n",
       "      <td>Wife</td>\n",
       "      <td>White</td>\n",
       "      <td>Female</td>\n",
       "      <td>0</td>\n",
       "      <td>0</td>\n",
       "      <td>40</td>\n",
       "      <td>United-States</td>\n",
       "    </tr>\n",
       "  </tbody>\n",
       "</table>\n",
       "</div>"
      ],
      "text/plain": [
       "       age workclass  fnlwgt     education  education.num      marital.status  \\\n",
       "14160   29   Private  280618  Some-college             10  Married-civ-spouse   \n",
       "27048   19   Private  439779  Some-college             10       Never-married   \n",
       "28868   28   Private  204734  Some-college             10  Married-civ-spouse   \n",
       "\n",
       "              occupation relationship   race     sex  capital.gain  \\\n",
       "14160  Handlers-cleaners      Husband  White    Male             0   \n",
       "27048              Sales    Own-child  White    Male             0   \n",
       "28868       Tech-support         Wife  White  Female             0   \n",
       "\n",
       "       capital.loss  hours.per.week native.country  \n",
       "14160             0              40  United-States  \n",
       "27048             0              15  United-States  \n",
       "28868             0              40  United-States  "
      ]
     },
     "execution_count": 18,
     "metadata": {},
     "output_type": "execute_result"
    }
   ],
   "source": [
    "X_test.head(3)"
   ]
  },
  {
   "cell_type": "code",
   "execution_count": 19,
   "id": "8c5ea7d3-78c1-467e-8557-9b339e9f8413",
   "metadata": {
    "execution": {
     "iopub.execute_input": "2023-06-19T16:39:51.970798Z",
     "iopub.status.busy": "2023-06-19T16:39:51.970424Z",
     "iopub.status.idle": "2023-06-19T16:39:51.996509Z",
     "shell.execute_reply": "2023-06-19T16:39:51.994552Z",
     "shell.execute_reply.started": "2023-06-19T16:39:51.970768Z"
    },
    "slideshow": {
     "slide_type": "slide"
    },
    "tags": []
   },
   "outputs": [],
   "source": [
    "X_female = X_test.query(\"sex=='Female'\")\n",
    "X_male = X_test.query(\"sex=='Male'\")\n",
    "\n",
    "y_female = y_test[X_female.index]\n",
    "y_male = y_test[X_male.index]"
   ]
  },
  {
   "cell_type": "code",
   "execution_count": 20,
   "id": "09505b4f-c3f3-4f8b-98e8-88d94492792f",
   "metadata": {
    "execution": {
     "iopub.execute_input": "2023-06-19T16:39:51.998898Z",
     "iopub.status.busy": "2023-06-19T16:39:51.998509Z",
     "iopub.status.idle": "2023-06-19T16:39:52.184342Z",
     "shell.execute_reply": "2023-06-19T16:39:52.181517Z",
     "shell.execute_reply.started": "2023-06-19T16:39:51.998865Z"
    }
   },
   "outputs": [],
   "source": [
    "female_preds = pipe_lr.predict(X_female)\n",
    "male_preds = pipe_lr.predict(X_male)"
   ]
  },
  {
   "cell_type": "markdown",
   "id": "93345e84-dc2b-4177-959a-7c7a79afa930",
   "metadata": {},
   "source": [
    "<br><br>"
   ]
  },
  {
   "cell_type": "markdown",
   "id": "7a131f0c-d47f-463d-8ecf-3719dc883271",
   "metadata": {},
   "source": [
    "Let's examine the accuracy and confusion matrix for both classes."
   ]
  },
  {
   "cell_type": "code",
   "execution_count": 21,
   "id": "e46d632e-8fc5-4d4b-a7e6-3453c38f9ab9",
   "metadata": {
    "execution": {
     "iopub.execute_input": "2023-06-19T16:39:52.187544Z",
     "iopub.status.busy": "2023-06-19T16:39:52.187059Z",
     "iopub.status.idle": "2023-06-19T16:39:52.974929Z",
     "shell.execute_reply": "2023-06-19T16:39:52.973106Z",
     "shell.execute_reply.started": "2023-06-19T16:39:52.187500Z"
    },
    "tags": []
   },
   "outputs": [
    {
     "data": {
      "image/png": "[encoded data removed]",
      "text/plain": [
       "<Figure size 1000x400 with 4 Axes>"
      ]
     },
     "metadata": {},
     "output_type": "display_data"
    }
   ],
   "source": [
    "fig, ax = plt.subplots(1, 2, figsize=(10, 4))\n",
    "ax[0].set_title('Female confusion matrix')\n",
    "ax[1].set_title('Male confusion matrix')\n",
    "ConfusionMatrixDisplay.from_predictions(y_female, female_preds, ax = ax[0], **kw_cm);\n",
    "ConfusionMatrixDisplay.from_predictions(y_male, male_preds, ax = ax[1], **kw_cm);"
   ]
  },
  {
   "cell_type": "code",
   "execution_count": 22,
   "id": "d77c9f3c-08e7-4f43-bc91-e2a46ce454a0",
   "metadata": {
    "execution": {
     "iopub.execute_input": "2023-06-19T16:39:52.976907Z",
     "iopub.status.busy": "2023-06-19T16:39:52.976539Z",
     "iopub.status.idle": "2023-06-19T16:39:53.039074Z",
     "shell.execute_reply": "2023-06-19T16:39:53.037553Z",
     "shell.execute_reply.started": "2023-06-19T16:39:52.976867Z"
    },
    "tags": []
   },
   "outputs": [],
   "source": [
    "from sklearn.metrics import confusion_matrix\n",
    "\n",
    "f_TN, f_FP, f_FN, f_TP = confusion_matrix(y_female, female_preds).ravel()\n",
    "m_TN, m_FP, m_FN, m_TP = confusion_matrix(y_male, male_preds).ravel()"
   ]
  },
  {
   "cell_type": "markdown",
   "id": "5f8e7edc-e874-4e02-92aa-a523357bc359",
   "metadata": {
    "slideshow": {
     "slide_type": "slide"
    }
   },
   "source": [
    "<br><br>"
   ]
  },
  {
   "cell_type": "markdown",
   "id": "8259551d-e4e9-468e-ae62-832abe34cdd9",
   "metadata": {
    "slideshow": {
     "slide_type": "slide"
    }
   },
   "source": [
    "What's the **accuracy** of this model? "
   ]
  },
  {
   "cell_type": "code",
   "execution_count": 23,
   "id": "f65c64a4-fcef-4d2f-881a-8195352de3a4",
   "metadata": {
    "execution": {
     "iopub.execute_input": "2023-06-19T16:39:53.041022Z",
     "iopub.status.busy": "2023-06-19T16:39:53.040669Z",
     "iopub.status.idle": "2023-06-19T16:39:53.047289Z",
     "shell.execute_reply": "2023-06-19T16:39:53.046039Z",
     "shell.execute_reply.started": "2023-06-19T16:39:53.040994Z"
    },
    "tags": []
   },
   "outputs": [],
   "source": [
    "data = {\"female\": {}, \"male\": {}}"
   ]
  },
  {
   "cell_type": "code",
   "execution_count": 24,
   "id": "93bf6f30-4969-431f-b964-2b86d05b5dbf",
   "metadata": {
    "execution": {
     "iopub.execute_input": "2023-06-19T16:39:53.049372Z",
     "iopub.status.busy": "2023-06-19T16:39:53.048984Z",
     "iopub.status.idle": "2023-06-19T16:39:53.084047Z",
     "shell.execute_reply": "2023-06-19T16:39:53.082734Z",
     "shell.execute_reply.started": "2023-06-19T16:39:53.049343Z"
    },
    "tags": []
   },
   "outputs": [
    {
     "name": "stdout",
     "output_type": "stream",
     "text": [
      "Accuracy female: 0.910\n",
      "Accuracy male: 0.757\n"
     ]
    }
   ],
   "source": [
    "accuracy_female = accuracy_score(y_female, female_preds)\n",
    "accuracy_male = accuracy_score(y_male, male_preds)\n",
    "\n",
    "data[\"female\"]['accuracy'] = accuracy_female\n",
    "data[\"male\"]['accuracy'] = accuracy_male\n",
    "\n",
    "print(f\"Accuracy female: {accuracy_female:.3f}\")\n",
    "print(f\"Accuracy male: {accuracy_male:.3f}\")"
   ]
  },
  {
   "cell_type": "markdown",
   "id": "58f01d9f-5773-4feb-a3d7-625dc8939bb2",
   "metadata": {
    "slideshow": {
     "slide_type": "slide"
    }
   },
   "source": [
    "<br>"
   ]
  },
  {
   "cell_type": "code",
   "execution_count": 25,
   "id": "25b1bf3a-bdd3-4d87-944e-e4c7f05b81dc",
   "metadata": {
    "execution": {
     "iopub.execute_input": "2023-06-19T16:39:53.086867Z",
     "iopub.status.busy": "2023-06-19T16:39:53.086364Z",
     "iopub.status.idle": "2023-06-19T16:39:53.107801Z",
     "shell.execute_reply": "2023-06-19T16:39:53.106338Z",
     "shell.execute_reply.started": "2023-06-19T16:39:53.086824Z"
    }
   },
   "outputs": [
    {
     "data": {
      "text/html": [
       "<div>\n",
       "<style scoped>\n",
       "    .dataframe tbody tr th:only-of-type {\n",
       "        vertical-align: middle;\n",
       "    }\n",
       "\n",
       "    .dataframe tbody tr th {\n",
       "        vertical-align: top;\n",
       "    }\n",
       "\n",
       "    .dataframe thead th {\n",
       "        text-align: right;\n",
       "    }\n",
       "</style>\n",
       "<table border=\"1\" class=\"dataframe\">\n",
       "  <thead>\n",
       "    <tr style=\"text-align: right;\">\n",
       "      <th></th>\n",
       "      <th>both</th>\n",
       "      <th>female</th>\n",
       "      <th>male</th>\n",
       "    </tr>\n",
       "    <tr>\n",
       "      <th>income</th>\n",
       "      <th></th>\n",
       "      <th></th>\n",
       "      <th></th>\n",
       "    </tr>\n",
       "  </thead>\n",
       "  <tbody>\n",
       "    <tr>\n",
       "      <th>&lt;=50K</th>\n",
       "      <td>0.758464</td>\n",
       "      <td>0.892675</td>\n",
       "      <td>0.691999</td>\n",
       "    </tr>\n",
       "    <tr>\n",
       "      <th>&gt;50K</th>\n",
       "      <td>0.241536</td>\n",
       "      <td>0.107325</td>\n",
       "      <td>0.308001</td>\n",
       "    </tr>\n",
       "  </tbody>\n",
       "</table>\n",
       "</div>"
      ],
      "text/plain": [
       "            both    female      male\n",
       "income                              \n",
       "<=50K   0.758464  0.892675  0.691999\n",
       ">50K    0.241536  0.107325  0.308001"
      ]
     },
     "execution_count": 25,
     "metadata": {},
     "output_type": "execute_result"
    }
   ],
   "source": [
    "pd.DataFrame({\n",
    "    \"both\": y_test.value_counts(normalize=True),\n",
    "    \"female\": y_female.value_counts(normalize=True),\n",
    "    \"male\": y_male.value_counts(normalize=True)\n",
    "})"
   ]
  },
  {
   "cell_type": "markdown",
   "id": "256ba124-7d9e-4e21-8d97-5b14fd0d538a",
   "metadata": {},
   "source": [
    "There is more class imbalance for female! "
   ]
  },
  {
   "cell_type": "markdown",
   "id": "16fb08a3-fe70-48d9-bf83-61f3e877ee54",
   "metadata": {
    "slideshow": {
     "slide_type": "slide"
    }
   },
   "source": [
    "<br><br>"
   ]
  },
  {
   "cell_type": "markdown",
   "id": "2635c9a0-2dd9-4bd8-af52-0c61c1241d62",
   "metadata": {
    "slideshow": {
     "slide_type": "slide"
    }
   },
   "source": [
    "**As an example**, let's assume that a company is using **this classifier for loan approval** with a simple rule that:\n",
    "- if the income is >50K, approve the loan, else reject the loan."
   ]
  },
  {
   "cell_type": "markdown",
   "id": "87f090c1-322a-45d5-8ff7-4b2f7ea19e5b",
   "metadata": {
    "slideshow": {
     "slide_type": "slide"
    }
   },
   "source": [
    "<br><br>"
   ]
  },
  {
   "cell_type": "markdown",
   "id": "13b4f2e7-9d21-4d75-b1d2-287baa4c5c96",
   "metadata": {
    "slideshow": {
     "slide_type": "slide"
    }
   },
   "source": [
    "**Statistical parity** suggests that the proportion of each segment of a protected class (e.g. sex) should receive the positive outcome at equal rates. For example, the proportion of loans approved for female should be equal to male."
   ]
  },
  {
   "cell_type": "markdown",
   "id": "7dbe96c2-ab59-4452-b7af-d55a4848d088",
   "metadata": {
    "slideshow": {
     "slide_type": "slide"
    }
   },
   "source": [
    "<br><br>"
   ]
  },
  {
   "cell_type": "markdown",
   "id": "84fd1041-6eba-4650-b96a-3fb0e9b915e8",
   "metadata": {
    "slideshow": {
     "slide_type": "-"
    }
   },
   "source": [
    "Calculate the **precision** for male and female."
   ]
  },
  {
   "cell_type": "code",
   "execution_count": 26,
   "id": "49bb79a6-4c0b-4b0b-b9c7-d04df3ed9de5",
   "metadata": {
    "execution": {
     "iopub.execute_input": "2023-06-19T16:39:53.109520Z",
     "iopub.status.busy": "2023-06-19T16:39:53.109183Z",
     "iopub.status.idle": "2023-06-19T16:39:53.220113Z",
     "shell.execute_reply": "2023-06-19T16:39:53.218552Z",
     "shell.execute_reply.started": "2023-06-19T16:39:53.109492Z"
    },
    "tags": []
   },
   "outputs": [
    {
     "name": "stdout",
     "output_type": "stream",
     "text": [
      "Precision female: 0.57063\n",
      "Precision male: 0.57057\n"
     ]
    }
   ],
   "source": [
    "precision_female = precision_score(y_female, female_preds, pos_label=\">50K\")\n",
    "precision_male = precision_score(y_male, male_preds, pos_label=\">50K\")\n",
    "\n",
    "data[\"female\"]['precision'] = precision_female\n",
    "data[\"male\"]['precision'] = precision_male\n",
    "\n",
    "print(\"Precision female: {:.5f}\".format(precision_female))\n",
    "print(\"Precision male: {:.5f}\".format(precision_male))"
   ]
  },
  {
   "cell_type": "markdown",
   "id": "207ff448-8190-4fc2-98de-26fc165bd109",
   "metadata": {},
   "source": [
    "<br>"
   ]
  },
  {
   "cell_type": "code",
   "execution_count": 27,
   "id": "8a9d4d8d-2629-411d-8478-e710d1f354c4",
   "metadata": {
    "execution": {
     "iopub.execute_input": "2023-06-19T16:39:53.221823Z",
     "iopub.status.busy": "2023-06-19T16:39:53.221465Z",
     "iopub.status.idle": "2023-06-19T16:39:53.238122Z",
     "shell.execute_reply": "2023-06-19T16:39:53.235790Z",
     "shell.execute_reply.started": "2023-06-19T16:39:53.221793Z"
    },
    "tags": []
   },
   "outputs": [
    {
     "data": {
      "text/html": [
       "<div>\n",
       "<style scoped>\n",
       "    .dataframe tbody tr th:only-of-type {\n",
       "        vertical-align: middle;\n",
       "    }\n",
       "\n",
       "    .dataframe tbody tr th {\n",
       "        vertical-align: top;\n",
       "    }\n",
       "\n",
       "    .dataframe thead th {\n",
       "        text-align: right;\n",
       "    }\n",
       "</style>\n",
       "<table border=\"1\" class=\"dataframe\">\n",
       "  <thead>\n",
       "    <tr style=\"text-align: right;\">\n",
       "      <th></th>\n",
       "      <th>count</th>\n",
       "      <th>positive outcome</th>\n",
       "      <th>proportion</th>\n",
       "    </tr>\n",
       "  </thead>\n",
       "  <tbody>\n",
       "    <tr>\n",
       "      <th>female</th>\n",
       "      <td>4314</td>\n",
       "      <td>538</td>\n",
       "      <td>0.12471</td>\n",
       "    </tr>\n",
       "    <tr>\n",
       "      <th>male</th>\n",
       "      <td>8711</td>\n",
       "      <td>3996</td>\n",
       "      <td>0.45873</td>\n",
       "    </tr>\n",
       "  </tbody>\n",
       "</table>\n",
       "</div>"
      ],
      "text/plain": [
       "        count  positive outcome  proportion\n",
       "female   4314               538     0.12471\n",
       "male     8711              3996     0.45873"
      ]
     },
     "execution_count": 27,
     "metadata": {},
     "output_type": "execute_result"
    }
   ],
   "source": [
    "pd.DataFrame({\n",
    "    'count': [len(y_female), len(y_male)],\n",
    "    'positive outcome': [f_TP + f_FP, m_TP + m_FP],\n",
    "    'proportion': [(f_TP + f_FP) / len(y_female), (m_TP + m_FP) / len(y_male)],\n",
    "}, index=['female', 'male'])"
   ]
  },
  {
   "cell_type": "markdown",
   "id": "941ff0f0-272f-4522-b14e-18adeb6d89d1",
   "metadata": {},
   "source": [
    "<br>\n",
    "Based on your results, do you think this income classifier is fair?"
   ]
  },
  {
   "cell_type": "markdown",
   "id": "95fc8eb3-679d-43c3-aea3-475991a218b4",
   "metadata": {},
   "source": [
    "<br><br>"
   ]
  },
  {
   "cell_type": "markdown",
   "id": "c764f567-ddca-4eee-9aa9-03168ee3b173",
   "metadata": {
    "slideshow": {
     "slide_type": "slide"
    }
   },
   "source": [
    "**Equal opportunity** suggests that each group should get the positive outcome at equal rates, assuming that people in this group qualify for it. For example, if a man and a woman have both a certain level of income, we want them to have the same chance of getting the loan. In other words, the true positive rate (TPR or recall) of both groups should be equal."
   ]
  },
  {
   "cell_type": "code",
   "execution_count": 28,
   "id": "14d35992-dcd5-4bb1-b81e-5d401f854bd4",
   "metadata": {
    "execution": {
     "iopub.execute_input": "2023-06-19T16:39:53.240722Z",
     "iopub.status.busy": "2023-06-19T16:39:53.240285Z",
     "iopub.status.idle": "2023-06-19T16:39:53.351491Z",
     "shell.execute_reply": "2023-06-19T16:39:53.349960Z",
     "shell.execute_reply.started": "2023-06-19T16:39:53.240693Z"
    },
    "tags": []
   },
   "outputs": [
    {
     "name": "stdout",
     "output_type": "stream",
     "text": [
      "Recall female: 0.663\n",
      "Recall male: 0.850\n"
     ]
    }
   ],
   "source": [
    "recall_female = recall_score(y_female, female_preds, pos_label=\">50K\")\n",
    "recall_male = recall_score(y_male, male_preds, pos_label=\">50K\")\n",
    "\n",
    "data[\"female\"]['recall'] = recall_female\n",
    "data[\"male\"]['recall'] = recall_male\n",
    "\n",
    "print(\"Recall female: {:.3f}\".format(recall_female))\n",
    "print(\"Recall male: {:.3f}\".format(recall_male))"
   ]
  },
  {
   "cell_type": "markdown",
   "id": "a3fddff8-5f03-45d8-8399-b0634541bb10",
   "metadata": {},
   "source": [
    "<br><br>"
   ]
  },
  {
   "cell_type": "markdown",
   "id": "e723ed31-cbad-42e9-bed5-576eaf0ad270",
   "metadata": {
    "slideshow": {
     "slide_type": "slide"
    }
   },
   "source": [
    "There is usually a trade-off between rationality (adopting effective means to achieve your desired outcome) and bias (in system). The desired outcome of banks, for example, is to maximize their profit. So in many circumstances, they not only care about approving as many qualified applications as possible (true positive), but also to avoid approving unqualified applications (false positive) because default loan could have detrimental effects for them. \n",
    "\n",
    "Let's examine false positive rate (FPR) of both groups."
   ]
  },
  {
   "cell_type": "code",
   "execution_count": 29,
   "id": "47db2bda-253f-4032-925e-7d9e94e69510",
   "metadata": {
    "execution": {
     "iopub.execute_input": "2023-06-19T16:39:53.353747Z",
     "iopub.status.busy": "2023-06-19T16:39:53.353211Z",
     "iopub.status.idle": "2023-06-19T16:39:53.362624Z",
     "shell.execute_reply": "2023-06-19T16:39:53.361051Z",
     "shell.execute_reply.started": "2023-06-19T16:39:53.353706Z"
    },
    "tags": []
   },
   "outputs": [
    {
     "name": "stdout",
     "output_type": "stream",
     "text": [
      "FPR female: 0.060\n",
      "FPR male: 0.285\n"
     ]
    }
   ],
   "source": [
    "fpr_female = f_FP / (f_FP + f_TN)\n",
    "fpr_male = m_FP / (m_FP + m_TN)\n",
    "\n",
    "data[\"female\"]['FPR'] = fpr_female\n",
    "data[\"male\"]['FPR'] = fpr_male\n",
    "\n",
    "print(\"FPR female: {:.3f}\".format(fpr_female))\n",
    "print(\"FPR male: {:.3f}\".format(fpr_male))"
   ]
  },
  {
   "cell_type": "markdown",
   "id": "c970920c-6d21-46e2-bd88-be466aabf8f9",
   "metadata": {},
   "source": [
    "<br>"
   ]
  },
  {
   "cell_type": "code",
   "execution_count": 30,
   "id": "6ab24d05-b419-4149-8ea9-3cb46cb4868b",
   "metadata": {
    "execution": {
     "iopub.execute_input": "2023-06-19T16:39:53.364299Z",
     "iopub.status.busy": "2023-06-19T16:39:53.363964Z",
     "iopub.status.idle": "2023-06-19T16:39:53.379784Z",
     "shell.execute_reply": "2023-06-19T16:39:53.378361Z",
     "shell.execute_reply.started": "2023-06-19T16:39:53.364272Z"
    },
    "slideshow": {
     "slide_type": "slide"
    }
   },
   "outputs": [
    {
     "data": {
      "text/html": [
       "<div>\n",
       "<style scoped>\n",
       "    .dataframe tbody tr th:only-of-type {\n",
       "        vertical-align: middle;\n",
       "    }\n",
       "\n",
       "    .dataframe tbody tr th {\n",
       "        vertical-align: top;\n",
       "    }\n",
       "\n",
       "    .dataframe thead th {\n",
       "        text-align: right;\n",
       "    }\n",
       "</style>\n",
       "<table border=\"1\" class=\"dataframe\">\n",
       "  <thead>\n",
       "    <tr style=\"text-align: right;\">\n",
       "      <th></th>\n",
       "      <th>accuracy</th>\n",
       "      <th>precision</th>\n",
       "      <th>recall</th>\n",
       "      <th>FPR</th>\n",
       "    </tr>\n",
       "  </thead>\n",
       "  <tbody>\n",
       "    <tr>\n",
       "      <th>female</th>\n",
       "      <td>0.910292</td>\n",
       "      <td>0.570632</td>\n",
       "      <td>0.663067</td>\n",
       "      <td>0.059984</td>\n",
       "    </tr>\n",
       "    <tr>\n",
       "      <th>male</th>\n",
       "      <td>0.756744</td>\n",
       "      <td>0.570571</td>\n",
       "      <td>0.849795</td>\n",
       "      <td>0.284672</td>\n",
       "    </tr>\n",
       "  </tbody>\n",
       "</table>\n",
       "</div>"
      ],
      "text/plain": [
       "        accuracy  precision    recall       FPR\n",
       "female  0.910292   0.570632  0.663067  0.059984\n",
       "male    0.756744   0.570571  0.849795  0.284672"
      ]
     },
     "execution_count": 30,
     "metadata": {},
     "output_type": "execute_result"
    }
   ],
   "source": [
    "pd.DataFrame(data).T"
   ]
  },
  {
   "cell_type": "markdown",
   "id": "26850e49-217a-4223-a614-96511b9c6583",
   "metadata": {},
   "source": [
    "<br><br><br><br>"
   ]
  },
  {
   "cell_type": "markdown",
   "id": "450d938b-c61f-46b5-b3cc-13a2d70f2a5e",
   "metadata": {
    "slideshow": {
     "slide_type": "-"
    }
   },
   "source": [
    "### ❓❓ Questions for group discussion\n",
    "\n",
    "Let's assume that a company is using this classifier for loan approval with a simple rule that if the income is >=50K, approve the loan, else reject the loan. \n",
    "\n",
    "Discuss the questions below with your neighbour(s) and write the main points from your discussion in this Google Doc for [section 911](https://docs.google.com/document/d/1VONJX9w9SIpOrW2SCn8X8r76-2rMYWDxQd6JLBPEUsg) or [section 912](https://docs.google.com/document/d/1It0OLpD6gGAWYfGVQruc_45aw9ZwZDQ8JjaQ2vxNwGI/edit?usp=sharing).\n",
    "\n",
    "1. Which group has a higher accuracy?\n",
    "2. Which group has a higher precision for class >50K? What about recall for class >50K?\n",
    "3. Will both groups have more or less the same proportion of people with approved loans? \n",
    "4. If a male and a female have both a certain level of income, will they have the same chance of getting the loan?\n",
    "5. Banks want to avoid approving unqualified applications (false positives) because default loan could have detrimental effects for them. Compare the false positive rates for the two groups.    \n",
    "6. Overall, do you think this income classifier will fairly treat both groups? What will be the consequences of using this classifier in loan approval application? \n"
   ]
  },
  {
   "cell_type": "markdown",
   "id": "768333f9-1eb8-41c4-afa1-1d4f6a71d269",
   "metadata": {},
   "source": [
    "<br><br>"
   ]
  },
  {
   "cell_type": "markdown",
   "id": "6607a448-e9fc-4d69-94d3-143e2a049870",
   "metadata": {},
   "source": [
    "**Time permitting**\n",
    "1. Do you think the effect will still exist if the sex feature is removed from the model (but you still have it available separately to do the two confusion matrices)? \n",
    "2. Are there any other groups in this dataset worth examining for biases? "
   ]
  }
 ],
 "metadata": {
  "kernelspec": {
   "display_name": "Python [conda env:cpsc330]",
   "language": "python",
   "name": "conda-env-cpsc330-py"
  },
  "language_info": {
   "codemirror_mode": {
    "name": "ipython",
    "version": 3
   },
   "file_extension": ".py",
   "mimetype": "text/x-python",
   "name": "python",
   "nbconvert_exporter": "python",
   "pygments_lexer": "ipython3",
   "version": "3.10.11"
  }
 },
 "nbformat": 4,
 "nbformat_minor": 5
}
